{
 "cells": [
  {
   "cell_type": "code",
   "execution_count": 1,
   "metadata": {},
   "outputs": [],
   "source": [
    "import pandas as pd \n",
    "import numpy as np \n",
    "from pyvis.network import Network\n",
    "import matplotlib.pyplot as plt\n",
    "import seaborn as sns\n",
    "sns.set(style='whitegrid')"
   ]
  },
  {
   "cell_type": "code",
   "execution_count": 4,
   "metadata": {},
   "outputs": [],
   "source": [
    "#Get the intracellular interactions from BRENDA as dataframe\n",
    "df = pd.read_csv('BRENDA_interactions_intracellular.txt', header=0, index_col=0)"
   ]
  },
  {
   "cell_type": "code",
   "execution_count": 6,
   "metadata": {},
   "outputs": [],
   "source": [
    "#Make a dictionary of all metabolite synonyms for the same ChEBI ids\n",
    "df_mets_grouped = df[['Met', 'ChEBI']].drop_duplicates().groupby(['ChEBI'])['Met'].apply(list).reset_index()\n",
    "mets_dict = pd.Series(df_mets_grouped.Met.values, index=df_mets_grouped.ChEBI).to_dict()"
   ]
  },
  {
   "cell_type": "code",
   "execution_count": 10,
   "metadata": {},
   "outputs": [],
   "source": [
    "#Make a dataframe of unique interactions based on ChEBI id\n",
    "df_unique_chebi = df[['EC', 'Enz', 'Org', 'Mode', 'ChEBI']].drop_duplicates().reset_index(drop=True)"
   ]
  },
  {
   "attachments": {},
   "cell_type": "markdown",
   "metadata": {},
   "source": [
    "### Find most frequent activator compounds"
   ]
  },
  {
   "cell_type": "code",
   "execution_count": 21,
   "metadata": {},
   "outputs": [],
   "source": [
    "#Count the number of interactions for each activator (ChEBI id)\n",
    "top_activators = df_unique_chebi.query('Mode == \"+\"')['ChEBI'].value_counts().to_frame().reset_index()\n",
    "top_activators.columns = ['ChEBI', 'Count']\n",
    "top_activators['Met'] = top_activators['ChEBI'].map(mets_dict)"
   ]
  },
  {
   "cell_type": "code",
   "execution_count": 22,
   "metadata": {},
   "outputs": [
    {
     "data": {
      "text/html": [
       "<div>\n",
       "<style scoped>\n",
       "    .dataframe tbody tr th:only-of-type {\n",
       "        vertical-align: middle;\n",
       "    }\n",
       "\n",
       "    .dataframe tbody tr th {\n",
       "        vertical-align: top;\n",
       "    }\n",
       "\n",
       "    .dataframe thead th {\n",
       "        text-align: right;\n",
       "    }\n",
       "</style>\n",
       "<table border=\"1\" class=\"dataframe\">\n",
       "  <thead>\n",
       "    <tr style=\"text-align: right;\">\n",
       "      <th></th>\n",
       "      <th>ChEBI</th>\n",
       "      <th>Count</th>\n",
       "      <th>Met</th>\n",
       "    </tr>\n",
       "  </thead>\n",
       "  <tbody>\n",
       "    <tr>\n",
       "      <th>0</th>\n",
       "      <td>CHEBI:15422</td>\n",
       "      <td>335</td>\n",
       "      <td>[ATP, Adenosine triphosphate, rATP, 5'-ATP, 5'...</td>\n",
       "    </tr>\n",
       "    <tr>\n",
       "      <th>1</th>\n",
       "      <td>CHEBI:16856</td>\n",
       "      <td>324</td>\n",
       "      <td>[GSH, glutathione, reduced glutathione, glutat...</td>\n",
       "    </tr>\n",
       "    <tr>\n",
       "      <th>2</th>\n",
       "      <td>CHEBI:35235</td>\n",
       "      <td>314</td>\n",
       "      <td>[cysteine, L-cysteine, Cys, L-Cys]</td>\n",
       "    </tr>\n",
       "    <tr>\n",
       "      <th>3</th>\n",
       "      <td>CHEBI:28013</td>\n",
       "      <td>205</td>\n",
       "      <td>[D-fructose 1,6-bisphosphate, D-fructose 1,6-d...</td>\n",
       "    </tr>\n",
       "    <tr>\n",
       "      <th>4</th>\n",
       "      <td>CHEBI:29073</td>\n",
       "      <td>202</td>\n",
       "      <td>[ascorbic acid, ascorbate, L-ascorbate, L-asco...</td>\n",
       "    </tr>\n",
       "    <tr>\n",
       "      <th>5</th>\n",
       "      <td>CHEBI:16027</td>\n",
       "      <td>182</td>\n",
       "      <td>[AMP, 5'-AMP, 5'-adenylic acid, adenosine 5'-m...</td>\n",
       "    </tr>\n",
       "    <tr>\n",
       "      <th>6</th>\n",
       "      <td>CHEBI:16761</td>\n",
       "      <td>160</td>\n",
       "      <td>[ADP, 5'-ADP, 5'-adenosine diphosphate, Adenos...</td>\n",
       "    </tr>\n",
       "    <tr>\n",
       "      <th>7</th>\n",
       "      <td>CHEBI:16236</td>\n",
       "      <td>154</td>\n",
       "      <td>[ethanol, ethyl alcohol]</td>\n",
       "    </tr>\n",
       "    <tr>\n",
       "      <th>8</th>\n",
       "      <td>CHEBI:15996</td>\n",
       "      <td>118</td>\n",
       "      <td>[GTP, guanosine 5'-triphosphate, 5'-GTP, guano...</td>\n",
       "    </tr>\n",
       "    <tr>\n",
       "      <th>9</th>\n",
       "      <td>CHEBI:18405</td>\n",
       "      <td>110</td>\n",
       "      <td>[pyridoxal 5'-phosphate, pyridoxal phosphate, ...</td>\n",
       "    </tr>\n",
       "  </tbody>\n",
       "</table>\n",
       "</div>"
      ],
      "text/plain": [
       "         ChEBI  Count                                                Met\n",
       "0  CHEBI:15422    335  [ATP, Adenosine triphosphate, rATP, 5'-ATP, 5'...\n",
       "1  CHEBI:16856    324  [GSH, glutathione, reduced glutathione, glutat...\n",
       "2  CHEBI:35235    314                 [cysteine, L-cysteine, Cys, L-Cys]\n",
       "3  CHEBI:28013    205  [D-fructose 1,6-bisphosphate, D-fructose 1,6-d...\n",
       "4  CHEBI:29073    202  [ascorbic acid, ascorbate, L-ascorbate, L-asco...\n",
       "5  CHEBI:16027    182  [AMP, 5'-AMP, 5'-adenylic acid, adenosine 5'-m...\n",
       "6  CHEBI:16761    160  [ADP, 5'-ADP, 5'-adenosine diphosphate, Adenos...\n",
       "7  CHEBI:16236    154                           [ethanol, ethyl alcohol]\n",
       "8  CHEBI:15996    118  [GTP, guanosine 5'-triphosphate, 5'-GTP, guano...\n",
       "9  CHEBI:18405    110  [pyridoxal 5'-phosphate, pyridoxal phosphate, ..."
      ]
     },
     "execution_count": 22,
     "metadata": {},
     "output_type": "execute_result"
    }
   ],
   "source": [
    "#Show the top ten activators\n",
    "top_activators.head(10)"
   ]
  },
  {
   "cell_type": "code",
   "execution_count": 23,
   "metadata": {},
   "outputs": [
    {
     "data": {
      "text/plain": [
       "<seaborn.axisgrid.FacetGrid at 0x210c39f9fd0>"
      ]
     },
     "execution_count": 23,
     "metadata": {},
     "output_type": "execute_result"
    },
    {
     "data": {
      "image/png": "[encoded data removed]",
      "text/plain": [
       "<Figure size 604.8x432 with 1 Axes>"
      ]
     },
     "metadata": {
      "needs_background": "light"
     },
     "output_type": "display_data"
    }
   ],
   "source": [
    "#Plot frequency distribution of activators\n",
    "ax = sns.displot(data=top_activators, x='Count', kind='hist', height=6, aspect=1.4, bins=30, log_scale=[False, True], color='darkgreen')\n",
    "ax.set_xlabels('Number of activations')\n",
    "ax.set_ylabels('Number of compounds')"
   ]
  },
  {
   "attachments": {},
   "cell_type": "markdown",
   "metadata": {},
   "source": [
    "### Find most frequent inhibitory compounds"
   ]
  },
  {
   "cell_type": "code",
   "execution_count": 25,
   "metadata": {},
   "outputs": [],
   "source": [
    "#Count the number of interactions for each inhibitor (ChEBI id)\n",
    "top_inhibitors = df_unique_chebi.query('Mode == \"-\"')['ChEBI'].value_counts().to_frame().reset_index()\n",
    "top_inhibitors.columns = ['ChEBI', 'Count']\n",
    "top_inhibitors['Met'] = top_inhibitors['ChEBI'].map(mets_dict)"
   ]
  },
  {
   "cell_type": "code",
   "execution_count": 26,
   "metadata": {},
   "outputs": [
    {
     "data": {
      "text/html": [
       "<div>\n",
       "<style scoped>\n",
       "    .dataframe tbody tr th:only-of-type {\n",
       "        vertical-align: middle;\n",
       "    }\n",
       "\n",
       "    .dataframe tbody tr th {\n",
       "        vertical-align: top;\n",
       "    }\n",
       "\n",
       "    .dataframe thead th {\n",
       "        text-align: right;\n",
       "    }\n",
       "</style>\n",
       "<table border=\"1\" class=\"dataframe\">\n",
       "  <thead>\n",
       "    <tr style=\"text-align: right;\">\n",
       "      <th></th>\n",
       "      <th>ChEBI</th>\n",
       "      <th>Count</th>\n",
       "      <th>Met</th>\n",
       "    </tr>\n",
       "  </thead>\n",
       "  <tbody>\n",
       "    <tr>\n",
       "      <th>0</th>\n",
       "      <td>CHEBI:15422</td>\n",
       "      <td>1083</td>\n",
       "      <td>[ATP, Adenosine triphosphate, rATP, 5'-ATP, 5'...</td>\n",
       "    </tr>\n",
       "    <tr>\n",
       "      <th>1</th>\n",
       "      <td>CHEBI:16761</td>\n",
       "      <td>914</td>\n",
       "      <td>[ADP, 5'-ADP, 5'-adenosine diphosphate, Adenos...</td>\n",
       "    </tr>\n",
       "    <tr>\n",
       "      <th>2</th>\n",
       "      <td>CHEBI:16027</td>\n",
       "      <td>749</td>\n",
       "      <td>[AMP, 5'-AMP, 5'-adenylic acid, adenosine 5'-m...</td>\n",
       "    </tr>\n",
       "    <tr>\n",
       "      <th>3</th>\n",
       "      <td>CHEBI:35235</td>\n",
       "      <td>511</td>\n",
       "      <td>[cysteine, L-cysteine, Cys, L-Cys]</td>\n",
       "    </tr>\n",
       "    <tr>\n",
       "      <th>4</th>\n",
       "      <td>CHEBI:16199</td>\n",
       "      <td>435</td>\n",
       "      <td>[Urea, CO(NH2)2]</td>\n",
       "    </tr>\n",
       "    <tr>\n",
       "      <th>5</th>\n",
       "      <td>CHEBI:16908</td>\n",
       "      <td>412</td>\n",
       "      <td>[NADH, beta-NADH]</td>\n",
       "    </tr>\n",
       "    <tr>\n",
       "      <th>6</th>\n",
       "      <td>CHEBI:16856</td>\n",
       "      <td>366</td>\n",
       "      <td>[GSH, glutathione, reduced glutathione, glutat...</td>\n",
       "    </tr>\n",
       "    <tr>\n",
       "      <th>7</th>\n",
       "      <td>CHEBI:30769</td>\n",
       "      <td>357</td>\n",
       "      <td>[citrate, Citric acid, Magnesium citrate]</td>\n",
       "    </tr>\n",
       "    <tr>\n",
       "      <th>8</th>\n",
       "      <td>CHEBI:4167</td>\n",
       "      <td>346</td>\n",
       "      <td>[glucose, D-glucose, dextrose]</td>\n",
       "    </tr>\n",
       "    <tr>\n",
       "      <th>9</th>\n",
       "      <td>CHEBI:18009</td>\n",
       "      <td>307</td>\n",
       "      <td>[NADP+, NAD(P)+, NADP, beta-NADP+]</td>\n",
       "    </tr>\n",
       "  </tbody>\n",
       "</table>\n",
       "</div>"
      ],
      "text/plain": [
       "         ChEBI  Count                                                Met\n",
       "0  CHEBI:15422   1083  [ATP, Adenosine triphosphate, rATP, 5'-ATP, 5'...\n",
       "1  CHEBI:16761    914  [ADP, 5'-ADP, 5'-adenosine diphosphate, Adenos...\n",
       "2  CHEBI:16027    749  [AMP, 5'-AMP, 5'-adenylic acid, adenosine 5'-m...\n",
       "3  CHEBI:35235    511                 [cysteine, L-cysteine, Cys, L-Cys]\n",
       "4  CHEBI:16199    435                                   [Urea, CO(NH2)2]\n",
       "5  CHEBI:16908    412                                  [NADH, beta-NADH]\n",
       "6  CHEBI:16856    366  [GSH, glutathione, reduced glutathione, glutat...\n",
       "7  CHEBI:30769    357          [citrate, Citric acid, Magnesium citrate]\n",
       "8   CHEBI:4167    346                     [glucose, D-glucose, dextrose]\n",
       "9  CHEBI:18009    307                 [NADP+, NAD(P)+, NADP, beta-NADP+]"
      ]
     },
     "execution_count": 26,
     "metadata": {},
     "output_type": "execute_result"
    }
   ],
   "source": [
    "#Show the top ten inhibitors\n",
    "top_inhibitors.head(10)"
   ]
  },
  {
   "cell_type": "code",
   "execution_count": 30,
   "metadata": {},
   "outputs": [
    {
     "data": {
      "text/plain": [
       "<seaborn.axisgrid.FacetGrid at 0x210c45bc160>"
      ]
     },
     "execution_count": 30,
     "metadata": {},
     "output_type": "execute_result"
    },
    {
     "data": {
      "image/png": "[encoded data removed]",
      "text/plain": [
       "<Figure size 604.8x432 with 1 Axes>"
      ]
     },
     "metadata": {
      "needs_background": "light"
     },
     "output_type": "display_data"
    }
   ],
   "source": [
    "#Plot frequency distribution of inhibitors\n",
    "ax = sns.displot(data=top_inhibitors, x='Count', kind='hist', height=6, aspect=1.4, bins=30, log_scale=[False, True], color='darkred')\n",
    "ax.set_xlabels('Number of inhibitions')\n",
    "ax.set_ylabels('Number of compounds')"
   ]
  },
  {
   "attachments": {},
   "cell_type": "markdown",
   "metadata": {},
   "source": [
    "### Find most frequently targeted enzymes"
   ]
  },
  {
   "cell_type": "code",
   "execution_count": 31,
   "metadata": {},
   "outputs": [],
   "source": [
    "#Count the number of interactions for each enzyme/EC number\n",
    "top_enz_targets = df_unique_chebi[['Enz', 'EC']].value_counts().to_frame().reset_index()\n",
    "top_enz_targets.columns = ['Enz', 'EC', 'Count']"
   ]
  },
  {
   "cell_type": "code",
   "execution_count": 32,
   "metadata": {},
   "outputs": [
    {
     "data": {
      "text/html": [
       "<div>\n",
       "<style scoped>\n",
       "    .dataframe tbody tr th:only-of-type {\n",
       "        vertical-align: middle;\n",
       "    }\n",
       "\n",
       "    .dataframe tbody tr th {\n",
       "        vertical-align: top;\n",
       "    }\n",
       "\n",
       "    .dataframe thead th {\n",
       "        text-align: right;\n",
       "    }\n",
       "</style>\n",
       "<table border=\"1\" class=\"dataframe\">\n",
       "  <thead>\n",
       "    <tr style=\"text-align: right;\">\n",
       "      <th></th>\n",
       "      <th>Enz</th>\n",
       "      <th>EC</th>\n",
       "      <th>Count</th>\n",
       "    </tr>\n",
       "  </thead>\n",
       "  <tbody>\n",
       "    <tr>\n",
       "      <th>0</th>\n",
       "      <td>glucose-1-phosphate adenylyltransferase</td>\n",
       "      <td>2.7.7.27</td>\n",
       "      <td>926</td>\n",
       "    </tr>\n",
       "    <tr>\n",
       "      <th>1</th>\n",
       "      <td>pyruvate kinase</td>\n",
       "      <td>2.7.1.40</td>\n",
       "      <td>314</td>\n",
       "    </tr>\n",
       "    <tr>\n",
       "      <th>2</th>\n",
       "      <td>beta-glucosidase</td>\n",
       "      <td>3.2.1.21</td>\n",
       "      <td>295</td>\n",
       "    </tr>\n",
       "    <tr>\n",
       "      <th>3</th>\n",
       "      <td>6-phosphofructokinase</td>\n",
       "      <td>2.7.1.11</td>\n",
       "      <td>260</td>\n",
       "    </tr>\n",
       "    <tr>\n",
       "      <th>4</th>\n",
       "      <td>tyrosinase</td>\n",
       "      <td>1.14.18.1</td>\n",
       "      <td>247</td>\n",
       "    </tr>\n",
       "    <tr>\n",
       "      <th>5</th>\n",
       "      <td>phosphoenolpyruvate carboxylase</td>\n",
       "      <td>4.1.1.31</td>\n",
       "      <td>210</td>\n",
       "    </tr>\n",
       "    <tr>\n",
       "      <th>6</th>\n",
       "      <td>glycogen phosphorylase</td>\n",
       "      <td>2.4.1.1</td>\n",
       "      <td>188</td>\n",
       "    </tr>\n",
       "    <tr>\n",
       "      <th>7</th>\n",
       "      <td>glutamine synthetase</td>\n",
       "      <td>6.3.1.2</td>\n",
       "      <td>171</td>\n",
       "    </tr>\n",
       "    <tr>\n",
       "      <th>8</th>\n",
       "      <td>L-lactate dehydrogenase</td>\n",
       "      <td>1.1.1.27</td>\n",
       "      <td>164</td>\n",
       "    </tr>\n",
       "    <tr>\n",
       "      <th>9</th>\n",
       "      <td>citrate synthase (unknown stereospecificity)</td>\n",
       "      <td>2.3.3.16</td>\n",
       "      <td>154</td>\n",
       "    </tr>\n",
       "  </tbody>\n",
       "</table>\n",
       "</div>"
      ],
      "text/plain": [
       "                                            Enz         EC  Count\n",
       "0       glucose-1-phosphate adenylyltransferase   2.7.7.27    926\n",
       "1                               pyruvate kinase   2.7.1.40    314\n",
       "2                              beta-glucosidase   3.2.1.21    295\n",
       "3                         6-phosphofructokinase   2.7.1.11    260\n",
       "4                                    tyrosinase  1.14.18.1    247\n",
       "5               phosphoenolpyruvate carboxylase   4.1.1.31    210\n",
       "6                        glycogen phosphorylase    2.4.1.1    188\n",
       "7                          glutamine synthetase    6.3.1.2    171\n",
       "8                       L-lactate dehydrogenase   1.1.1.27    164\n",
       "9  citrate synthase (unknown stereospecificity)   2.3.3.16    154"
      ]
     },
     "execution_count": 32,
     "metadata": {},
     "output_type": "execute_result"
    }
   ],
   "source": [
    "#Show the top ten regulated enzymes\n",
    "top_enz_targets.head(10)"
   ]
  },
  {
   "cell_type": "code",
   "execution_count": 33,
   "metadata": {},
   "outputs": [
    {
     "data": {
      "text/plain": [
       "<seaborn.axisgrid.FacetGrid at 0x210c9f4d040>"
      ]
     },
     "execution_count": 33,
     "metadata": {},
     "output_type": "execute_result"
    },
    {
     "data": {
      "image/png": "[encoded data removed]",
      "text/plain": [
       "<Figure size 604.8x432 with 1 Axes>"
      ]
     },
     "metadata": {
      "needs_background": "light"
     },
     "output_type": "display_data"
    }
   ],
   "source": [
    "#Plot frequency distribution of enzymes\n",
    "ax = sns.displot(data=top_enz_targets, x='Count', kind='hist', height=6, aspect=1.4, bins=30, log_scale=[False, True])\n",
    "ax.set_xlabels('Number of interactions')\n",
    "ax.set_ylabels('Number of enzymes')"
   ]
  },
  {
   "attachments": {},
   "cell_type": "markdown",
   "metadata": {},
   "source": [
    "### Find organisms with most documented interactions"
   ]
  },
  {
   "cell_type": "code",
   "execution_count": 34,
   "metadata": {},
   "outputs": [],
   "source": [
    "#Count number of interactions documented for each organism\n",
    "top_organisms = df_unique_chebi['Org'].value_counts().to_frame().reset_index()\n",
    "top_organisms.columns = ['Org', 'Count']"
   ]
  },
  {
   "cell_type": "code",
   "execution_count": 35,
   "metadata": {},
   "outputs": [
    {
     "data": {
      "text/html": [
       "<div>\n",
       "<style scoped>\n",
       "    .dataframe tbody tr th:only-of-type {\n",
       "        vertical-align: middle;\n",
       "    }\n",
       "\n",
       "    .dataframe tbody tr th {\n",
       "        vertical-align: top;\n",
       "    }\n",
       "\n",
       "    .dataframe thead th {\n",
       "        text-align: right;\n",
       "    }\n",
       "</style>\n",
       "<table border=\"1\" class=\"dataframe\">\n",
       "  <thead>\n",
       "    <tr style=\"text-align: right;\">\n",
       "      <th></th>\n",
       "      <th>Org</th>\n",
       "      <th>Count</th>\n",
       "    </tr>\n",
       "  </thead>\n",
       "  <tbody>\n",
       "    <tr>\n",
       "      <th>0</th>\n",
       "      <td>Homo sapiens</td>\n",
       "      <td>2646</td>\n",
       "    </tr>\n",
       "    <tr>\n",
       "      <th>1</th>\n",
       "      <td>Rattus norvegicus</td>\n",
       "      <td>2438</td>\n",
       "    </tr>\n",
       "    <tr>\n",
       "      <th>2</th>\n",
       "      <td>Escherichia coli</td>\n",
       "      <td>1718</td>\n",
       "    </tr>\n",
       "    <tr>\n",
       "      <th>3</th>\n",
       "      <td>Bos taurus</td>\n",
       "      <td>1247</td>\n",
       "    </tr>\n",
       "    <tr>\n",
       "      <th>4</th>\n",
       "      <td>Saccharomyces cerevisiae</td>\n",
       "      <td>780</td>\n",
       "    </tr>\n",
       "    <tr>\n",
       "      <th>5</th>\n",
       "      <td>Mus musculus</td>\n",
       "      <td>768</td>\n",
       "    </tr>\n",
       "    <tr>\n",
       "      <th>6</th>\n",
       "      <td>Sus scrofa</td>\n",
       "      <td>716</td>\n",
       "    </tr>\n",
       "    <tr>\n",
       "      <th>7</th>\n",
       "      <td>Oryctolagus cuniculus</td>\n",
       "      <td>476</td>\n",
       "    </tr>\n",
       "    <tr>\n",
       "      <th>8</th>\n",
       "      <td>Arabidopsis thaliana</td>\n",
       "      <td>318</td>\n",
       "    </tr>\n",
       "    <tr>\n",
       "      <th>9</th>\n",
       "      <td>Gallus gallus</td>\n",
       "      <td>307</td>\n",
       "    </tr>\n",
       "  </tbody>\n",
       "</table>\n",
       "</div>"
      ],
      "text/plain": [
       "                        Org  Count\n",
       "0              Homo sapiens   2646\n",
       "1         Rattus norvegicus   2438\n",
       "2          Escherichia coli   1718\n",
       "3                Bos taurus   1247\n",
       "4  Saccharomyces cerevisiae    780\n",
       "5              Mus musculus    768\n",
       "6                Sus scrofa    716\n",
       "7     Oryctolagus cuniculus    476\n",
       "8      Arabidopsis thaliana    318\n",
       "9             Gallus gallus    307"
      ]
     },
     "execution_count": 35,
     "metadata": {},
     "output_type": "execute_result"
    }
   ],
   "source": [
    "#Show the top ten organisms\n",
    "top_organisms.head(10)"
   ]
  },
  {
   "cell_type": "code",
   "execution_count": 36,
   "metadata": {},
   "outputs": [
    {
     "data": {
      "text/plain": [
       "<seaborn.axisgrid.FacetGrid at 0x210c40d1d60>"
      ]
     },
     "execution_count": 36,
     "metadata": {},
     "output_type": "execute_result"
    },
    {
     "data": {
      "image/png": "[encoded data removed]",
      "text/plain": [
       "<Figure size 604.8x432 with 1 Axes>"
      ]
     },
     "metadata": {
      "needs_background": "light"
     },
     "output_type": "display_data"
    }
   ],
   "source": [
    "#Plot frequency distribution of organisms\n",
    "ax = sns.displot(data=top_organisms, x='Count', kind='hist', height=6, aspect=1.4, bins=30, log_scale=[False, True], color='Teal')\n",
    "ax.set_xlabels('Number of interactions')\n",
    "ax.set_ylabels('Number of organisms')"
   ]
  },
  {
   "attachments": {},
   "cell_type": "markdown",
   "metadata": {},
   "source": [
    "### Make scatter plot of activators versus inhibitors"
   ]
  },
  {
   "cell_type": "code",
   "execution_count": 37,
   "metadata": {},
   "outputs": [
    {
     "data": {
      "text/html": [
       "<div>\n",
       "<style scoped>\n",
       "    .dataframe tbody tr th:only-of-type {\n",
       "        vertical-align: middle;\n",
       "    }\n",
       "\n",
       "    .dataframe tbody tr th {\n",
       "        vertical-align: top;\n",
       "    }\n",
       "\n",
       "    .dataframe thead th {\n",
       "        text-align: right;\n",
       "    }\n",
       "</style>\n",
       "<table border=\"1\" class=\"dataframe\">\n",
       "  <thead>\n",
       "    <tr style=\"text-align: right;\">\n",
       "      <th></th>\n",
       "      <th>ChEBI</th>\n",
       "      <th>Count_x</th>\n",
       "      <th>Met_x</th>\n",
       "      <th>Count_y</th>\n",
       "      <th>Met_y</th>\n",
       "    </tr>\n",
       "  </thead>\n",
       "  <tbody>\n",
       "    <tr>\n",
       "      <th>0</th>\n",
       "      <td>CHEBI:15422</td>\n",
       "      <td>335.0</td>\n",
       "      <td>[ATP, Adenosine triphosphate, rATP, 5'-ATP, 5'...</td>\n",
       "      <td>1083.0</td>\n",
       "      <td>[ATP, Adenosine triphosphate, rATP, 5'-ATP, 5'...</td>\n",
       "    </tr>\n",
       "    <tr>\n",
       "      <th>1</th>\n",
       "      <td>CHEBI:16856</td>\n",
       "      <td>324.0</td>\n",
       "      <td>[GSH, glutathione, reduced glutathione, glutat...</td>\n",
       "      <td>366.0</td>\n",
       "      <td>[GSH, glutathione, reduced glutathione, glutat...</td>\n",
       "    </tr>\n",
       "    <tr>\n",
       "      <th>2</th>\n",
       "      <td>CHEBI:35235</td>\n",
       "      <td>314.0</td>\n",
       "      <td>[cysteine, L-cysteine, Cys, L-Cys]</td>\n",
       "      <td>511.0</td>\n",
       "      <td>[cysteine, L-cysteine, Cys, L-Cys]</td>\n",
       "    </tr>\n",
       "    <tr>\n",
       "      <th>3</th>\n",
       "      <td>CHEBI:28013</td>\n",
       "      <td>205.0</td>\n",
       "      <td>[D-fructose 1,6-bisphosphate, D-fructose 1,6-d...</td>\n",
       "      <td>156.0</td>\n",
       "      <td>[D-fructose 1,6-bisphosphate, D-fructose 1,6-d...</td>\n",
       "    </tr>\n",
       "    <tr>\n",
       "      <th>4</th>\n",
       "      <td>CHEBI:29073</td>\n",
       "      <td>202.0</td>\n",
       "      <td>[ascorbic acid, ascorbate, L-ascorbate, L-asco...</td>\n",
       "      <td>209.0</td>\n",
       "      <td>[ascorbic acid, ascorbate, L-ascorbate, L-asco...</td>\n",
       "    </tr>\n",
       "    <tr>\n",
       "      <th>5</th>\n",
       "      <td>CHEBI:16027</td>\n",
       "      <td>182.0</td>\n",
       "      <td>[AMP, 5'-AMP, 5'-adenylic acid, adenosine 5'-m...</td>\n",
       "      <td>749.0</td>\n",
       "      <td>[AMP, 5'-AMP, 5'-adenylic acid, adenosine 5'-m...</td>\n",
       "    </tr>\n",
       "    <tr>\n",
       "      <th>6</th>\n",
       "      <td>CHEBI:16761</td>\n",
       "      <td>160.0</td>\n",
       "      <td>[ADP, 5'-ADP, 5'-adenosine diphosphate, Adenos...</td>\n",
       "      <td>914.0</td>\n",
       "      <td>[ADP, 5'-ADP, 5'-adenosine diphosphate, Adenos...</td>\n",
       "    </tr>\n",
       "    <tr>\n",
       "      <th>7</th>\n",
       "      <td>CHEBI:16236</td>\n",
       "      <td>154.0</td>\n",
       "      <td>[ethanol, ethyl alcohol]</td>\n",
       "      <td>281.0</td>\n",
       "      <td>[ethanol, ethyl alcohol]</td>\n",
       "    </tr>\n",
       "    <tr>\n",
       "      <th>8</th>\n",
       "      <td>CHEBI:15996</td>\n",
       "      <td>118.0</td>\n",
       "      <td>[GTP, guanosine 5'-triphosphate, 5'-GTP, guano...</td>\n",
       "      <td>291.0</td>\n",
       "      <td>[GTP, guanosine 5'-triphosphate, 5'-GTP, guano...</td>\n",
       "    </tr>\n",
       "    <tr>\n",
       "      <th>9</th>\n",
       "      <td>CHEBI:18405</td>\n",
       "      <td>110.0</td>\n",
       "      <td>[pyridoxal 5'-phosphate, pyridoxal phosphate, ...</td>\n",
       "      <td>182.0</td>\n",
       "      <td>[pyridoxal 5'-phosphate, pyridoxal phosphate, ...</td>\n",
       "    </tr>\n",
       "  </tbody>\n",
       "</table>\n",
       "</div>"
      ],
      "text/plain": [
       "         ChEBI  Count_x                                              Met_x  \\\n",
       "0  CHEBI:15422    335.0  [ATP, Adenosine triphosphate, rATP, 5'-ATP, 5'...   \n",
       "1  CHEBI:16856    324.0  [GSH, glutathione, reduced glutathione, glutat...   \n",
       "2  CHEBI:35235    314.0                 [cysteine, L-cysteine, Cys, L-Cys]   \n",
       "3  CHEBI:28013    205.0  [D-fructose 1,6-bisphosphate, D-fructose 1,6-d...   \n",
       "4  CHEBI:29073    202.0  [ascorbic acid, ascorbate, L-ascorbate, L-asco...   \n",
       "5  CHEBI:16027    182.0  [AMP, 5'-AMP, 5'-adenylic acid, adenosine 5'-m...   \n",
       "6  CHEBI:16761    160.0  [ADP, 5'-ADP, 5'-adenosine diphosphate, Adenos...   \n",
       "7  CHEBI:16236    154.0                           [ethanol, ethyl alcohol]   \n",
       "8  CHEBI:15996    118.0  [GTP, guanosine 5'-triphosphate, 5'-GTP, guano...   \n",
       "9  CHEBI:18405    110.0  [pyridoxal 5'-phosphate, pyridoxal phosphate, ...   \n",
       "\n",
       "   Count_y                                              Met_y  \n",
       "0   1083.0  [ATP, Adenosine triphosphate, rATP, 5'-ATP, 5'...  \n",
       "1    366.0  [GSH, glutathione, reduced glutathione, glutat...  \n",
       "2    511.0                 [cysteine, L-cysteine, Cys, L-Cys]  \n",
       "3    156.0  [D-fructose 1,6-bisphosphate, D-fructose 1,6-d...  \n",
       "4    209.0  [ascorbic acid, ascorbate, L-ascorbate, L-asco...  \n",
       "5    749.0  [AMP, 5'-AMP, 5'-adenylic acid, adenosine 5'-m...  \n",
       "6    914.0  [ADP, 5'-ADP, 5'-adenosine diphosphate, Adenos...  \n",
       "7    281.0                           [ethanol, ethyl alcohol]  \n",
       "8    291.0  [GTP, guanosine 5'-triphosphate, 5'-GTP, guano...  \n",
       "9    182.0  [pyridoxal 5'-phosphate, pyridoxal phosphate, ...  "
      ]
     },
     "execution_count": 37,
     "metadata": {},
     "output_type": "execute_result"
    }
   ],
   "source": [
    "#Create dataframe for plotting scatter plot\n",
    "intersection = pd.merge(top_activators, top_inhibitors, how='outer', on='ChEBI').fillna(0)\n",
    "intersection.head(10)"
   ]
  },
  {
   "cell_type": "code",
   "execution_count": 38,
   "metadata": {},
   "outputs": [
    {
     "data": {
      "text/plain": [
       "[Text(340.0, 1083.0, 'ATP'),\n",
       " Text(329.0, 366.0, 'GSH'),\n",
       " Text(319.0, 511.0, 'cysteine'),\n",
       " Text(210.0, 156.0, 'D-fructose 1,6-bisphosphate'),\n",
       " Text(207.0, 209.0, 'ascorbic acid'),\n",
       " Text(187.0, 749.0, 'AMP'),\n",
       " Text(165.0, 914.0, 'ADP'),\n",
       " Text(159.0, 281.0, 'ethanol')]"
      ]
     },
     "execution_count": 38,
     "metadata": {},
     "output_type": "execute_result"
    },
    {
     "data": {
      "image/png": "[encoded data removed]",
      "text/plain": [
       "<Figure size 432x288 with 1 Axes>"
      ]
     },
     "metadata": {
      "needs_background": "light"
     },
     "output_type": "display_data"
    }
   ],
   "source": [
    "#Make scatter-plot with labels for top compounds\n",
    "ax = sns.scatterplot(intersection, x='Count_x', y='Count_y')\n",
    "ax.set(xlabel='Number of activations', ylabel='Number of inhibitions')\n",
    "[plt.text(x=row['Count_x']+5, y=row['Count_y'], s=row['Met_x'][0], fontfamily='serif') for k, row in intersection.iterrows() if row['Count_x'] > 150]\n"
   ]
  },
  {
   "attachments": {},
   "cell_type": "markdown",
   "metadata": {},
   "source": [
    "### Make network of interactions for top enzymes"
   ]
  },
  {
   "cell_type": "code",
   "execution_count": 39,
   "metadata": {},
   "outputs": [],
   "source": [
    "#Initialize network\n",
    "net = Network(height=\"2500px\", width=\"2100px\")"
   ]
  },
  {
   "attachments": {},
   "cell_type": "markdown",
   "metadata": {},
   "source": [
    "#### Find top regulated enzymes"
   ]
  },
  {
   "cell_type": "code",
   "execution_count": 40,
   "metadata": {},
   "outputs": [],
   "source": [
    "#Make dataframe of top enzymes and their interactions\n",
    "top_enz_with_interactions = pd.merge(top_enz_targets.head(10), df_unique_chebi[['EC', 'ChEBI', 'Mode']], how='left', on='EC').drop_duplicates()"
   ]
  },
  {
   "cell_type": "code",
   "execution_count": 42,
   "metadata": {},
   "outputs": [],
   "source": [
    "#Add enzymes as square orange nodes\n",
    "net.add_nodes(list(set(top_enz_with_interactions['Enz'])), shape=['box' for i in range(10)], color=['orange' for i in range(10)])"
   ]
  },
  {
   "attachments": {},
   "cell_type": "markdown",
   "metadata": {},
   "source": [
    "#### Find the top metabolic regulators (interact with two or more enzymes)"
   ]
  },
  {
   "cell_type": "code",
   "execution_count": 43,
   "metadata": {},
   "outputs": [],
   "source": [
    "#Group enzymes by ChEBI id to find number of enzyme targets for each metabolite\n",
    "df_enz_groups = top_enz_with_interactions.groupby('ChEBI')['Enz'].apply(set).reset_index()"
   ]
  },
  {
   "cell_type": "code",
   "execution_count": 44,
   "metadata": {},
   "outputs": [],
   "source": [
    "#Count number of enzyme targets\n",
    "df_enz_groups['Count'] = df_enz_groups.agg({'Enz': len})"
   ]
  },
  {
   "cell_type": "code",
   "execution_count": 45,
   "metadata": {},
   "outputs": [],
   "source": [
    "#Filter for metabolites targeting two or more enzymes\n",
    "df_top_mets = df_enz_groups[df_enz_groups['Count'] >= 2]"
   ]
  },
  {
   "cell_type": "code",
   "execution_count": 54,
   "metadata": {},
   "outputs": [
    {
     "name": "stderr",
     "output_type": "stream",
     "text": [
      "C:\\Users\\Elin\\AppData\\Local\\Temp\\ipykernel_3348\\2824346124.py:2: SettingWithCopyWarning: \n",
      "A value is trying to be set on a copy of a slice from a DataFrame.\n",
      "Try using .loc[row_indexer,col_indexer] = value instead\n",
      "\n",
      "See the caveats in the documentation: https://pandas.pydata.org/pandas-docs/stable/user_guide/indexing.html#returning-a-view-versus-a-copy\n",
      "  df_top_mets['Met'] = df_top_mets['ChEBI'].map(mets_dict)\n"
     ]
    }
   ],
   "source": [
    "#Map metabolite ChEBI id to metabolite names, and reduce to one synonym for each metabolite\n",
    "df_top_mets['Met'] = df_top_mets['ChEBI'].map(mets_dict)\n",
    "df_top_mets['Met'] = df_top_mets['Met'].apply(lambda x: x[0])"
   ]
  },
  {
   "cell_type": "code",
   "execution_count": 58,
   "metadata": {},
   "outputs": [],
   "source": [
    "#Add metabolites as nodes\n",
    "net.add_nodes(set(df_top_mets['Met']))"
   ]
  },
  {
   "attachments": {},
   "cell_type": "markdown",
   "metadata": {},
   "source": [
    "#### Find edges (interactions between enzymes and metabolites)"
   ]
  },
  {
   "cell_type": "code",
   "execution_count": 59,
   "metadata": {},
   "outputs": [],
   "source": [
    "#Reduce dataframe to frame of interactions between the top enzymes and top metabolites\n",
    "top_enz_with_top_interactions = top_enz_with_interactions[top_enz_with_interactions['ChEBI'].isin(list(df_top_mets['ChEBI']))].reset_index()"
   ]
  },
  {
   "cell_type": "code",
   "execution_count": 61,
   "metadata": {},
   "outputs": [],
   "source": [
    "#Map ChEBI ids to metabolite names\n",
    "top_enz_with_top_interactions['Met'] = top_enz_with_top_interactions['ChEBI'].map(mets_dict)\n",
    "top_enz_with_top_interactions['Met'] = top_enz_with_top_interactions['Met'].apply(lambda x: x[0])"
   ]
  },
  {
   "attachments": {},
   "cell_type": "markdown",
   "metadata": {},
   "source": [
    "##### Add edges to tree"
   ]
  },
  {
   "cell_type": "code",
   "execution_count": 63,
   "metadata": {},
   "outputs": [],
   "source": [
    "#Make list of lists of Metabolic regulator, Enzyme target, Mode of interaction\n",
    "\n",
    "pairs = []\n",
    "\n",
    "for index, row in top_enz_with_top_interactions.iterrows():\n",
    "    pairs.append([row['Met'], row['Enz'], row['Mode']])"
   ]
  },
  {
   "cell_type": "code",
   "execution_count": 66,
   "metadata": {},
   "outputs": [],
   "source": [
    "#Add edges to tree with red for inhibitons and green for activations\n",
    "for pair in pairs:\n",
    "    if pair[2] == \"+\":\n",
    "        color = 'green'\n",
    "    else:\n",
    "        color = 'red'\n",
    "    net.add_edge(pair[0], pair[1], color=color)"
   ]
  },
  {
   "attachments": {},
   "cell_type": "markdown",
   "metadata": {},
   "source": [
    "#### Visualize tree"
   ]
  },
  {
   "cell_type": "code",
   "execution_count": 67,
   "metadata": {},
   "outputs": [],
   "source": [
    "net.show_buttons(filter_=['physics'])"
   ]
  },
  {
   "cell_type": "code",
   "execution_count": 69,
   "metadata": {},
   "outputs": [],
   "source": [
    "net.show('network.html')"
   ]
  },
  {
   "cell_type": "code",
   "execution_count": null,
   "metadata": {},
   "outputs": [],
   "source": []
  }
 ],
 "metadata": {
  "kernelspec": {
   "display_name": "Python 3",
   "language": "python",
   "name": "python3"
  },
  "language_info": {
   "codemirror_mode": {
    "name": "ipython",
    "version": 3
   },
   "file_extension": ".py",
   "mimetype": "text/x-python",
   "name": "python",
   "nbconvert_exporter": "python",
   "pygments_lexer": "ipython3",
   "version": "3.8.6"
  },
  "orig_nbformat": 4,
  "vscode": {
   "interpreter": {
    "hash": "436b2daae35b1d81a27495251f54690ee226a662a175ea582d303ed01ff4427f"
   }
  }
 },
 "nbformat": 4,
 "nbformat_minor": 2
}
