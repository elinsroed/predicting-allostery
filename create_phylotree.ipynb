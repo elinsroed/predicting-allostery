{
 "cells": [
  {
   "cell_type": "code",
   "execution_count": 16,
   "metadata": {},
   "outputs": [],
   "source": [
    "from ete3 import PhyloTree\n",
    "import pandas as pd"
   ]
  },
  {
   "cell_type": "code",
   "execution_count": 4,
   "metadata": {},
   "outputs": [],
   "source": [
    "#Create phylogenetic tree of the top hundred organisms\n",
    "#Newick file was created using phyloT, which makes the tree by retrieving genomes from NCBI\n",
    "pt = PhyloTree(\"tree_all_top_hundred.txt\", format=1)"
   ]
  },
  {
   "attachments": {},
   "cell_type": "markdown",
   "metadata": {},
   "source": [
    "###### Some of the top hundred organisms were missing from the tree because they are subspecies, and after changing their names previously they could not be found in NCBI. These are therefore added manually. The taxonomy was of these species was researched to place them correctly."
   ]
  },
  {
   "cell_type": "code",
   "execution_count": 5,
   "metadata": {},
   "outputs": [],
   "source": [
    "#Add Pseudomonas_sp. to Pseudomonas group\n",
    "for node in pt.traverse():\n",
    "    if node.name == 'Pseudomonas':\n",
    "        node.add_child(name='Pseudomonas_sp.')"
   ]
  },
  {
   "cell_type": "code",
   "execution_count": 6,
   "metadata": {},
   "outputs": [],
   "source": [
    "#Add Rattus_sp. to Rattus group\n",
    "for node in pt.traverse():\n",
    "    if node.name == 'Rattus':\n",
    "        node.add_child(name='Rattus_sp.')"
   ]
  },
  {
   "cell_type": "code",
   "execution_count": 7,
   "metadata": {},
   "outputs": [],
   "source": [
    "#Add Bacillus_sp. to Bacillus group\n",
    "for node in pt.traverse():\n",
    "    if node.name == 'Bacillus':\n",
    "        node.add_child(name='Bacillus_sp.')"
   ]
  },
  {
   "cell_type": "code",
   "execution_count": 8,
   "metadata": {},
   "outputs": [],
   "source": [
    "#Add Synechocystis_sp. to tree\n",
    "for node in pt.traverse():\n",
    "    if node.name == 'Bacteria':\n",
    "        Cyanobacteria = node.add_child(name='Cyanobacteria')\n",
    "        Cyanophyceae = Cyanobacteria.add_child(name='Cyanophyceae')\n",
    "        Synechococcales = Cyanophyceae.add_child(name='Synechococcales')\n",
    "        Merismopediaceae = Synechococcales.add_child(name='Merismopediacea')\n",
    "        Merismopediaceae.add_child(name='Synechocystis_sp.')"
   ]
  },
  {
   "cell_type": "code",
   "execution_count": 9,
   "metadata": {},
   "outputs": [],
   "source": [
    "#Add Streptomyces_sp. to tree\n",
    "for node in pt.traverse():\n",
    "    if node.name == 'Actinomycetia':\n",
    "        Streptomycetales = node.add_child(name='Streptomycetales')\n",
    "        Streptomycetaceae = Streptomycetales.add_child(name='Streptomycetaceae')\n",
    "        Streptomyces = Streptomycetaceae.add_child(name='Streptomyces')\n",
    "        Streptomyces.add_child(name='Streptomyces_sp.')"
   ]
  },
  {
   "cell_type": "code",
   "execution_count": 10,
   "metadata": {},
   "outputs": [],
   "source": [
    "#Add Arthrobacter_sp. to tree\n",
    "for node in pt.traverse():\n",
    "    if node.name == 'Actinomycetia':\n",
    "        Micrococcales = node.add_child(name='Micrococcales')\n",
    "        Micrococcaceae = Micrococcales.add_child(name='Micrococcaceae')\n",
    "        Arthrobacter = Micrococcaceae.add_child(name='Arthrobacter')\n",
    "        Arthrobacter.add_child(name='Arthrobacter_sp.')"
   ]
  },
  {
   "cell_type": "code",
   "execution_count": 17,
   "metadata": {},
   "outputs": [],
   "source": [
    "#Save treefile in newick format\n",
    "pt.write(outfile='tree_final.nw', format=1)"
   ]
  },
  {
   "attachments": {},
   "cell_type": "markdown",
   "metadata": {},
   "source": [
    "One of the top hundred organisms is 'Mammalia'. In order to map interactions to these organisms I identified the species that are part of the Mammalia branch of the tree. "
   ]
  },
  {
   "cell_type": "code",
   "execution_count": 18,
   "metadata": {},
   "outputs": [],
   "source": [
    "for node in pt.traverse():\n",
    "    if node.name == 'Mammalia':\n",
    "        mammals= node.get_leaf_names()"
   ]
  },
  {
   "cell_type": "code",
   "execution_count": null,
   "metadata": {},
   "outputs": [],
   "source": []
  }
 ],
 "metadata": {
  "kernelspec": {
   "display_name": "Python 3",
   "language": "python",
   "name": "python3"
  },
  "language_info": {
   "codemirror_mode": {
    "name": "ipython",
    "version": 3
   },
   "file_extension": ".py",
   "mimetype": "text/x-python",
   "name": "python",
   "nbconvert_exporter": "python",
   "pygments_lexer": "ipython3",
   "version": "3.8.6"
  },
  "orig_nbformat": 4,
  "vscode": {
   "interpreter": {
    "hash": "436b2daae35b1d81a27495251f54690ee226a662a175ea582d303ed01ff4427f"
   }
  }
 },
 "nbformat": 4,
 "nbformat_minor": 2
}
