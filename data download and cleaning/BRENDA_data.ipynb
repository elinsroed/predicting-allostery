{
 "cells": [
  {
   "cell_type": "code",
   "execution_count": 1,
   "metadata": {},
   "outputs": [],
   "source": [
    "import pandas as pd\n",
    "import re\n",
    "import html\n",
    "import numpy as np"
   ]
  },
  {
   "attachments": {},
   "cell_type": "markdown",
   "metadata": {},
   "source": [
    "### Load and clean original data"
   ]
  },
  {
   "cell_type": "code",
   "execution_count": 2,
   "metadata": {},
   "outputs": [],
   "source": [
    "#Load data on activating and inhibiting compounds downloaded from BRENDA\n",
    "df_act = pd.read_excel('C:/Users/Elin/Documents/GitHub/predicting-allostery/datafiles/interactions/Allosteric_interactions_BRENDA.xlsx', sheet_name='Activators', names=['EC', 'Enz', 'Met', 'Org', 'Mode'], usecols='A,B,C,E,I')\n",
    "df_inh = pd.read_excel('C:/Users/Elin/Documents/GitHub/predicting-allostery/datafiles/interactions/Allosteric_interactions_BRENDA.xlsx', sheet_name='Inhibitors', names=['EC', 'Enz', 'Met', 'Org', 'Mode'], usecols='A,B,C,E,I')\n",
    "\n",
    "#Remove metabolites named \"additional information\" and data from viruses, and limit species name to two names\n",
    "#Takes about 2.5 minutes \n",
    "df_act = df_act[~df_act['Org'].str.contains('virus')]\n",
    "df_act = df_act[~df_act['Met'].str.contains('additional information')]\n",
    "df_act['Org'] = df_act['Org'].apply(lambda x: ' '.join(x.split()[:2]))\n",
    "\n",
    "df_inh.Org = df_inh.Org.fillna('')\n",
    "df_inh = df_inh[~df_inh['Org'].str.contains('virus')]\n",
    "df_inh = df_inh[~df_inh['Met'].str.contains('additional information')]\n",
    "df_inh['Org'] = df_inh['Org'].apply(lambda x: ' '.join(x.split()[:2]))"
   ]
  },
  {
   "attachments": {},
   "cell_type": "markdown",
   "metadata": {},
   "source": [
    "### Integrate ChEBI and InChI Ids"
   ]
  },
  {
   "cell_type": "code",
   "execution_count": 3,
   "metadata": {},
   "outputs": [],
   "source": [
    "#Load chebi and inchi IDs for the compounds in BRENDA\n",
    "df_chebi_BRENDA = pd.read_csv('C:/Users/Elin/Documents/GitHub/predicting-allostery/datafiles/support/brenda_compounds.tsv', sep='\\t', names=['Met', 'Inchi', 'ChEBI'], header=0)\n",
    "\n",
    "#Integrate chebi and inchi IDs into BRENDA interaction data\n",
    "df_act_chebi = pd.merge(df_act, df_chebi_BRENDA[['Met', 'ChEBI', 'Inchi']], how=\"left\", on='Met')\n",
    "df_inh_chebi = pd.merge(df_inh, df_chebi_BRENDA[['Met', 'ChEBI', 'Inchi']], how=\"left\", on='Met')"
   ]
  },
  {
   "attachments": {},
   "cell_type": "markdown",
   "metadata": {},
   "source": [
    "### Isolate intracellular compounds"
   ]
  },
  {
   "attachments": {},
   "cell_type": "markdown",
   "metadata": {},
   "source": [
    "#### Load and clean BiGG data"
   ]
  },
  {
   "cell_type": "code",
   "execution_count": 9,
   "metadata": {},
   "outputs": [],
   "source": [
    "#Load compound data downloaded from BiGG\n",
    "df_bigg = pd.read_csv('C:/Users/Elin/Documents/GitHub/predicting-allostery/datafiles/support/bigg_metabolites.csv', sep=';')\n",
    "\n",
    "# Get one database link per row\n",
    "df_bigg_split = df_bigg.assign(database_links=df_bigg['database_links'].str.split(';')).explode('database_links')"
   ]
  },
  {
   "cell_type": "code",
   "execution_count": 12,
   "metadata": {},
   "outputs": [],
   "source": [
    "# Isolate the ChEBI id links from the database_links column in the BiGG dataframe and make a new dataframe of only metabolites with ChEBI id\n",
    "df_bigg_chebis = df_bigg_split[df_bigg_split['database_links'].str.contains('chebi','CHEBI')]"
   ]
  },
  {
   "cell_type": "code",
   "execution_count": 6,
   "metadata": {},
   "outputs": [],
   "source": [
    "# Extract the ChEBI id (ChEBI:12345) from the database links\n",
    "def extract_chebi(link):\n",
    "    for i in range(1,7):\n",
    "        if link[-i].isdigit():\n",
    "            continue\n",
    "        else:\n",
    "            index = i+5\n",
    "            return link[-index:]"
   ]
  },
  {
   "cell_type": "code",
   "execution_count": 7,
   "metadata": {},
   "outputs": [],
   "source": [
    "# Make list of the ChEBI ids\n",
    "bigg_chebi_list = df_bigg_chebis['database_links'].apply(lambda x: extract_chebi(x)).tolist()"
   ]
  },
  {
   "attachments": {},
   "cell_type": "markdown",
   "metadata": {},
   "source": [
    "#### Integrate with BRENDA data"
   ]
  },
  {
   "cell_type": "code",
   "execution_count": 8,
   "metadata": {},
   "outputs": [],
   "source": [
    "#Make dataframes of interactions with metabolites that are documented in BiGG\n",
    "df_act_intracellular = df_act_chebi[df_act_chebi['ChEBI'].isin(bigg_chebi_list)]\n",
    "df_inh_intracellular = df_inh_chebi[df_inh_chebi['ChEBI'].isin(bigg_chebi_list)]\n",
    "\n",
    "#Those with NaN or '-' (without CHEBI id) were not included in the intracellular group"
   ]
  },
  {
   "attachments": {},
   "cell_type": "markdown",
   "metadata": {},
   "source": [
    "### Remove inorganic compounds from the intracellular interactions"
   ]
  },
  {
   "cell_type": "code",
   "execution_count": 9,
   "metadata": {},
   "outputs": [
    {
     "name": "stderr",
     "output_type": "stream",
     "text": [
      "C:\\Users\\Elin\\AppData\\Local\\Temp\\ipykernel_19240\\2256910586.py:2: SettingWithCopyWarning: \n",
      "A value is trying to be set on a copy of a slice from a DataFrame.\n",
      "Try using .loc[row_indexer,col_indexer] = value instead\n",
      "\n",
      "See the caveats in the documentation: https://pandas.pydata.org/pandas-docs/stable/user_guide/indexing.html#returning-a-view-versus-a-copy\n",
      "  df_act_intracellular['Inchi'] = df_act_intracellular['Inchi'].str.split('/').str[1]\n",
      "C:\\Users\\Elin\\AppData\\Local\\Temp\\ipykernel_19240\\2256910586.py:3: SettingWithCopyWarning: \n",
      "A value is trying to be set on a copy of a slice from a DataFrame.\n",
      "Try using .loc[row_indexer,col_indexer] = value instead\n",
      "\n",
      "See the caveats in the documentation: https://pandas.pydata.org/pandas-docs/stable/user_guide/indexing.html#returning-a-view-versus-a-copy\n",
      "  df_inh_intracellular['Inchi'] = df_inh_intracellular['Inchi'].str.split('/').str[1]\n"
     ]
    }
   ],
   "source": [
    "#Get chemical formula from Inchi id\n",
    "df_act_intracellular['Inchi'] = df_act_intracellular['Inchi'].str.split('/').str[1]\n",
    "df_inh_intracellular['Inchi'] = df_inh_intracellular['Inchi'].str.split('/').str[1]"
   ]
  },
  {
   "cell_type": "code",
   "execution_count": 10,
   "metadata": {},
   "outputs": [],
   "source": [
    "#Function for parsing the chemical formula to make dictionary of 'atom: number of atoms'\n",
    "from warnings import warn\n",
    "\n",
    "\n",
    "ELEMENT_RE = re.compile(r'(?P<atom>[A-Z][a-z]?)(?P<coeff>\\d*)')\n",
    "\n",
    "\n",
    "def parse_formula(formula):\n",
    "    \"\"\" Convert compound formula from string to dictionary.\n",
    "\n",
    "    For example, C6H12O6 (glucose) becomes {C:6, H:12, O:6}.\n",
    "\n",
    "    Args:\n",
    "        formula (str): compound formula\n",
    "\n",
    "    Returns:\n",
    "        dict: formula as a dictionary\n",
    "    \"\"\"\n",
    "    return {atom: (int(coeff) if coeff else 1)\n",
    "            for atom, coeff in re.findall(ELEMENT_RE, formula)}\n",
    "\n"
   ]
  },
  {
   "cell_type": "code",
   "execution_count": 11,
   "metadata": {},
   "outputs": [
    {
     "name": "stderr",
     "output_type": "stream",
     "text": [
      "C:\\Users\\Elin\\AppData\\Local\\Temp\\ipykernel_19240\\1234169230.py:2: SettingWithCopyWarning: \n",
      "A value is trying to be set on a copy of a slice from a DataFrame.\n",
      "Try using .loc[row_indexer,col_indexer] = value instead\n",
      "\n",
      "See the caveats in the documentation: https://pandas.pydata.org/pandas-docs/stable/user_guide/indexing.html#returning-a-view-versus-a-copy\n",
      "  df_act_intracellular['formula'] = df_act_intracellular['Inchi'].apply(lambda x: parse_formula(x))\n",
      "C:\\Users\\Elin\\AppData\\Local\\Temp\\ipykernel_19240\\1234169230.py:3: SettingWithCopyWarning: \n",
      "A value is trying to be set on a copy of a slice from a DataFrame.\n",
      "Try using .loc[row_indexer,col_indexer] = value instead\n",
      "\n",
      "See the caveats in the documentation: https://pandas.pydata.org/pandas-docs/stable/user_guide/indexing.html#returning-a-view-versus-a-copy\n",
      "  df_inh_intracellular['formula'] = df_inh_intracellular['Inchi'].apply(lambda x: parse_formula(x))\n"
     ]
    }
   ],
   "source": [
    "#Parse formulas in dataframes\n",
    "df_act_intracellular['formula'] = df_act_intracellular['Inchi'].apply(lambda x: parse_formula(x))\n",
    "df_inh_intracellular['formula'] = df_inh_intracellular['Inchi'].apply(lambda x: parse_formula(x))"
   ]
  },
  {
   "cell_type": "code",
   "execution_count": 12,
   "metadata": {},
   "outputs": [],
   "source": [
    "#Define function for determining whether a compound is organic\n",
    "\n",
    "def is_organic(formula):\n",
    "    if all(key in formula for key in ('C', 'H', 'O')):\n",
    "        return 1\n",
    "    return 0"
   ]
  },
  {
   "cell_type": "code",
   "execution_count": 13,
   "metadata": {},
   "outputs": [
    {
     "name": "stderr",
     "output_type": "stream",
     "text": [
      "C:\\Users\\Elin\\AppData\\Local\\Temp\\ipykernel_19240\\2132318377.py:2: SettingWithCopyWarning: \n",
      "A value is trying to be set on a copy of a slice from a DataFrame.\n",
      "Try using .loc[row_indexer,col_indexer] = value instead\n",
      "\n",
      "See the caveats in the documentation: https://pandas.pydata.org/pandas-docs/stable/user_guide/indexing.html#returning-a-view-versus-a-copy\n",
      "  df_act_intracellular['organic'] = df_act_intracellular['formula'].apply(lambda x: is_organic(x))\n",
      "C:\\Users\\Elin\\AppData\\Local\\Temp\\ipykernel_19240\\2132318377.py:3: SettingWithCopyWarning: \n",
      "A value is trying to be set on a copy of a slice from a DataFrame.\n",
      "Try using .loc[row_indexer,col_indexer] = value instead\n",
      "\n",
      "See the caveats in the documentation: https://pandas.pydata.org/pandas-docs/stable/user_guide/indexing.html#returning-a-view-versus-a-copy\n",
      "  df_inh_intracellular['organic'] = df_inh_intracellular['formula'].apply(lambda x: is_organic(x))\n"
     ]
    }
   ],
   "source": [
    "#Apply function to data\n",
    "df_act_intracellular['organic'] = df_act_intracellular['formula'].apply(lambda x: is_organic(x))\n",
    "df_inh_intracellular['organic'] = df_inh_intracellular['formula'].apply(lambda x: is_organic(x))"
   ]
  },
  {
   "cell_type": "code",
   "execution_count": 14,
   "metadata": {},
   "outputs": [],
   "source": [
    "#Filter out the inorganic compounds and drop duplicates\n",
    "df_act_intra_org = df_act_intracellular[df_act_intracellular.organic != 0]\n",
    "df_inh_intra_org = df_inh_intracellular[df_inh_intracellular.organic != 0]"
   ]
  },
  {
   "cell_type": "code",
   "execution_count": 15,
   "metadata": {},
   "outputs": [],
   "source": [
    "#Drop unnecessary columns and duplicates from data\n",
    "df_act_intra_org_final = df_act_intra_org.drop(['Inchi', 'formula', 'organic'], axis=1).drop_duplicates()\n",
    "df_inh_intra_org_final = df_inh_intra_org.drop(['Inchi', 'formula', 'organic'], axis=1).drop_duplicates()"
   ]
  },
  {
   "cell_type": "code",
   "execution_count": 28,
   "metadata": {},
   "outputs": [],
   "source": [
    "#Make one big file of both activators and inhibitors and save to csv\n",
    "df_BRENDA_intracellular = pd.concat([df_act_intra_org_final, df_inh_intra_org_final]).reset_index(drop=True)\n",
    "df_BRENDA_intracellular.to_csv('C:/Users/Elin/Documents/GitHub/predicting-allostery/datafiles/interactions/BRENDA_interactions_intracellular.txt')"
   ]
  }
 ],
 "metadata": {
  "kernelspec": {
   "display_name": "Python 3",
   "language": "python",
   "name": "python3"
  },
  "language_info": {
   "codemirror_mode": {
    "name": "ipython",
    "version": 3
   },
   "file_extension": ".py",
   "mimetype": "text/x-python",
   "name": "python",
   "nbconvert_exporter": "python",
   "pygments_lexer": "ipython3",
   "version": "3.8.6"
  },
  "orig_nbformat": 4,
  "vscode": {
   "interpreter": {
    "hash": "436b2daae35b1d81a27495251f54690ee226a662a175ea582d303ed01ff4427f"
   }
  }
 },
 "nbformat": 4,
 "nbformat_minor": 2
}
