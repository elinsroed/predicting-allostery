{
 "cells": [
  {
   "cell_type": "code",
   "execution_count": 1,
   "metadata": {},
   "outputs": [],
   "source": [
    "from bioservices import UniProt\n",
    "import pandas as pd\n",
    "from Bio import SeqIO\n",
    "import urllib\n",
    "import re\n",
    "import ast"
   ]
  },
  {
   "attachments": {},
   "cell_type": "markdown",
   "metadata": {},
   "source": [
    "### Get UniProt entry id and feature info for EC numbers for top hundred organisms"
   ]
  },
  {
   "cell_type": "code",
   "execution_count": 2,
   "metadata": {},
   "outputs": [],
   "source": [
    "#Get cleaned data from BRENDA\n",
    "df_brenda = pd.read_csv('C:/Users/Elin/Documents/GitHub/predicting-allostery/datafiles/interactions/BRENDA_interactions_intracellular.txt', index_col=0, header=0)\n",
    "\n",
    "#Get the top hundred organisms from previously created file\n",
    "top_hundred_list = pd.read_csv('C:/Users/Elin/Documents/GitHub/predicting-allostery/datafiles/support/top_hundred_organisms.txt', sep='\\t', index_col=0)['Org'].tolist()\n",
    "\n",
    "#Filter dataframe for interactions in the top hundred organisms\n",
    "df_brenda_top_hundred = df_brenda[df_brenda['Org'].isin(top_hundred_list)]"
   ]
  },
  {
   "attachments": {},
   "cell_type": "markdown",
   "metadata": {},
   "source": [
    "#### Add column of entry-string for search in UniProt"
   ]
  },
  {
   "cell_type": "code",
   "execution_count": 55,
   "metadata": {},
   "outputs": [],
   "source": [
    "#Define formula for making entry-string\n",
    "def entry_formula(EC, Org):\n",
    "    return f'EC:{EC}+AND+{Org}+AND+reviewed:true'"
   ]
  },
  {
   "cell_type": "code",
   "execution_count": 11,
   "metadata": {},
   "outputs": [
    {
     "name": "stderr",
     "output_type": "stream",
     "text": [
      "C:\\Users\\Elin\\AppData\\Local\\Temp\\ipykernel_2644\\2498833545.py:2: SettingWithCopyWarning: \n",
      "A value is trying to be set on a copy of a slice from a DataFrame.\n",
      "Try using .loc[row_indexer,col_indexer] = value instead\n",
      "\n",
      "See the caveats in the documentation: https://pandas.pydata.org/pandas-docs/stable/user_guide/indexing.html#returning-a-view-versus-a-copy\n",
      "  df_brenda_top_hundred['Entry_string'] = df_brenda_top_hundred.apply(lambda x: entry_formula(x['EC'], x['Org']), axis=1)\n"
     ]
    }
   ],
   "source": [
    "#apply formula to dataframe\n",
    "df_brenda_top_hundred['Entry_string'] = df_brenda_top_hundred.apply(lambda x: entry_formula(x['EC'], x['Org']), axis=1)"
   ]
  },
  {
   "cell_type": "code",
   "execution_count": 13,
   "metadata": {},
   "outputs": [],
   "source": [
    "#Make dataframe of only enzymes (EC numbers), organisms and entry-strings\n",
    "df_ec_enz_org = df_brenda_top_hundred[['EC', 'Enz', 'Org', 'Entry_string']].drop_duplicates()"
   ]
  },
  {
   "attachments": {},
   "cell_type": "markdown",
   "metadata": {},
   "source": [
    "##### Search in UniProt"
   ]
  },
  {
   "cell_type": "code",
   "execution_count": 58,
   "metadata": {},
   "outputs": [],
   "source": [
    "u = UniProt(verbose=False)"
   ]
  },
  {
   "cell_type": "code",
   "execution_count": 16,
   "metadata": {},
   "outputs": [],
   "source": [
    "#Get info for every EC number+Organism combination\n",
    "#The get_df() function has a default limit of 10 entries per search for the sake of efficiency, this was changed to \n",
    "#100 to get all entries for each search\n",
    "#Also: the UniProt database changes all the time, and a new search might therefore not give the same results\n",
    "\n",
    "feature_dfs = []\n",
    "\n",
    "entries = set(df_ec_enz_org['Entry_string'])\n",
    "\n",
    "#This takes about 30 minutes\n",
    "for entry in entries:\n",
    "    feature_dfs.append(u.get_df(entry, limit=100))\n",
    "\n",
    "df = pd.concat(feature_dfs, axis=0)"
   ]
  },
  {
   "cell_type": "code",
   "execution_count": 21,
   "metadata": {},
   "outputs": [],
   "source": [
    "#Reduce dataframe to fewer columns\n",
    "columns_of_interest = ['Entry', 'Gene Names (primary)', 'Organism', 'Protein names', 'Domain [CC]', 'Domain [FT]', 'Motif', 'Protein families', 'Region', 'Active site', 'Activity regulation', 'Binding site']\n",
    "df_features = df[columns_of_interest]"
   ]
  },
  {
   "cell_type": "code",
   "execution_count": 22,
   "metadata": {},
   "outputs": [],
   "source": [
    "#Drop duplicates\n",
    "df_features = df_features.drop_duplicates()"
   ]
  },
  {
   "cell_type": "code",
   "execution_count": 24,
   "metadata": {},
   "outputs": [],
   "source": [
    "#Save the dataframe to file as the dataretrieving process takes time\n",
    "df_features.to_csv('C:/Users/Elin/Documents/GitHub/predicting-allostery/datafiles/features/protein_features_uniprot.txt')"
   ]
  },
  {
   "attachments": {},
   "cell_type": "markdown",
   "metadata": {},
   "source": [
    "##### Get InterPro ids for every UniProt entry"
   ]
  },
  {
   "cell_type": "code",
   "execution_count": 2,
   "metadata": {},
   "outputs": [],
   "source": [
    "#Read from the file created above\n",
    "df_features = pd.read_csv('C:/Users/Elin/Documents/GitHub/predicting-allostery/datafiles/features/protein_features_uniprot.txt')"
   ]
  },
  {
   "cell_type": "code",
   "execution_count": 4,
   "metadata": {},
   "outputs": [],
   "source": [
    "#Define function for retrieving the InterPro ids\n",
    "def retrieve_interpro_ids(uniprot_entry):\n",
    "    url = \"http://www.uniprot.org/uniprot/{}.xml\".format(uniprot_entry)\n",
    "    try:\n",
    "        handle = urllib.request.urlopen(url)\n",
    "        record = SeqIO.read(handle, \"uniprot-xml\")\n",
    "        interpro_ids = list(filter(lambda ref: 'InterPro' in ref, record.dbxrefs))  \n",
    "    except:\n",
    "        interpro_ids =  [0]\n",
    "    return interpro_ids"
   ]
  },
  {
   "cell_type": "code",
   "execution_count": 5,
   "metadata": {},
   "outputs": [],
   "source": [
    "#Apply function to dataframe\n",
    "#This takes about 6 hours\n",
    "df_features['Interpro_ids'] = df_features['Entry'].apply(lambda entry: retrieve_interpro_ids(entry))"
   ]
  },
  {
   "attachments": {},
   "cell_type": "markdown",
   "metadata": {},
   "source": [
    "###### Clean up the dataframe"
   ]
  },
  {
   "cell_type": "code",
   "execution_count": 7,
   "metadata": {},
   "outputs": [],
   "source": [
    "#Define function for extracting the EC number from the protein name\n",
    "def extract_EC(string):\n",
    "    ECs = []\n",
    "    array = string.split('(')\n",
    "    for word in array:\n",
    "        if word.startswith('EC'):\n",
    "            ECs.append(word.strip(') '))\n",
    "    return ECs"
   ]
  },
  {
   "cell_type": "code",
   "execution_count": 9,
   "metadata": {},
   "outputs": [],
   "source": [
    "#Apply function to dataframe to extract EC numbers\n",
    "df_features['EC numbers'] = df_features['Protein names'].apply(lambda string: extract_EC(string))\n",
    "\n",
    "#Keep only relevant columns\n",
    "df_features_small = df_features[['Entry', 'Organism', 'EC numbers', 'Interpro_ids']]\n",
    "\n",
    "#Explode on EC numbers to get one Entry, Organism, EC number and InterPro ids on each row\n",
    "df_features_exploded = df_features_small.explode('EC numbers')\n",
    "\n",
    "#Remove 'EC ' from EC numbers\n",
    "df_features_exploded['EC numbers'] = df_features_exploded['EC numbers'].str.replace('EC ', '')\n",
    "\n",
    "#Extract organism name from Organism columns\n",
    "df_features_exploded['Org'] = df_features_exploded['Organism'].apply(lambda x: ' '.join(x.split()[:2]))"
   ]
  },
  {
   "cell_type": "code",
   "execution_count": 18,
   "metadata": {},
   "outputs": [],
   "source": [
    "#Save to csv\n",
    "df_features_exploded.to_csv('C:/Users/Elin/Documents/GitHub/predicting-allostery/datafiles/features/protein_features_interpro.txt')"
   ]
  },
  {
   "attachments": {},
   "cell_type": "markdown",
   "metadata": {},
   "source": [
    "### Merge the dataframe of InterPro ids for each EC number with interactions dataframe"
   ]
  },
  {
   "cell_type": "code",
   "execution_count": 121,
   "metadata": {},
   "outputs": [],
   "source": [
    "#Get cleaned data from BRENDA\n",
    "df_brenda = pd.read_csv('C:/Users/Elin/Documents/GitHub/predicting-allostery/datafiles/interactions/BRENDA_interactions_intracellular.txt', index_col=0, header=0)\n",
    "\n",
    "#Get the top hundred organisms from previously created file\n",
    "top_hundred_list = pd.read_csv('C:/Users/Elin/Documents/GitHub/predicting-allostery/datafiles/support/top_hundred_organisms.txt', sep='\\t', index_col=0)['Org'].tolist()\n",
    "\n",
    "#Filter dataframe for interactions in the top hundred organisms\n",
    "df_brenda_top_hundred = df_brenda[df_brenda['Org'].isin(top_hundred_list)]"
   ]
  },
  {
   "cell_type": "code",
   "execution_count": 122,
   "metadata": {},
   "outputs": [],
   "source": [
    "#Merge the dataframe of interactions with the dataframe of features to associate EC number - Organism pairs with features\n",
    "df_merged = pd.merge(df_brenda_top_hundred, df_features_exploded, left_on=['EC', 'Org'], right_on=['EC numbers', 'Org'], how='left')"
   ]
  },
  {
   "attachments": {},
   "cell_type": "markdown",
   "metadata": {},
   "source": [
    "#### Clean up the dataframe to get one feature per row"
   ]
  },
  {
   "cell_type": "code",
   "execution_count": 131,
   "metadata": {},
   "outputs": [],
   "source": [
    "#Drop unnecessary columns\n",
    "df_merged_new = df_merged.drop(['Organism', 'Entry', 'EC numbers', 'Enz'], axis=1)"
   ]
  },
  {
   "cell_type": "code",
   "execution_count": 126,
   "metadata": {},
   "outputs": [],
   "source": [
    "#Explode on InterPro ids (need to make sure that the InterPro ids are evaluated as strings before exploding)\n",
    "import ast\n",
    "df_merged_new['Interpro_ids'] = df_merged_new['Interpro_ids'].fillna(\"[]\").apply(ast.literal_eval)\n",
    "df_merged_new = df_merged_new.explode('Interpro_ids')\n",
    "\n",
    "#Remove 'InterPro' from ids\n",
    "df_merged_new['Interpro_ids'] = df_merged_new['Interpro_ids'].str.replace('InterPro:', '')"
   ]
  },
  {
   "cell_type": "code",
   "execution_count": 135,
   "metadata": {},
   "outputs": [],
   "source": [
    "#Drop duplicates and reset index\n",
    "df_merged_new.drop_duplicates(inplace=True)\n",
    "df_merged_new.reset_index(drop=True, inplace=True)"
   ]
  },
  {
   "cell_type": "code",
   "execution_count": 139,
   "metadata": {},
   "outputs": [],
   "source": [
    "#Save to csv\n",
    "df_merged_new.to_csv('C:/Users/Elin/Documents/GitHub/predicting-allostery/datafiles/features/features_interactions_merged.txt')"
   ]
  },
  {
   "attachments": {},
   "cell_type": "markdown",
   "metadata": {},
   "source": [
    "### Map InterPro ids to entry type and entry name"
   ]
  },
  {
   "cell_type": "code",
   "execution_count": 140,
   "metadata": {},
   "outputs": [],
   "source": [
    "#Get list of entry type and name for InterPro ids, downloaded from the InterPro website\n",
    "df_entry_list = pd.read_csv('C:/Users/Elin/Documents/GitHub/predicting-allostery/datafiles/support/entry.list.txt', sep='\\t', header=0)\n",
    "\n",
    "#Merge dataframe of features and interactions with the entry-list to map InterPro id to entry type and name\n",
    "df_merged_type = pd.merge(df_merged_new, df_entry_list, left_on='Interpro_ids', right_on='ENTRY_AC', how='left').drop('ENTRY_AC', axis=1)"
   ]
  },
  {
   "cell_type": "code",
   "execution_count": 143,
   "metadata": {},
   "outputs": [],
   "source": [
    "#Save file to csv\n",
    "df_merged_type.to_csv('C:/Users/Elin/Documents/GitHub/predicting-allostery/datafiles/features/features_interactions_merged_types.txt')"
   ]
  },
  {
   "attachments": {},
   "cell_type": "markdown",
   "metadata": {},
   "source": [
    "### Get the features/InterPro ids for organisms and EC numbers in phylogenetic tree"
   ]
  },
  {
   "attachments": {},
   "cell_type": "markdown",
   "metadata": {},
   "source": [
    "###### This part retrieves the InterPro ids for the Organism-EC number pairs that are mapped in the phylogenetic tree used to identify predicted interactions. The reasoning for doing so is that not all of these EC numbers were documented in BRENDA for all top hundred organisms, and therefore we did not have data on the features for these organisms, resulting in false-negative predictions. "
   ]
  },
  {
   "cell_type": "code",
   "execution_count": 51,
   "metadata": {},
   "outputs": [],
   "source": [
    "#Create list of the EC numbers mapped on the phylogenetic tree\n",
    "top_ten_ECs = ['1.3.5.1', '2.2.1.6', '2.7.1.1', '2.7.1.11', '2.7.1.30', '2.7.1.40', '2.7.2.4', '2.7.7.27', '3.1.3.11', '6.4.1.1']"
   ]
  },
  {
   "cell_type": "code",
   "execution_count": 52,
   "metadata": {},
   "outputs": [],
   "source": [
    "#Make a dataframe of the top hundred organisms \n",
    "df_top_hundred = pd.DataFrame(top_hundred_list, columns=['Org'])"
   ]
  },
  {
   "cell_type": "code",
   "execution_count": 53,
   "metadata": {},
   "outputs": [],
   "source": [
    "#Associate every organism with every EC number in the top ten group\n",
    "df_top_hundred['EC'] = [top_ten_ECs]*100\n",
    "df_top_hundred_EC = df_top_hundred.explode('EC').reset_index(drop=True)\n",
    "\n",
    "#Apply string-formula to dataframe to get entry-strings\n",
    "df_top_hundred_EC['Entry_string'] = df_top_hundred_EC.apply(lambda x: entry_formula(x['EC'], x['Org']), axis=1)"
   ]
  },
  {
   "cell_type": "code",
   "execution_count": null,
   "metadata": {},
   "outputs": [],
   "source": [
    "#Get feature info for every EC number+Organism combination\n",
    "\n",
    "feature_dfs_tree = []\n",
    "\n",
    "entries = set(df_top_hundred_EC['Entry_string'])\n",
    "\n",
    "#Takes about five minutes\n",
    "for entry in entries:\n",
    "    feature_dfs_tree.append(u.get_df(entry, limit=100))\n",
    "\n",
    "df = pd.concat(feature_dfs_tree, axis=0)"
   ]
  },
  {
   "cell_type": "code",
   "execution_count": 60,
   "metadata": {},
   "outputs": [],
   "source": [
    "#Make dataframe with only columns that are relevant for further work\n",
    "columns_of_interest = ['Entry', 'Gene Names (primary)', 'Organism', 'Protein names']\n",
    "df_features_topEC = df[columns_of_interest]"
   ]
  },
  {
   "cell_type": "code",
   "execution_count": 61,
   "metadata": {},
   "outputs": [
    {
     "name": "stderr",
     "output_type": "stream",
     "text": [
      "C:\\Users\\Elin\\AppData\\Local\\Temp\\ipykernel_16964\\3510331029.py:2: SettingWithCopyWarning: \n",
      "A value is trying to be set on a copy of a slice from a DataFrame.\n",
      "Try using .loc[row_indexer,col_indexer] = value instead\n",
      "\n",
      "See the caveats in the documentation: https://pandas.pydata.org/pandas-docs/stable/user_guide/indexing.html#returning-a-view-versus-a-copy\n",
      "  df_features_topEC['Interpro_ids'] = df_features_topEC['Entry'].apply(lambda entry: retrieve_interpro_ids(entry))\n",
      "C:\\Users\\Elin\\AppData\\Local\\Temp\\ipykernel_16964\\3510331029.py:3: SettingWithCopyWarning: \n",
      "A value is trying to be set on a copy of a slice from a DataFrame.\n",
      "Try using .loc[row_indexer,col_indexer] = value instead\n",
      "\n",
      "See the caveats in the documentation: https://pandas.pydata.org/pandas-docs/stable/user_guide/indexing.html#returning-a-view-versus-a-copy\n",
      "  df_features_topEC['EC numbers'] = df_features_topEC['Protein names'].apply(lambda string: extract_EC(string))\n"
     ]
    }
   ],
   "source": [
    "#Get InterPro ids for all features and extract EC numbers\n",
    "#Takes about 20 minutes\n",
    "df_features_topEC['Interpro_ids'] = df_features_topEC['Entry'].apply(lambda entry: retrieve_interpro_ids(entry))\n",
    "df_features_topEC['EC numbers'] = df_features_topEC['Protein names'].apply(lambda string: extract_EC(string))"
   ]
  },
  {
   "cell_type": "code",
   "execution_count": 63,
   "metadata": {},
   "outputs": [],
   "source": [
    "#Make dataframe with only wanted columns\n",
    "df_features_topEC_small = df_features_topEC[['Entry', 'Organism', 'EC numbers', 'Interpro_ids']]\n",
    "\n",
    "#Explode dataframe to get one EC number per row\n",
    "df_features_topEC_exp = df_features_topEC_small.explode('EC numbers')\n",
    "\n",
    "#Clean up EC numbers and organism names\n",
    "df_features_topEC_exp['EC numbers'] = df_features_topEC_exp['EC numbers'].str.replace('EC ', '')\n",
    "df_features_topEC_exp['Org'] = df_features_topEC_exp['Organism'].apply(lambda x: ' '.join(x.split()[:2]))"
   ]
  },
  {
   "cell_type": "code",
   "execution_count": 67,
   "metadata": {},
   "outputs": [],
   "source": [
    "#Save file to csv\n",
    "df_features_topEC_exp.to_csv('C:/Users/Elin/Documents/GitHub/predicting-allostery/datafiles/features/features_for_ECs_in_tree.txt')"
   ]
  },
  {
   "cell_type": "code",
   "execution_count": null,
   "metadata": {},
   "outputs": [],
   "source": []
  }
 ],
 "metadata": {
  "kernelspec": {
   "display_name": "Python 3",
   "language": "python",
   "name": "python3"
  },
  "language_info": {
   "codemirror_mode": {
    "name": "ipython",
    "version": 3
   },
   "file_extension": ".py",
   "mimetype": "text/x-python",
   "name": "python",
   "nbconvert_exporter": "python",
   "pygments_lexer": "ipython3",
   "version": "3.8.6"
  },
  "orig_nbformat": 4,
  "vscode": {
   "interpreter": {
    "hash": "436b2daae35b1d81a27495251f54690ee226a662a175ea582d303ed01ff4427f"
   }
  }
 },
 "nbformat": 4,
 "nbformat_minor": 2
}
