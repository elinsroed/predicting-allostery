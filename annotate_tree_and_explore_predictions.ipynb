{
 "cells": [
  {
   "cell_type": "code",
   "execution_count": 1,
   "metadata": {},
   "outputs": [],
   "source": [
    "import pandas as pd\n",
    "from collections import Counter\n",
    "import ast"
   ]
  },
  {
   "attachments": {},
   "cell_type": "markdown",
   "metadata": {},
   "source": [
    "### Load and organize data"
   ]
  },
  {
   "cell_type": "code",
   "execution_count": 2,
   "metadata": {},
   "outputs": [],
   "source": [
    "#Load data from BRENDA\n",
    "df = pd.read_csv('BRENDA_interactions.txt', header=0, sep='\\t', index_col=0).drop_duplicates().reset_index(drop=True)"
   ]
  },
  {
   "cell_type": "code",
   "execution_count": 6,
   "metadata": {},
   "outputs": [],
   "source": [
    "#Create a dataframe of the top hundred organisms\n",
    "brenda_top_hundred = pd.read_csv('top_hundred_organisms.txt', index_col=0, header=0, sep='\\t')\n",
    "\n",
    "#Create dataframe with interactions from only top hundred organisms\n",
    "df_top_organisms_brenda = df[df['Org'].isin(list(brenda_top_hundred['Org']))]"
   ]
  },
  {
   "cell_type": "code",
   "execution_count": 8,
   "metadata": {},
   "outputs": [],
   "source": [
    "#One of the top hundred organisms in the data from BRENDA is \"mammal\"\n",
    "#In the phylogenetic tree I created, these are the organisms on the \"Mammal\" branch:\n",
    "mammals = ['Cavia_porcellus',\n",
    " 'Rattus_norvegicus',\n",
    " 'Rattus_sp.',\n",
    " 'Mus_musculus',\n",
    " 'Cricetulus_griseus',\n",
    " 'Mesocricetus_auratus',\n",
    " 'Oryctolagus_cuniculus',\n",
    " 'Homo_sapiens',\n",
    " 'Ovis_aries',\n",
    " 'Bos_taurus',\n",
    " 'Sus_scrofa',\n",
    " 'Equus_caballus',\n",
    " 'Canis_lupus']\n",
    "\n",
    "\n",
    "#Replace the underscore with space\n",
    "mammals_new = []\n",
    "for mammal in mammals:\n",
    "    mammals_new.append(mammal.replace('_', ' '))"
   ]
  },
  {
   "cell_type": "code",
   "execution_count": 9,
   "metadata": {},
   "outputs": [],
   "source": [
    "#Set every organism listed as \"Mammalia\" to the list of mammals\n",
    "for ind, row in df_top_organisms_brenda.iterrows():\n",
    "    if row['Org'] == 'Mammalia':\n",
    "        df_top_organisms_brenda['Org'].at[ind] = mammals_new"
   ]
  },
  {
   "cell_type": "code",
   "execution_count": 10,
   "metadata": {},
   "outputs": [],
   "source": [
    "#Explode dataframe on Org to get one organism on each row, and remove duplicates\n",
    "df_top_organisms_brenda = df_top_organisms_brenda.explode('Org').drop_duplicates(['EC', 'Org', 'Mode', 'ChEBI'])"
   ]
  },
  {
   "attachments": {},
   "cell_type": "markdown",
   "metadata": {},
   "source": [
    "### Annotate the phylogenetic tree with interactions"
   ]
  },
  {
   "attachments": {},
   "cell_type": "markdown",
   "metadata": {},
   "source": [
    "#### Find top EC numbers and their respective top metabolite"
   ]
  },
  {
   "cell_type": "code",
   "execution_count": 17,
   "metadata": {},
   "outputs": [],
   "source": [
    "#Group the organisms by EC number to get a set of organisms for each EC number\n",
    "df_groups_top_ECs = df_top_organisms_brenda.groupby('EC')['Org'].apply(set).reset_index()"
   ]
  },
  {
   "cell_type": "code",
   "execution_count": 18,
   "metadata": {},
   "outputs": [],
   "source": [
    "#Create column with the number of organisms every EC number is documented for\n",
    "#This is done to find the top ten documented EC numbers\n",
    "df_groups_top_ECs['Count'] = df_groups_top_ECs.agg({'Org':len})\n",
    "\n",
    "#Take the top ten EC numbers\n",
    "df_top_ten_ECs = df_groups_top_ECs.sort_values('Count', ascending=False).head(10)"
   ]
  },
  {
   "cell_type": "code",
   "execution_count": 13,
   "metadata": {},
   "outputs": [],
   "source": [
    "#Add an \"interaction\" column (CHEBI:mode) to the interaction data \n",
    "df_top_organisms_brenda['Interaction'] = df_top_organisms_brenda['ChEBI'] + ':' + df_top_organisms_brenda['Mode']\n",
    "\n",
    "#Group the interactions by EC number to get a set of interactions for each EC number\n",
    "df_groups_top_ECs_with_mets = df_top_organisms_brenda.groupby('EC')['Interaction'].apply(list).reset_index()"
   ]
  },
  {
   "cell_type": "code",
   "execution_count": 14,
   "metadata": {},
   "outputs": [],
   "source": [
    "#Create column with the count of each interaction for each EC number\n",
    "#This is done to get the top interaction (metabolite+mode) for each EC number\n",
    "df_groups_top_ECs_with_mets['Counts'] = df_groups_top_ECs_with_mets['Interaction'].apply(lambda x: dict(Counter(x)))"
   ]
  },
  {
   "cell_type": "code",
   "execution_count": 20,
   "metadata": {},
   "outputs": [],
   "source": [
    "#Make a dataframe of the top ten EC numbers and their interaction counts\n",
    "df_top_ten_ECs_interactions = pd.merge(df_top_ten_ECs, df_groups_top_ECs_with_mets[['EC', 'Counts']], how='left', on='EC')"
   ]
  },
  {
   "cell_type": "code",
   "execution_count": 22,
   "metadata": {},
   "outputs": [],
   "source": [
    "#Make column with the top interaction for each EC number\n",
    "df_top_ten_ECs_interactions['Top interaction'] = df_top_ten_ECs_interactions['Counts'].apply(lambda x: max(x, key=x.get))"
   ]
  },
  {
   "cell_type": "code",
   "execution_count": 26,
   "metadata": {},
   "outputs": [],
   "source": [
    "#Group organisms in BRENDA by EC number and interaction \n",
    "#This is done to get the organisms in which the interactions (EC number:ChEBI:mode) are documented\n",
    "df_groups_ECs_interactions = df_top_organisms_brenda.groupby(['EC', 'Interaction'])['Org'].apply(set).reset_index() "
   ]
  },
  {
   "cell_type": "code",
   "execution_count": 28,
   "metadata": {},
   "outputs": [],
   "source": [
    "#Make a column of full interaction (EC number+interaction)\n",
    "df_groups_ECs_interactions['EC+Interaction'] = df_groups_ECs_interactions['EC'] + ':' + df_groups_ECs_interactions['Interaction']"
   ]
  },
  {
   "cell_type": "code",
   "execution_count": 31,
   "metadata": {},
   "outputs": [],
   "source": [
    "#Make a column of full interaction (EC number+interaction)\n",
    "df_top_ten_ECs_interactions['EC+Interaction'] = df_top_ten_ECs_interactions['EC'] + ':' + df_top_ten_ECs_interactions['Top interaction']"
   ]
  },
  {
   "cell_type": "code",
   "execution_count": 34,
   "metadata": {},
   "outputs": [],
   "source": [
    "#Drop every row from the BRENDA data that does not represent the top ten interactions (EC number:ChEBI:mode)\n",
    "#This is done to get a dataframe of the top ten EC numbers, their top metabolic regulator + mode, and the organisms in which these are documented\n",
    "\n",
    "for ind, row in df_groups_ECs_interactions.iterrows():\n",
    "    if row['EC+Interaction'] not in list(df_top_ten_ECs_interactions['EC+Interaction']):\n",
    "        df_groups_ECs_interactions.drop(ind, inplace=True)"
   ]
  },
  {
   "cell_type": "code",
   "execution_count": 42,
   "metadata": {},
   "outputs": [],
   "source": [
    "#Make column of the ChEBI id of the top metabolic regulator\n",
    "df_groups_ECs_interactions['ChEBI'] = df_groups_ECs_interactions['Interaction'].apply(lambda x: x[:-2])\n",
    "\n",
    "#Make column of the mode of the top metabolic regulation\n",
    "df_groups_ECs_interactions['Mode'] = df_groups_ECs_interactions['Interaction'].apply(lambda x: x[-1])"
   ]
  },
  {
   "cell_type": "code",
   "execution_count": 43,
   "metadata": {},
   "outputs": [],
   "source": [
    "#Make a dictionary of one synonym for each metabolite\n",
    "df_mets_grouped = df[['Met', 'ChEBI']].drop_duplicates().groupby(['ChEBI'])['Met'].apply(list).apply(lambda x: x[0]).reset_index()\n",
    "mets_dict = pd.Series(df_mets_grouped.Met.values, index=df_mets_grouped.ChEBI).to_dict()\n",
    "\n",
    "#Map the ChEBI ids to metabolite name\n",
    "df_groups_ECs_interactions['Met'] = df_groups_ECs_interactions['ChEBI'].map(mets_dict)"
   ]
  },
  {
   "attachments": {},
   "cell_type": "markdown",
   "metadata": {},
   "source": [
    "#### Make binary annotation file for iTOL"
   ]
  },
  {
   "cell_type": "code",
   "execution_count": 127,
   "metadata": {},
   "outputs": [],
   "source": [
    "#Create a dataframe of the top hundred organisms, minus mammalia\n",
    "#Results in 99 organisms\n",
    "df_itol_binary = brenda_top_hundred\n",
    "df_itol_binary = df_itol_binary[~df_itol_binary['Org'].isin(['Mammalia'])]"
   ]
  },
  {
   "cell_type": "code",
   "execution_count": 47,
   "metadata": {},
   "outputs": [
    {
     "name": "stderr",
     "output_type": "stream",
     "text": [
      "c:\\Users\\Elin\\AppData\\Local\\Programs\\Python\\Python38\\lib\\site-packages\\pandas\\core\\indexing.py:1599: SettingWithCopyWarning: \n",
      "A value is trying to be set on a copy of a slice from a DataFrame.\n",
      "Try using .loc[row_indexer,col_indexer] = value instead\n",
      "\n",
      "See the caveats in the documentation: https://pandas.pydata.org/pandas-docs/stable/user_guide/indexing.html#returning-a-view-versus-a-copy\n",
      "  self.obj[key] = infer_fill_value(value)\n",
      "c:\\Users\\Elin\\AppData\\Local\\Programs\\Python\\Python38\\lib\\site-packages\\pandas\\core\\indexing.py:1720: SettingWithCopyWarning: \n",
      "A value is trying to be set on a copy of a slice from a DataFrame.\n",
      "Try using .loc[row_indexer,col_indexer] = value instead\n",
      "\n",
      "See the caveats in the documentation: https://pandas.pydata.org/pandas-docs/stable/user_guide/indexing.html#returning-a-view-versus-a-copy\n",
      "  self._setitem_single_column(loc, value, pi)\n"
     ]
    }
   ],
   "source": [
    "#Create the dataframe of binary values for plotting interactions\n",
    "\n",
    "#Make a copy of the binary dataframe\n",
    "df_itol_binary2 = df_itol_binary\n",
    "\n",
    "#Iterate through every organism in the tree\n",
    "for ind1, row1 in df_itol_binary2.iterrows():\n",
    "    #Iterate through every interaction we are interested in plotting \n",
    "    for ind2, row2 in df_groups_ECs_interactions.iterrows():\n",
    "        #Make the interaction label\n",
    "        interaction = f\"{row2['EC']} {row2['Met']} {row2['Mode']}\"\n",
    "        \n",
    "        #Check if the interaction is documented for the organism in question\n",
    "        if row1['Org'] in row2['Org']:\n",
    "            #Set the binary value to 1 if interaction is documented\n",
    "            df_itol_binary2.loc[ind1, interaction] = 1\n",
    "        else:\n",
    "            #Set the binary value to 0 if interaction is not documented\n",
    "            df_itol_binary2.loc[ind1, interaction] = -1\n",
    "            "
   ]
  },
  {
   "cell_type": "code",
   "execution_count": 48,
   "metadata": {},
   "outputs": [
    {
     "name": "stderr",
     "output_type": "stream",
     "text": [
      "C:\\Users\\Elin\\AppData\\Local\\Temp\\ipykernel_20380\\2978498371.py:2: SettingWithCopyWarning: \n",
      "A value is trying to be set on a copy of a slice from a DataFrame.\n",
      "Try using .loc[row_indexer,col_indexer] = value instead\n",
      "\n",
      "See the caveats in the documentation: https://pandas.pydata.org/pandas-docs/stable/user_guide/indexing.html#returning-a-view-versus-a-copy\n",
      "  df_itol_binary2['Org'] = df_itol_binary2['Org'].replace(' ', '_', regex=True)\n"
     ]
    }
   ],
   "source": [
    "#Replace ' ' with underscore in organism names\n",
    "df_itol_binary2['Org'] = df_itol_binary2['Org'].replace(' ', '_', regex=True)"
   ]
  },
  {
   "cell_type": "code",
   "execution_count": null,
   "metadata": {},
   "outputs": [],
   "source": [
    "#Copy the binary dataframe to clipboard for creating the file that is uploaded to iTOL\n",
    "df_itol_binary2.to_clipboard(index=False)"
   ]
  },
  {
   "attachments": {},
   "cell_type": "markdown",
   "metadata": {},
   "source": [
    "### Map predicted interactions to tree"
   ]
  },
  {
   "attachments": {},
   "cell_type": "markdown",
   "metadata": {},
   "source": [
    "#### Load an organize data"
   ]
  },
  {
   "cell_type": "code",
   "execution_count": 52,
   "metadata": {},
   "outputs": [],
   "source": [
    "#Load the predicted interactions from enrichment analysis\n",
    "df_predicted = pd.read_csv('predicted_interactions.txt', header=0, index_col=0)"
   ]
  },
  {
   "cell_type": "code",
   "execution_count": 63,
   "metadata": {},
   "outputs": [],
   "source": [
    "#Make a list of the interactions (ChEBI+mode) that are mapped to the tree\n",
    "interactions_in_tree = list(df_groups_ECs_interactions['Interaction'])"
   ]
  },
  {
   "cell_type": "code",
   "execution_count": 65,
   "metadata": {},
   "outputs": [],
   "source": [
    "#Filter the dataframe of predicted interactions for those that are in the tree\n",
    "df_predicted_tree = df_predicted[df_predicted['interaction'].apply(lambda x: x in interactions_in_tree)]"
   ]
  },
  {
   "cell_type": "code",
   "execution_count": 66,
   "metadata": {},
   "outputs": [],
   "source": [
    "#Make a list of the EC numbers that are mapped to the tree\n",
    "interactions_in_tree_EC = [row['EC'] for i,row in df_groups_ECs_interactions.iterrows()]"
   ]
  },
  {
   "cell_type": "code",
   "execution_count": 77,
   "metadata": {},
   "outputs": [],
   "source": [
    "#Load the file of features downloaded for every EC number + organism pair that is in the tree\n",
    "df_features = pd.read_csv('features_for_ECs_in_tree.txt', index_col=0, header=0)"
   ]
  },
  {
   "cell_type": "code",
   "execution_count": 83,
   "metadata": {},
   "outputs": [],
   "source": [
    "#When downloading features for the EC number + organism pairs, entries for other organisms are also returned.\n",
    "#These entries are removed by only keeping those that are from the top hundred organisms\n",
    "df_features_tree = df_features[df_features['Org'].apply(lambda x: x in set(brenda_top_hundred['Org']))]"
   ]
  },
  {
   "cell_type": "code",
   "execution_count": 85,
   "metadata": {},
   "outputs": [],
   "source": [
    "#Set every organism listed as \"Mammalia\" to the list of mammals\n",
    "for ind, row in df_features_tree.iterrows():\n",
    "    if row['Org'] == 'Mammalia':\n",
    "        df_features_tree['Org'].at[ind] = mammals_new"
   ]
  },
  {
   "cell_type": "code",
   "execution_count": 90,
   "metadata": {},
   "outputs": [],
   "source": [
    "#Explode dataframe on organism and drop duplicates\n",
    "df_features_tree_exploded_org = df_features_tree.explode('Org').drop_duplicates(['EC numbers', 'Org', 'Interpro_ids'])"
   ]
  },
  {
   "cell_type": "code",
   "execution_count": 97,
   "metadata": {},
   "outputs": [],
   "source": [
    "#Make sure that the InterPro ids are evaluated as strings\n",
    "df_features_tree_exploded_org['Interpro_ids'] = df_features_tree_exploded_org['Interpro_ids'].apply(lambda string: ast.literal_eval(string))"
   ]
  },
  {
   "cell_type": "code",
   "execution_count": 98,
   "metadata": {},
   "outputs": [],
   "source": [
    "#Explode dataframe on interpro ids to get one each row\n",
    "df_features_tree_exploded_interpro = df_features_tree_exploded_org.explode('Interpro_ids')"
   ]
  },
  {
   "cell_type": "code",
   "execution_count": 100,
   "metadata": {},
   "outputs": [],
   "source": [
    "#Remove the \"InterPro\" part of the InterPro ids\n",
    "df_features_tree_exploded_interpro['Interpro_ids'] = df_features_tree_exploded_interpro['Interpro_ids'].str.replace('InterPro:', '')"
   ]
  },
  {
   "cell_type": "code",
   "execution_count": 101,
   "metadata": {},
   "outputs": [],
   "source": [
    "#Remove duplicates and reset dataframe index\n",
    "df_features_tree_exploded_interpro.drop_duplicates(inplace=True)\n",
    "df_features_tree_exploded_interpro.reset_index(drop=True, inplace=True)"
   ]
  },
  {
   "attachments": {},
   "cell_type": "markdown",
   "metadata": {},
   "source": [
    "#### Find organisms for which interactions are predicted"
   ]
  },
  {
   "cell_type": "code",
   "execution_count": 104,
   "metadata": {},
   "outputs": [],
   "source": [
    "#Make groups of features that are associated with each interaction in the tree\n",
    "feature_groups = df_predicted_tree.groupby('interaction').agg({'features':set}).reset_index()"
   ]
  },
  {
   "cell_type": "code",
   "execution_count": 107,
   "metadata": {},
   "outputs": [],
   "source": [
    "#Make a dictionary with each interaction in the tree as keys and an empty list as values\n",
    "#This dictionary is to be used for finding the organisms for which these interactions are predicted\n",
    "predicted_organisms = {key: [] for key in list(feature_groups['interaction'])}"
   ]
  },
  {
   "cell_type": "code",
   "execution_count": 111,
   "metadata": {},
   "outputs": [],
   "source": [
    "#This block of code iterates through all the features that were downloaded for the EC number and organism combinations,\n",
    "#and checks whether this feature predicts an interaction. \n",
    "\n",
    "#Iterate through every row of features retrieved for the EC number + organism combo\n",
    "for ind1, row1 in df_features_tree_exploded_interpro.iterrows():\n",
    "    \n",
    "    #Iterate through every row of features associated with interactions\n",
    "    for ind2, row2 in feature_groups.iterrows():\n",
    "        \n",
    "        #Check if the feature retrieved for the EC+org combo is associated with the interaction and not already noted \n",
    "        if (row1['Interpro_ids'] in row2['features']) and (row1['Org'] not in predicted_organisms[row2['interaction']]):\n",
    "            \n",
    "            #Add the organism to the list of organisms for which the interaction is predicted\n",
    "            predicted_organisms[row2['interaction']].append(row1['Org'])   "
   ]
  },
  {
   "cell_type": "code",
   "execution_count": 113,
   "metadata": {},
   "outputs": [],
   "source": [
    "#Add a column to the interactions dataframe for the organisms for which the interaction is predicted\n",
    "df_groups_ECs_interactions['Org_predicted'] = ''"
   ]
  },
  {
   "cell_type": "code",
   "execution_count": 115,
   "metadata": {},
   "outputs": [],
   "source": [
    "#This block of code iterates through the dictionary of interactions and organisms for which they are predicted to be present,\n",
    "#and adds those organisms to the column of predicted organisms in the interactions dataframe.\n",
    "\n",
    "for interaction, organisms in predicted_organisms.items():\n",
    "    for ind, row in df_groups_ECs_interactions.iterrows():\n",
    "        if '{}:{}'.format(row['ChEBI'], row['Mode']) == interaction:\n",
    "            df_groups_ECs_interactions['Org_predicted'][ind] = organisms"
   ]
  },
  {
   "cell_type": "code",
   "execution_count": 132,
   "metadata": {},
   "outputs": [
    {
     "name": "stderr",
     "output_type": "stream",
     "text": [
      "c:\\Users\\Elin\\AppData\\Local\\Programs\\Python\\Python38\\lib\\site-packages\\pandas\\core\\indexing.py:1599: SettingWithCopyWarning: \n",
      "A value is trying to be set on a copy of a slice from a DataFrame.\n",
      "Try using .loc[row_indexer,col_indexer] = value instead\n",
      "\n",
      "See the caveats in the documentation: https://pandas.pydata.org/pandas-docs/stable/user_guide/indexing.html#returning-a-view-versus-a-copy\n",
      "  self.obj[key] = infer_fill_value(value)\n",
      "c:\\Users\\Elin\\AppData\\Local\\Programs\\Python\\Python38\\lib\\site-packages\\pandas\\core\\indexing.py:1720: SettingWithCopyWarning: \n",
      "A value is trying to be set on a copy of a slice from a DataFrame.\n",
      "Try using .loc[row_indexer,col_indexer] = value instead\n",
      "\n",
      "See the caveats in the documentation: https://pandas.pydata.org/pandas-docs/stable/user_guide/indexing.html#returning-a-view-versus-a-copy\n",
      "  self._setitem_single_column(loc, value, pi)\n"
     ]
    }
   ],
   "source": [
    "#Create the dataframe of binary values for plotting documented and predicted interactions\n",
    "\n",
    "#Make a copy of the binary dataframe\n",
    "df_itol_binary3 = df_itol_binary\n",
    "\n",
    "#Iterate through every organism in the tree\n",
    "for ind1, row1 in df_itol_binary3.iterrows():\n",
    "    #Iterate through every interaction we are interested in plotting \n",
    "    for ind2, row2 in df_groups_ECs_interactions.iterrows():\n",
    "        #Make the interaction label\n",
    "        interaction = f\"{row2['EC']} {row2['Met']} {row2['Mode']}\"\n",
    "        \n",
    "        #Check if the interaction is documented for the organism in question\n",
    "        if row1['Org'] in row2['Org']:\n",
    "            #Set the binary value to 1 if interaction is documented\n",
    "            df_itol_binary3.loc[ind1, interaction] = 1\n",
    "        #Check if the interaction is predicted for the organism in question\n",
    "        elif row1['Org'] in row2['Org_predicted']:\n",
    "            #Set the binary value to 0 if interaction is predicted\n",
    "            df_itol_binary3.loc[ind1, interaction] = 0\n",
    "        else:\n",
    "            #Set the binary value to 0 if interaction is not documented or predicted\n",
    "            df_itol_binary3.loc[ind1, interaction] = -1\n",
    "            "
   ]
  },
  {
   "cell_type": "code",
   "execution_count": 133,
   "metadata": {},
   "outputs": [
    {
     "name": "stderr",
     "output_type": "stream",
     "text": [
      "C:\\Users\\Elin\\AppData\\Local\\Temp\\ipykernel_20380\\3248409273.py:2: SettingWithCopyWarning: \n",
      "A value is trying to be set on a copy of a slice from a DataFrame.\n",
      "Try using .loc[row_indexer,col_indexer] = value instead\n",
      "\n",
      "See the caveats in the documentation: https://pandas.pydata.org/pandas-docs/stable/user_guide/indexing.html#returning-a-view-versus-a-copy\n",
      "  df_itol_binary3['Org'] = df_itol_binary3['Org'].replace(' ', '_', regex=True)\n"
     ]
    }
   ],
   "source": [
    "#Replace ' ' in organism name with underscore\n",
    "df_itol_binary3['Org'] = df_itol_binary3['Org'].replace(' ', '_', regex=True)"
   ]
  },
  {
   "cell_type": "code",
   "execution_count": 135,
   "metadata": {},
   "outputs": [
    {
     "data": {
      "text/plain": [
       "-1.0                             546\n",
       "0.0                              230\n",
       "1.0                              214\n",
       "Cricetulus_griseus                 1\n",
       "Bacillus_subtilis                  1\n",
       "                                ... \n",
       "Lactiplantibacillus_plantarum      1\n",
       "Mesocricetus_auratus               1\n",
       "Pyrococcus_furiosus                1\n",
       "Staphylococcus_aureus              1\n",
       "Salmonella_enterica                1\n",
       "Length: 102, dtype: int64"
      ]
     },
     "execution_count": 135,
     "metadata": {},
     "output_type": "execute_result"
    }
   ],
   "source": [
    "#Check number of documented and predicted interactions\n",
    "#The number of documented interactions is given by the number of 1s --> 214 documented interactions\n",
    "#The number of predicted interactions is given by the number of 0s --> 230 predicted interactions\n",
    "df_itol_binary3.stack().value_counts()"
   ]
  },
  {
   "cell_type": "code",
   "execution_count": 134,
   "metadata": {},
   "outputs": [
    {
     "data": {
      "text/html": [
       "<div>\n",
       "<style scoped>\n",
       "    .dataframe tbody tr th:only-of-type {\n",
       "        vertical-align: middle;\n",
       "    }\n",
       "\n",
       "    .dataframe tbody tr th {\n",
       "        vertical-align: top;\n",
       "    }\n",
       "\n",
       "    .dataframe thead th {\n",
       "        text-align: right;\n",
       "    }\n",
       "</style>\n",
       "<table border=\"1\" class=\"dataframe\">\n",
       "  <thead>\n",
       "    <tr style=\"text-align: right;\">\n",
       "      <th></th>\n",
       "      <th>Org</th>\n",
       "      <th>1.3.5.1 malonate -</th>\n",
       "      <th>2.2.1.6 L-valine -</th>\n",
       "      <th>2.7.1.1 D-glucose 6-phosphate -</th>\n",
       "      <th>2.7.1.11 citrate -</th>\n",
       "      <th>2.7.1.30 alpha-glycerophosphate -</th>\n",
       "      <th>2.7.1.40 D-fructose 1,6-bisphosphate +</th>\n",
       "      <th>2.7.2.4 L-threonine -</th>\n",
       "      <th>2.7.7.27 3-phosphoglycerate +</th>\n",
       "      <th>3.1.3.11 AMP -</th>\n",
       "      <th>6.4.1.1 acetyl-CoA +</th>\n",
       "    </tr>\n",
       "  </thead>\n",
       "  <tbody>\n",
       "    <tr>\n",
       "      <th>0</th>\n",
       "      <td>Homo_sapiens</td>\n",
       "      <td>1.0</td>\n",
       "      <td>0.0</td>\n",
       "      <td>1.0</td>\n",
       "      <td>1.0</td>\n",
       "      <td>1.0</td>\n",
       "      <td>1.0</td>\n",
       "      <td>-1.0</td>\n",
       "      <td>-1.0</td>\n",
       "      <td>1.0</td>\n",
       "      <td>1.0</td>\n",
       "    </tr>\n",
       "    <tr>\n",
       "      <th>1</th>\n",
       "      <td>Rattus_norvegicus</td>\n",
       "      <td>1.0</td>\n",
       "      <td>0.0</td>\n",
       "      <td>1.0</td>\n",
       "      <td>1.0</td>\n",
       "      <td>1.0</td>\n",
       "      <td>1.0</td>\n",
       "      <td>-1.0</td>\n",
       "      <td>-1.0</td>\n",
       "      <td>1.0</td>\n",
       "      <td>1.0</td>\n",
       "    </tr>\n",
       "    <tr>\n",
       "      <th>2</th>\n",
       "      <td>Escherichia_coli</td>\n",
       "      <td>1.0</td>\n",
       "      <td>1.0</td>\n",
       "      <td>0.0</td>\n",
       "      <td>1.0</td>\n",
       "      <td>1.0</td>\n",
       "      <td>1.0</td>\n",
       "      <td>1.0</td>\n",
       "      <td>1.0</td>\n",
       "      <td>1.0</td>\n",
       "      <td>-1.0</td>\n",
       "    </tr>\n",
       "    <tr>\n",
       "      <th>3</th>\n",
       "      <td>Bos_taurus</td>\n",
       "      <td>1.0</td>\n",
       "      <td>-1.0</td>\n",
       "      <td>1.0</td>\n",
       "      <td>1.0</td>\n",
       "      <td>1.0</td>\n",
       "      <td>1.0</td>\n",
       "      <td>-1.0</td>\n",
       "      <td>-1.0</td>\n",
       "      <td>1.0</td>\n",
       "      <td>1.0</td>\n",
       "    </tr>\n",
       "    <tr>\n",
       "      <th>4</th>\n",
       "      <td>Saccharomyces_cerevisiae</td>\n",
       "      <td>1.0</td>\n",
       "      <td>1.0</td>\n",
       "      <td>1.0</td>\n",
       "      <td>1.0</td>\n",
       "      <td>1.0</td>\n",
       "      <td>1.0</td>\n",
       "      <td>1.0</td>\n",
       "      <td>-1.0</td>\n",
       "      <td>1.0</td>\n",
       "      <td>1.0</td>\n",
       "    </tr>\n",
       "    <tr>\n",
       "      <th>...</th>\n",
       "      <td>...</td>\n",
       "      <td>...</td>\n",
       "      <td>...</td>\n",
       "      <td>...</td>\n",
       "      <td>...</td>\n",
       "      <td>...</td>\n",
       "      <td>...</td>\n",
       "      <td>...</td>\n",
       "      <td>...</td>\n",
       "      <td>...</td>\n",
       "      <td>...</td>\n",
       "    </tr>\n",
       "    <tr>\n",
       "      <th>95</th>\n",
       "      <td>Acetoanaerobium_sticklandii</td>\n",
       "      <td>-1.0</td>\n",
       "      <td>-1.0</td>\n",
       "      <td>-1.0</td>\n",
       "      <td>-1.0</td>\n",
       "      <td>-1.0</td>\n",
       "      <td>-1.0</td>\n",
       "      <td>-1.0</td>\n",
       "      <td>-1.0</td>\n",
       "      <td>-1.0</td>\n",
       "      <td>-1.0</td>\n",
       "    </tr>\n",
       "    <tr>\n",
       "      <th>96</th>\n",
       "      <td>Cricetulus_griseus</td>\n",
       "      <td>1.0</td>\n",
       "      <td>-1.0</td>\n",
       "      <td>1.0</td>\n",
       "      <td>-1.0</td>\n",
       "      <td>-1.0</td>\n",
       "      <td>-1.0</td>\n",
       "      <td>-1.0</td>\n",
       "      <td>-1.0</td>\n",
       "      <td>-1.0</td>\n",
       "      <td>1.0</td>\n",
       "    </tr>\n",
       "    <tr>\n",
       "      <th>97</th>\n",
       "      <td>Helicobacter_pylori</td>\n",
       "      <td>0.0</td>\n",
       "      <td>-1.0</td>\n",
       "      <td>-1.0</td>\n",
       "      <td>-1.0</td>\n",
       "      <td>-1.0</td>\n",
       "      <td>0.0</td>\n",
       "      <td>0.0</td>\n",
       "      <td>-1.0</td>\n",
       "      <td>0.0</td>\n",
       "      <td>-1.0</td>\n",
       "    </tr>\n",
       "    <tr>\n",
       "      <th>98</th>\n",
       "      <td>Cucumis_sativus</td>\n",
       "      <td>-1.0</td>\n",
       "      <td>-1.0</td>\n",
       "      <td>-1.0</td>\n",
       "      <td>-1.0</td>\n",
       "      <td>1.0</td>\n",
       "      <td>-1.0</td>\n",
       "      <td>-1.0</td>\n",
       "      <td>-1.0</td>\n",
       "      <td>-1.0</td>\n",
       "      <td>-1.0</td>\n",
       "    </tr>\n",
       "    <tr>\n",
       "      <th>99</th>\n",
       "      <td>Zymomonas_mobilis</td>\n",
       "      <td>-1.0</td>\n",
       "      <td>-1.0</td>\n",
       "      <td>-1.0</td>\n",
       "      <td>-1.0</td>\n",
       "      <td>-1.0</td>\n",
       "      <td>1.0</td>\n",
       "      <td>-1.0</td>\n",
       "      <td>-1.0</td>\n",
       "      <td>-1.0</td>\n",
       "      <td>-1.0</td>\n",
       "    </tr>\n",
       "  </tbody>\n",
       "</table>\n",
       "<p>99 rows × 11 columns</p>\n",
       "</div>"
      ],
      "text/plain": [
       "                            Org  1.3.5.1 malonate -  2.2.1.6 L-valine -  \\\n",
       "0                  Homo_sapiens                 1.0                 0.0   \n",
       "1             Rattus_norvegicus                 1.0                 0.0   \n",
       "2              Escherichia_coli                 1.0                 1.0   \n",
       "3                    Bos_taurus                 1.0                -1.0   \n",
       "4      Saccharomyces_cerevisiae                 1.0                 1.0   \n",
       "..                          ...                 ...                 ...   \n",
       "95  Acetoanaerobium_sticklandii                -1.0                -1.0   \n",
       "96           Cricetulus_griseus                 1.0                -1.0   \n",
       "97          Helicobacter_pylori                 0.0                -1.0   \n",
       "98              Cucumis_sativus                -1.0                -1.0   \n",
       "99            Zymomonas_mobilis                -1.0                -1.0   \n",
       "\n",
       "    2.7.1.1 D-glucose 6-phosphate -  2.7.1.11 citrate -  \\\n",
       "0                               1.0                 1.0   \n",
       "1                               1.0                 1.0   \n",
       "2                               0.0                 1.0   \n",
       "3                               1.0                 1.0   \n",
       "4                               1.0                 1.0   \n",
       "..                              ...                 ...   \n",
       "95                             -1.0                -1.0   \n",
       "96                              1.0                -1.0   \n",
       "97                             -1.0                -1.0   \n",
       "98                             -1.0                -1.0   \n",
       "99                             -1.0                -1.0   \n",
       "\n",
       "    2.7.1.30 alpha-glycerophosphate -  2.7.1.40 D-fructose 1,6-bisphosphate +  \\\n",
       "0                                 1.0                                     1.0   \n",
       "1                                 1.0                                     1.0   \n",
       "2                                 1.0                                     1.0   \n",
       "3                                 1.0                                     1.0   \n",
       "4                                 1.0                                     1.0   \n",
       "..                                ...                                     ...   \n",
       "95                               -1.0                                    -1.0   \n",
       "96                               -1.0                                    -1.0   \n",
       "97                               -1.0                                     0.0   \n",
       "98                                1.0                                    -1.0   \n",
       "99                               -1.0                                     1.0   \n",
       "\n",
       "    2.7.2.4 L-threonine -  2.7.7.27 3-phosphoglycerate +  3.1.3.11 AMP -  \\\n",
       "0                    -1.0                           -1.0             1.0   \n",
       "1                    -1.0                           -1.0             1.0   \n",
       "2                     1.0                            1.0             1.0   \n",
       "3                    -1.0                           -1.0             1.0   \n",
       "4                     1.0                           -1.0             1.0   \n",
       "..                    ...                            ...             ...   \n",
       "95                   -1.0                           -1.0            -1.0   \n",
       "96                   -1.0                           -1.0            -1.0   \n",
       "97                    0.0                           -1.0             0.0   \n",
       "98                   -1.0                           -1.0            -1.0   \n",
       "99                   -1.0                           -1.0            -1.0   \n",
       "\n",
       "    6.4.1.1 acetyl-CoA +  \n",
       "0                    1.0  \n",
       "1                    1.0  \n",
       "2                   -1.0  \n",
       "3                    1.0  \n",
       "4                    1.0  \n",
       "..                   ...  \n",
       "95                  -1.0  \n",
       "96                   1.0  \n",
       "97                  -1.0  \n",
       "98                  -1.0  \n",
       "99                  -1.0  \n",
       "\n",
       "[99 rows x 11 columns]"
      ]
     },
     "execution_count": 134,
     "metadata": {},
     "output_type": "execute_result"
    }
   ],
   "source": [
    "df_itol_binary3.to_clipboard(index=False)"
   ]
  },
  {
   "attachments": {},
   "cell_type": "markdown",
   "metadata": {},
   "source": [
    "### Make file of predicted interactions for validation"
   ]
  },
  {
   "cell_type": "code",
   "execution_count": 136,
   "metadata": {},
   "outputs": [],
   "source": [
    "#Prepare a dataframe\n",
    "df_predicted_validation = pd.DataFrame(columns=['Organism', 'EC number', 'Metabolite (ChEBI)', 'Mode'])"
   ]
  },
  {
   "cell_type": "code",
   "execution_count": 138,
   "metadata": {},
   "outputs": [],
   "source": [
    "#Iterate through the interactions dataframe to find predicted interactions\n",
    "for ind, row in df_groups_ECs_interactions.iterrows():\n",
    "    #Set EC, ChEBI and mode variables\n",
    "    EC = row['EC']\n",
    "    ChEBI = row['ChEBI']\n",
    "    Mode = row['Mode']\n",
    "\n",
    "    #Find the organisms for which interactions were predicted and not documented\n",
    "    Organisms = set(row['Org_predicted']).difference(row['Org'])\n",
    "    \n",
    "    #Add the predicted interactions to the dataframe\n",
    "    for Organism in Organisms:\n",
    "        df_predicted_validation = pd.concat([pd.DataFrame([[Organism, EC, ChEBI, Mode]], columns=df_predicted_validation.columns), df_predicted_validation], ignore_index=True)\n",
    "            "
   ]
  },
  {
   "cell_type": "code",
   "execution_count": 140,
   "metadata": {},
   "outputs": [],
   "source": [
    "#Make a dictionary of all metabolite name synonyms\n",
    "df_mets_grouped_all_names = df[['Met', 'ChEBI']].drop_duplicates().groupby(['ChEBI'])['Met'].apply(set).reset_index()\n",
    "mets_dict_all_names = pd.Series(df_mets_grouped_all_names.Met.values, index=df_mets_grouped_all_names.ChEBI).to_dict()\n",
    "\n",
    "#Map the ChEBI ids to all metabolite synonyms\n",
    "df_predicted_validation['Metabolite (names)'] = df_predicted_validation['Metabolite (ChEBI)'].map(mets_dict_all_names)"
   ]
  },
  {
   "cell_type": "code",
   "execution_count": 145,
   "metadata": {},
   "outputs": [],
   "source": [
    "#Make a dictionary of enzyme names for each EC number\n",
    "df_enz_grouped = df[['Enz', 'EC']].drop_duplicates().groupby(['EC'])['Enz'].apply(set).reset_index()\n",
    "enz_dict = pd.Series(df_enz_grouped.Enz.values, index=df_enz_grouped.EC).to_dict()\n",
    "\n",
    "#Map EC number to enzyme name and change to string\n",
    "df_predicted_validation['Enzyme (name)'] = df_predicted_validation['EC number'].map(enz_dict)\n",
    "df_predicted_validation['Enzyme (name)'] = df_predicted_validation['Enzyme (name)'].apply(lambda x: ''.join(x))"
   ]
  },
  {
   "cell_type": "code",
   "execution_count": 147,
   "metadata": {},
   "outputs": [],
   "source": [
    "#Make a dictionary of modes as symbols and words \n",
    "modes_dict = {'-': 'Inhibition', '+': 'Activation'}\n",
    "\n",
    "#Map modes to words\n",
    "df_predicted_validation['Mode (act/inh)'] = df_predicted_validation['Mode'].map(modes_dict)"
   ]
  },
  {
   "cell_type": "code",
   "execution_count": 151,
   "metadata": {},
   "outputs": [],
   "source": [
    "#Save file to csv\n",
    "df_predicted_validation.to_csv('predicted_interactions_to_be_validated.txt', index=False, sep='\\t')"
   ]
  }
 ],
 "metadata": {
  "kernelspec": {
   "display_name": "Python 3",
   "language": "python",
   "name": "python3"
  },
  "language_info": {
   "codemirror_mode": {
    "name": "ipython",
    "version": 3
   },
   "file_extension": ".py",
   "mimetype": "text/x-python",
   "name": "python",
   "nbconvert_exporter": "python",
   "pygments_lexer": "ipython3",
   "version": "3.8.6"
  },
  "orig_nbformat": 4
 },
 "nbformat": 4,
 "nbformat_minor": 2
}
