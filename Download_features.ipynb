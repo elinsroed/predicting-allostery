{
 "cells": [
  {
   "cell_type": "code",
   "execution_count": 1,
   "metadata": {},
   "outputs": [],
   "source": [
    "from bioservices import UniProt\n",
    "import pandas as pd\n",
    "from Bio import SeqIO\n",
    "import urllib\n",
    "import re\n",
    "import ast"
   ]
  },
  {
   "attachments": {},
   "cell_type": "markdown",
   "metadata": {},
   "source": [
    "### Get UniProt entry id and feature info for EC numbers for top hundred organisms"
   ]
  },
  {
   "cell_type": "code",
   "execution_count": 2,
   "metadata": {},
   "outputs": [],
   "source": [
    "#Get cleaned data from BRENDA\n",
    "df_brenda = pd.read_csv('BRENDA_interactions_intracellular.txt', index_col=0, header=0)"
   ]
  },
  {
   "cell_type": "code",
   "execution_count": 3,
   "metadata": {},
   "outputs": [],
   "source": [
    "#Get the top hundred organisms from previously created file\n",
    "top_hundred_list = pd.read_csv('top_hundred_organisms.txt', sep='\\t', index_col=0)['Org'].tolist()"
   ]
  },
  {
   "cell_type": "code",
   "execution_count": 4,
   "metadata": {},
   "outputs": [],
   "source": [
    "#Filter dataframe for interactions in the top hundred organisms\n",
    "df_brenda_top_hundred = df_brenda[df_brenda['Org'].isin(top_hundred_list)]"
   ]
  },
  {
   "attachments": {},
   "cell_type": "markdown",
   "metadata": {},
   "source": [
    "#### Add column of entry-string for search in UniProt"
   ]
  },
  {
   "cell_type": "code",
   "execution_count": 5,
   "metadata": {},
   "outputs": [],
   "source": [
    "#Define formula for making entry-string\n",
    "def entry_formula(EC, Org):\n",
    "    return \"EC:{}+AND+{}+AND+reviewed:true\".format(EC, Org)"
   ]
  },
  {
   "cell_type": "code",
   "execution_count": 6,
   "metadata": {},
   "outputs": [
    {
     "name": "stderr",
     "output_type": "stream",
     "text": [
      "C:\\Users\\Elin\\AppData\\Local\\Temp\\ipykernel_18504\\2498833545.py:2: SettingWithCopyWarning: \n",
      "A value is trying to be set on a copy of a slice from a DataFrame.\n",
      "Try using .loc[row_indexer,col_indexer] = value instead\n",
      "\n",
      "See the caveats in the documentation: https://pandas.pydata.org/pandas-docs/stable/user_guide/indexing.html#returning-a-view-versus-a-copy\n",
      "  df_brenda_top_hundred['Entry_string'] = df_brenda_top_hundred.apply(lambda x: entry_formula(x['EC'], x['Org']), axis=1)\n"
     ]
    }
   ],
   "source": [
    "#apply formula to dataframe\n",
    "df_brenda_top_hundred['Entry_string'] = df_brenda_top_hundred.apply(lambda x: entry_formula(x['EC'], x['Org']), axis=1)"
   ]
  },
  {
   "cell_type": "code",
   "execution_count": 7,
   "metadata": {},
   "outputs": [],
   "source": [
    "#Make dataframe of only enzymes (EC numbers), organisms and entry-strings\n",
    "df_ec_enz_org = df_brenda_top_hundred[['EC', 'Enz', 'Org', 'Entry_string']].drop_duplicates()"
   ]
  },
  {
   "attachments": {},
   "cell_type": "markdown",
   "metadata": {},
   "source": [
    "##### Search in UniProt"
   ]
  },
  {
   "cell_type": "code",
   "execution_count": 14,
   "metadata": {},
   "outputs": [],
   "source": [
    "u = UniProt(verbose=False)"
   ]
  },
  {
   "cell_type": "code",
   "execution_count": 16,
   "metadata": {},
   "outputs": [],
   "source": [
    "#Get info for every EC number+Organism combination\n",
    "#The get_df() function has a limit of 10 entries per search for the sake of efficiency, \n",
    "# since the number of entries is quite large I decided to not change that.\n",
    "#Also: the UniProt database changes all the time, and a new search would therefore probably not give the same results\n",
    "\n",
    "entries = set(df_ec_enz_org['Entry_string'])\n",
    "\n",
    "df = pd.DataFrame([])\n",
    "\n",
    "for entry in entries:\n",
    "    df = pd.concat([df,u.get_df(entry)])"
   ]
  },
  {
   "cell_type": "code",
   "execution_count": 19,
   "metadata": {},
   "outputs": [],
   "source": [
    "#Reduce dataframe to fewer columns\n",
    "columns_of_interest = ['Entry', 'Gene Names (primary)', 'Organism', 'Protein names', 'Domain [CC]', 'Domain [FT]', 'Motif', 'Protein families', 'Region', 'Active site', 'Activity regulation', 'Binding site']\n",
    "df_features = df[columns_of_interest]"
   ]
  },
  {
   "cell_type": "code",
   "execution_count": 43,
   "metadata": {},
   "outputs": [],
   "source": [
    "df_features = df_features.drop_duplicates()"
   ]
  },
  {
   "attachments": {},
   "cell_type": "markdown",
   "metadata": {},
   "source": [
    "##### Get InterPro ids for every UniProt entry"
   ]
  },
  {
   "cell_type": "code",
   "execution_count": 13,
   "metadata": {},
   "outputs": [],
   "source": [
    "#Define function for retrieving the InterPro ids\n",
    "def retrieve_interpro_ids(uniprot_entry):\n",
    "    url = \"http://www.uniprot.org/uniprot/{}.xml\".format(uniprot_entry)\n",
    "    try:\n",
    "        handle = urllib.request.urlopen(url)\n",
    "        record = SeqIO.read(handle, \"uniprot-xml\")\n",
    "        interpro_ids = list(filter(lambda ref: 'InterPro' in ref, record.dbxrefs))  \n",
    "    except:\n",
    "        interpro_ids =  [0]\n",
    "    return interpro_ids"
   ]
  },
  {
   "cell_type": "code",
   "execution_count": null,
   "metadata": {},
   "outputs": [],
   "source": [
    "#Apply function to dataframe\n",
    "df_features['Interpro_ids'] = df_features['Entry'].apply(lambda entry: retrieve_interpro_ids(entry))"
   ]
  },
  {
   "cell_type": "code",
   "execution_count": 46,
   "metadata": {},
   "outputs": [],
   "source": [
    "#Define function for extracting the EC number from the protein name\n",
    "def extract_EC(string):\n",
    "    ECs = []\n",
    "    array = string.split('(')\n",
    "    for word in array:\n",
    "        if word.startswith('EC'):\n",
    "            ECs.append(word.strip(') '))\n",
    "    return ECs"
   ]
  },
  {
   "cell_type": "code",
   "execution_count": 70,
   "metadata": {},
   "outputs": [
    {
     "name": "stderr",
     "output_type": "stream",
     "text": [
      "C:\\Users\\Elin\\AppData\\Local\\Temp\\ipykernel_11976\\3852558869.py:2: SettingWithCopyWarning: \n",
      "A value is trying to be set on a copy of a slice from a DataFrame.\n",
      "Try using .loc[row_indexer,col_indexer] = value instead\n",
      "\n",
      "See the caveats in the documentation: https://pandas.pydata.org/pandas-docs/stable/user_guide/indexing.html#returning-a-view-versus-a-copy\n",
      "  df_features['EC numbers'] = df_features['Protein names'].apply(lambda string: extract_EC(string))\n"
     ]
    }
   ],
   "source": [
    "#Apply function to dataframe to extract EC numbers\n",
    "df_features['EC numbers'] = df_features['Protein names'].apply(lambda string: extract_EC(string))"
   ]
  },
  {
   "cell_type": "code",
   "execution_count": null,
   "metadata": {},
   "outputs": [],
   "source": [
    "#Keep only relevant columns\n",
    "df_features_small = df_features[['Entry', 'Organism', 'EC numbers', 'Interpro_ids']]"
   ]
  },
  {
   "cell_type": "code",
   "execution_count": null,
   "metadata": {},
   "outputs": [],
   "source": [
    "#Make sure that every element of the EC number and InterPro id lists are evaluated as strings\n",
    "df_features_small['EC numbers'] = df_features_small['EC numbers'].apply(lambda string: ast.literal_eval(string))\n",
    "df_features_small['Interpro_ids'] = df_features_small['Interpro_ids'].apply(lambda string: ast.literal_eval(string))"
   ]
  },
  {
   "cell_type": "code",
   "execution_count": null,
   "metadata": {},
   "outputs": [],
   "source": [
    "#Explode on EC numbers to get one Entry, Organism, EC number and InterPro id on each row\n",
    "df_features_new = df_features_small.explode('EC numbers')"
   ]
  },
  {
   "cell_type": "code",
   "execution_count": null,
   "metadata": {},
   "outputs": [],
   "source": [
    "#Remove 'EC ' from EC numbers\n",
    "df_features_new['EC numbers'] = df_features_new['EC numbers'].str.replace('EC ', '')"
   ]
  },
  {
   "cell_type": "code",
   "execution_count": null,
   "metadata": {},
   "outputs": [],
   "source": [
    "#Extract organism name from Organism columns\n",
    "df_features_new['Org'] = df_features_new['Organism'].apply(lambda x: ' '.join(x.split()[:2]))"
   ]
  },
  {
   "cell_type": "code",
   "execution_count": null,
   "metadata": {},
   "outputs": [],
   "source": [
    "#Save to csv\n",
    "df_features_new.to_csv('protein_domains.txt')"
   ]
  },
  {
   "attachments": {},
   "cell_type": "markdown",
   "metadata": {},
   "source": [
    "### Merge the dataframe of InterPro ids for each EC numbers with interactions dataframe"
   ]
  },
  {
   "cell_type": "code",
   "execution_count": null,
   "metadata": {},
   "outputs": [],
   "source": [
    "#Merge the dataframes\n",
    "df_merged = pd.merge(df_brenda_top_hundred, df_features_new, left_on=['EC', 'Org'], right_on=['EC numbers', 'Org'], how='left')"
   ]
  },
  {
   "attachments": {},
   "cell_type": "markdown",
   "metadata": {},
   "source": [
    "#### Clean up dataframe to get one feature per row"
   ]
  },
  {
   "cell_type": "code",
   "execution_count": null,
   "metadata": {},
   "outputs": [],
   "source": [
    "#Drop unnecessary columns\n",
    "df_merged_new = df_merged.drop(['Organism', 'Entry', 'EC numbers', 'Enz'], axis=1)"
   ]
  },
  {
   "cell_type": "code",
   "execution_count": null,
   "metadata": {},
   "outputs": [],
   "source": [
    "#Explode on InterPro ids\n",
    "df_merged_new = df_merged_new.explode('Interpro_ids')"
   ]
  },
  {
   "cell_type": "code",
   "execution_count": null,
   "metadata": {},
   "outputs": [],
   "source": [
    "#Drop duplicates and reset index\n",
    "df_merged_new.drop_duplicates(inplace=True)\n",
    "df_merged_new.reset_index(drop=True, inplace=True)"
   ]
  },
  {
   "cell_type": "code",
   "execution_count": null,
   "metadata": {},
   "outputs": [],
   "source": [
    "#Remove 'InterPro' from ids\n",
    "df_merged_new['Interpro_ids'] = df_merged_new['Interpro_ids'].str.replace('InterPro:', '')"
   ]
  },
  {
   "cell_type": "code",
   "execution_count": null,
   "metadata": {},
   "outputs": [],
   "source": [
    "#Save to csv\n",
    "df_merged_new.to_csv('features_interactions_merged.txt')"
   ]
  },
  {
   "attachments": {},
   "cell_type": "markdown",
   "metadata": {},
   "source": [
    "### Map InterPro ids to entry type and entry name"
   ]
  },
  {
   "cell_type": "code",
   "execution_count": 103,
   "metadata": {},
   "outputs": [],
   "source": [
    "#Get list of entry type and name for InterPro ids, downloaded from the InterPro website\n",
    "df_entry_list = pd.read_csv('entry.list.txt', sep='\\t', header=0)"
   ]
  },
  {
   "cell_type": "code",
   "execution_count": null,
   "metadata": {},
   "outputs": [],
   "source": [
    "#Merge dataframe of features and interactions with the entry-list\n",
    "df_merged_type = pd.merge(df_merged_new, df_entry_list, left_on='Interpro_ids', right_on='ENTRY_AC', how='left').drop('ENTRY_AC', axis=1)"
   ]
  },
  {
   "cell_type": "code",
   "execution_count": null,
   "metadata": {},
   "outputs": [],
   "source": [
    "#Save file to csv\n",
    "df_merged_type.to_csv('features_interactions_merged_types.txt')"
   ]
  },
  {
   "attachments": {},
   "cell_type": "markdown",
   "metadata": {},
   "source": [
    "### Get the features/InterPro ids for organisms and EC numbers in phylogenetic tree"
   ]
  },
  {
   "attachments": {},
   "cell_type": "markdown",
   "metadata": {},
   "source": [
    "###### This part retrieves the InterPro ids for the Organism-EC number pairs that are mapped in the phylogenetic tree used to identify predicted interactions. The reasoning for doing so is that not all of these EC numbers were documented in BRENDA for all top hundred organisms, and therefore we did not have data on the features for these organisms, resulting in false-negative predictions. "
   ]
  },
  {
   "cell_type": "code",
   "execution_count": 97,
   "metadata": {},
   "outputs": [],
   "source": [
    "#Create list of the EC numbers mapped on the phylogenetic tree\n",
    "top_ten_ECs = ['1.3.5.1', '2.2.1.6', '2.7.1.1', '2.7.1.11', '2.7.1.30', '2.7.1.40', '2.7.2.4', '2.7.7.27', '3.1.3.11', '6.4.1.1']"
   ]
  },
  {
   "cell_type": "code",
   "execution_count": 98,
   "metadata": {},
   "outputs": [],
   "source": [
    "#Make a dataframe of the top hundred organisms \n",
    "df_top_hundred = pd.DataFrame(top_hundred_list, columns=['Org'])"
   ]
  },
  {
   "cell_type": "code",
   "execution_count": 101,
   "metadata": {},
   "outputs": [],
   "source": [
    "#Associate every organism with every EC number in the top ten group\n",
    "df_top_hundred['EC'] = [top_ten_ECs]*100\n",
    "df_top_hundred_EC = df_top_hundred.explode('EC').reset_index(drop=True)"
   ]
  },
  {
   "cell_type": "code",
   "execution_count": null,
   "metadata": {},
   "outputs": [],
   "source": [
    "#Apply string-formula to dataframe to get entry-strings\n",
    "df_top_hundred_EC['Entry_string'] = df_top_hundred_EC.apply(lambda x: entry_formula(x['EC'], x['Org']), axis=1)"
   ]
  },
  {
   "cell_type": "code",
   "execution_count": null,
   "metadata": {},
   "outputs": [],
   "source": [
    "#Get info for every EC number+Organism combination\n",
    "\n",
    "df = pd.DataFrame([])\n",
    "\n",
    "for entry in df_top_hundred_EC['Entry_string']:\n",
    "    df = pd.concat([df,u.get_df(entry)])"
   ]
  },
  {
   "cell_type": "code",
   "execution_count": null,
   "metadata": {},
   "outputs": [],
   "source": [
    "#Make dataframe with only wanted columns\n",
    "df_features_topEC = df[columns_of_interest]"
   ]
  },
  {
   "cell_type": "code",
   "execution_count": null,
   "metadata": {},
   "outputs": [],
   "source": [
    "#Get InterPro ids for all features and extract EC numbers\n",
    "df_features_topEC['Interpro_ids'] = df_features_topEC['Entry'].apply(lambda entry: retrieve_interpro_ids(entry))\n",
    "df_features_topEC['EC numbers'] = df_features_topEC['Protein names'].apply(lambda string: extract_EC(string))"
   ]
  },
  {
   "cell_type": "code",
   "execution_count": null,
   "metadata": {},
   "outputs": [],
   "source": [
    "#Make dataframe with only wanted columns\n",
    "df_features_topEC_small = df_features_topEC[['Entry', 'Organism', 'EC numbers', 'Interpro_ids']]"
   ]
  },
  {
   "cell_type": "code",
   "execution_count": null,
   "metadata": {},
   "outputs": [],
   "source": [
    "#Explode dataframe to get one EC number per row\n",
    "df_features_topEC_exp = df_features_topEC_small.explode('EC numbers')"
   ]
  },
  {
   "cell_type": "code",
   "execution_count": null,
   "metadata": {},
   "outputs": [],
   "source": [
    "#Clean up EC numbers and organism names\n",
    "df_features_topEC_exp ['EC numbers'] = df_features_topEC_exp ['EC numbers'].str.replace('EC ', '')\n",
    "df_features_topEC_exp['Org'] = df_features_topEC_exp['Organism'].apply(lambda x: ' '.join(x.split()[:2]))"
   ]
  },
  {
   "cell_type": "code",
   "execution_count": null,
   "metadata": {},
   "outputs": [],
   "source": [
    "#Save file to csv\n",
    "df_features_topEC_exp.to_csv('features_for_ECs_in_tree.txt')"
   ]
  }
 ],
 "metadata": {
  "kernelspec": {
   "display_name": "Python 3",
   "language": "python",
   "name": "python3"
  },
  "language_info": {
   "codemirror_mode": {
    "name": "ipython",
    "version": 3
   },
   "file_extension": ".py",
   "mimetype": "text/x-python",
   "name": "python",
   "nbconvert_exporter": "python",
   "pygments_lexer": "ipython3",
   "version": "3.8.6"
  },
  "orig_nbformat": 4,
  "vscode": {
   "interpreter": {
    "hash": "436b2daae35b1d81a27495251f54690ee226a662a175ea582d303ed01ff4427f"
   }
  }
 },
 "nbformat": 4,
 "nbformat_minor": 2
}
