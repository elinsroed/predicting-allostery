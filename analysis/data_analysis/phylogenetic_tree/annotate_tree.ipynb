{
 "cells": [
  {
   "cell_type": "code",
   "execution_count": 1,
   "metadata": {},
   "outputs": [],
   "source": [
    "import pandas as pd\n",
    "from collections import Counter"
   ]
  },
  {
   "attachments": {},
   "cell_type": "markdown",
   "metadata": {},
   "source": [
    "### Load and organize data"
   ]
  },
  {
   "cell_type": "code",
   "execution_count": 2,
   "metadata": {},
   "outputs": [],
   "source": [
    "#Load the cleaned up interaction data\n",
    "df = pd.read_csv('C:/Users/Elin/Documents/GitHub/predicting-allostery/datafiles/interactions/BRENDA_interactions_intracellular.txt', header=0, index_col=0)\n",
    "\n",
    "#Create a dataframe of the top hundred organisms\n",
    "brenda_top_hundred = pd.read_csv('C:/Users/Elin/Documents/GitHub/predicting-allostery/datafiles/support/top_hundred_organisms.txt', index_col=0, header=0, sep='\\t')\n",
    "\n",
    "#Create dataframe with interactions from only top hundred organisms\n",
    "df_top_organisms_brenda = df[df['Org'].isin(list(brenda_top_hundred['Org']))]"
   ]
  },
  {
   "cell_type": "code",
   "execution_count": 4,
   "metadata": {},
   "outputs": [],
   "source": [
    "#One of the top hundred organisms in the data from BRENDA is \"mammal\"\n",
    "#In the phylogenetic tree I created, these are the organisms on the \"Mammal\" branch:\n",
    "#(See the file 'create_phylotree.ipynb' for how these were retrieved)\n",
    "mammals = ['Cavia_porcellus',\n",
    " 'Rattus_norvegicus',\n",
    " 'Rattus_sp.',\n",
    " 'Mus_musculus',\n",
    " 'Cricetulus_griseus',\n",
    " 'Mesocricetus_auratus',\n",
    " 'Oryctolagus_cuniculus',\n",
    " 'Homo_sapiens',\n",
    " 'Ovis_aries',\n",
    " 'Bos_taurus',\n",
    " 'Sus_scrofa',\n",
    " 'Equus_caballus',\n",
    " 'Canis_lupus']\n",
    "\n",
    "\n",
    "#Replace the underscore with space\n",
    "mammals_new = []\n",
    "for mammal in mammals:\n",
    "    mammals_new.append(mammal.replace('_', ' '))"
   ]
  },
  {
   "cell_type": "code",
   "execution_count": 5,
   "metadata": {},
   "outputs": [],
   "source": [
    "#Set every organism listed as \"Mammalia\" to the list of mammals\n",
    "for ind, row in df_top_organisms_brenda.iterrows():\n",
    "    if row['Org'] == 'Mammalia':\n",
    "        df_top_organisms_brenda['Org'].at[ind] = mammals_new\n",
    "\n",
    "#Explode dataframe on Org to get one organism on each row, and remove duplicates\n",
    "df_top_organisms_brenda = df_top_organisms_brenda.explode('Org').drop_duplicates(['EC', 'Org', 'Mode', 'ChEBI'])"
   ]
  },
  {
   "attachments": {},
   "cell_type": "markdown",
   "metadata": {},
   "source": [
    "### Annotate the phylogenetic tree with interactions"
   ]
  },
  {
   "attachments": {},
   "cell_type": "markdown",
   "metadata": {},
   "source": [
    "#### Find top EC numbers and their respective top metabolic regulator"
   ]
  },
  {
   "attachments": {},
   "cell_type": "markdown",
   "metadata": {},
   "source": [
    "##### First: Find top ten EC numbers"
   ]
  },
  {
   "cell_type": "code",
   "execution_count": 7,
   "metadata": {},
   "outputs": [],
   "source": [
    "#Group the organisms by EC number to get a set of organisms for each EC number\n",
    "df_groups_top_ECs = df_top_organisms_brenda.groupby('EC')['Org'].apply(set).reset_index()"
   ]
  },
  {
   "cell_type": "code",
   "execution_count": 8,
   "metadata": {},
   "outputs": [],
   "source": [
    "#Create a column with the number of organisms every EC number is documented for\n",
    "#This is done to find the top ten documented EC numbers\n",
    "df_groups_top_ECs['Count'] = df_groups_top_ECs.agg({'Org':len})\n",
    "\n",
    "#Take the top ten EC numbers (these are to be mapped to the tree)\n",
    "df_top_ten_ECs = df_groups_top_ECs.sort_values('Count', ascending=False).head(10)"
   ]
  },
  {
   "attachments": {},
   "cell_type": "markdown",
   "metadata": {},
   "source": [
    "##### Second: Find the top interactions for each of the top ten EC numbers"
   ]
  },
  {
   "cell_type": "code",
   "execution_count": 10,
   "metadata": {},
   "outputs": [],
   "source": [
    "#Add an \"interaction\" column (CHEBI:mode) to the interaction data \n",
    "df_top_organisms_brenda['Interaction'] = df_top_organisms_brenda['ChEBI'] + ':' + df_top_organisms_brenda['Mode']\n",
    "\n",
    "#Group the interactions by EC number to get a set of interactions for each EC number\n",
    "df_groups_top_ECs_with_mets = df_top_organisms_brenda.groupby('EC')['Interaction'].apply(list).reset_index()"
   ]
  },
  {
   "cell_type": "code",
   "execution_count": 11,
   "metadata": {},
   "outputs": [],
   "source": [
    "#Create column with the count of each interaction for each EC number\n",
    "#This is done to get the top interaction (metabolite+mode) for each EC number\n",
    "df_groups_top_ECs_with_mets['Counts'] = df_groups_top_ECs_with_mets['Interaction'].apply(lambda x: dict(Counter(x)))"
   ]
  },
  {
   "cell_type": "code",
   "execution_count": 12,
   "metadata": {},
   "outputs": [],
   "source": [
    "#Make a dataframe of the top ten EC numbers and their interaction counts\n",
    "df_top_ten_ECs_interactions = pd.merge(df_top_ten_ECs, df_groups_top_ECs_with_mets[['EC', 'Counts']], how='left', on='EC')\n",
    "\n",
    "#Make a column with the top interaction for each EC number\n",
    "df_top_ten_ECs_interactions['Top interaction'] = df_top_ten_ECs_interactions['Counts'].apply(lambda x: max(x, key=x.get))"
   ]
  },
  {
   "attachments": {},
   "cell_type": "markdown",
   "metadata": {},
   "source": [
    "##### Third: Find the organisms in which these protein-metabolite interactions are documented"
   ]
  },
  {
   "cell_type": "code",
   "execution_count": 13,
   "metadata": {},
   "outputs": [],
   "source": [
    "#Group organisms in BRENDA by EC number and interaction \n",
    "#This is done to get the organisms in which the interactions (EC number:ChEBI:mode) are documented\n",
    "df_groups_ECs_interactions = df_top_organisms_brenda.groupby(['EC', 'Interaction'])['Org'].apply(set).reset_index() \n",
    "\n",
    "#Make a column of the interaction (EC number+interaction) in the dataframe of all interactions\n",
    "df_groups_ECs_interactions['EC+Interaction'] = df_groups_ECs_interactions['EC'] + ':' + df_groups_ECs_interactions['Interaction']\n",
    "\n",
    "#Make a column of the interaction (EC number+interaction) in the dataframe of the top ten EC numbers\n",
    "df_top_ten_ECs_interactions['EC+Interaction'] = df_top_ten_ECs_interactions['EC'] + ':' + df_top_ten_ECs_interactions['Top interaction']\n",
    "\n",
    "#Drop every row from the BRENDA data that does not represent the top ten interactions (EC number:ChEBI:mode)\n",
    "#This is done to get a dataframe of the top ten EC numbers, their top metabolic regulator + mode, and the organisms in which these are documented\n",
    "\n",
    "for ind, row in df_groups_ECs_interactions.iterrows():\n",
    "    if row['EC+Interaction'] not in list(df_top_ten_ECs_interactions['EC+Interaction']):\n",
    "        df_groups_ECs_interactions.drop(ind, inplace=True)"
   ]
  },
  {
   "cell_type": "code",
   "execution_count": 14,
   "metadata": {},
   "outputs": [],
   "source": [
    "#Make column of the ChEBI id of the top metabolic regulator\n",
    "df_groups_ECs_interactions['ChEBI'] = df_groups_ECs_interactions['Interaction'].apply(lambda x: x[:-2])\n",
    "\n",
    "#Make column of the mode of the top metabolic regulation\n",
    "df_groups_ECs_interactions['Mode'] = df_groups_ECs_interactions['Interaction'].apply(lambda x: x[-1])"
   ]
  },
  {
   "attachments": {},
   "cell_type": "markdown",
   "metadata": {},
   "source": [
    "###### Map ChEBI id to metabolite name for easier visualization"
   ]
  },
  {
   "cell_type": "code",
   "execution_count": 16,
   "metadata": {},
   "outputs": [],
   "source": [
    "#Make a dictionary of one synonym for each metabolite\n",
    "df_mets_grouped = df[['Met', 'ChEBI']].drop_duplicates().groupby(['ChEBI'])['Met'].apply(list).apply(lambda x: x[0]).reset_index()\n",
    "mets_dict = pd.Series(df_mets_grouped.Met.values, index=df_mets_grouped.ChEBI).to_dict()\n",
    "\n",
    "#Map the ChEBI ids to metabolite name\n",
    "df_groups_ECs_interactions['Met'] = df_groups_ECs_interactions['ChEBI'].map(mets_dict)"
   ]
  },
  {
   "cell_type": "code",
   "execution_count": 21,
   "metadata": {},
   "outputs": [],
   "source": [
    "#Save the dataframe of mapped interactions to csv\n",
    "df_groups_ECs_interactions.to_csv('C:/Users/Elin/Documents/GitHub/predicting-allostery/datafiles/phylotree/interactions.csv')"
   ]
  },
  {
   "attachments": {},
   "cell_type": "markdown",
   "metadata": {},
   "source": [
    "#### Make binary annotation file for iTOL"
   ]
  },
  {
   "cell_type": "code",
   "execution_count": 18,
   "metadata": {},
   "outputs": [],
   "source": [
    "#Create a dataframe of the top hundred organisms, minus mammalia\n",
    "#Results in 99 organisms\n",
    "df_itol_binary = brenda_top_hundred\n",
    "df_itol_binary = df_itol_binary[~df_itol_binary['Org'].isin(['Mammalia'])]"
   ]
  },
  {
   "cell_type": "code",
   "execution_count": 19,
   "metadata": {},
   "outputs": [
    {
     "name": "stderr",
     "output_type": "stream",
     "text": [
      "c:\\Users\\Elin\\AppData\\Local\\Programs\\Python\\Python38\\lib\\site-packages\\pandas\\core\\indexing.py:1599: SettingWithCopyWarning: \n",
      "A value is trying to be set on a copy of a slice from a DataFrame.\n",
      "Try using .loc[row_indexer,col_indexer] = value instead\n",
      "\n",
      "See the caveats in the documentation: https://pandas.pydata.org/pandas-docs/stable/user_guide/indexing.html#returning-a-view-versus-a-copy\n",
      "  self.obj[key] = infer_fill_value(value)\n",
      "c:\\Users\\Elin\\AppData\\Local\\Programs\\Python\\Python38\\lib\\site-packages\\pandas\\core\\indexing.py:1720: SettingWithCopyWarning: \n",
      "A value is trying to be set on a copy of a slice from a DataFrame.\n",
      "Try using .loc[row_indexer,col_indexer] = value instead\n",
      "\n",
      "See the caveats in the documentation: https://pandas.pydata.org/pandas-docs/stable/user_guide/indexing.html#returning-a-view-versus-a-copy\n",
      "  self._setitem_single_column(loc, value, pi)\n"
     ]
    }
   ],
   "source": [
    "#Create the dataframe of binary values for plotting interactions\n",
    "\n",
    "#Iterate through every organism in the tree\n",
    "for ind1, row1 in df_itol_binary.iterrows():\n",
    "    #Iterate through every interaction we are interested in plotting \n",
    "    for ind2, row2 in df_groups_ECs_interactions.iterrows():\n",
    "        #Make the interaction label\n",
    "        interaction = f\"{row2['EC']} {row2['Met']} {row2['Mode']}\"\n",
    "        \n",
    "        #Check if the interaction is documented for the organism in question\n",
    "        if row1['Org'] in row2['Org']:\n",
    "            #Set the binary value to 1 if interaction is documented\n",
    "            df_itol_binary.loc[ind1, interaction] = 1\n",
    "        else:\n",
    "            #Set the binary value to 0 if interaction is not documented\n",
    "            df_itol_binary.loc[ind1, interaction] = -1\n",
    "            "
   ]
  },
  {
   "cell_type": "code",
   "execution_count": null,
   "metadata": {},
   "outputs": [],
   "source": [
    "#Replace ' ' with underscore in organism names\n",
    "df_itol_binary['Org'] = df_itol_binary['Org'].replace(' ', '_', regex=True)\n",
    "\n",
    "#Copy the binary dataframe to clipboard for creating the file that is uploaded to iTOL\n",
    "df_itol_binary.to_clipboard(index=False)"
   ]
  }
 ],
 "metadata": {
  "kernelspec": {
   "display_name": "Python 3",
   "language": "python",
   "name": "python3"
  },
  "language_info": {
   "codemirror_mode": {
    "name": "ipython",
    "version": 3
   },
   "file_extension": ".py",
   "mimetype": "text/x-python",
   "name": "python",
   "nbconvert_exporter": "python",
   "pygments_lexer": "ipython3",
   "version": "3.8.6"
  },
  "orig_nbformat": 4
 },
 "nbformat": 4,
 "nbformat_minor": 2
}
