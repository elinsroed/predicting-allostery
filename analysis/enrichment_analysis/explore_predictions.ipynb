{
 "cells": [
  {
   "cell_type": "code",
   "execution_count": 1,
   "metadata": {},
   "outputs": [],
   "source": [
    "import pandas as pd\n",
    "pd.options.mode.chained_assignment = None \n",
    "from collections import Counter\n",
    "import ast"
   ]
  },
  {
   "attachments": {},
   "cell_type": "markdown",
   "metadata": {},
   "source": [
    "### Map predicted interactions to the phylogenetic tree"
   ]
  },
  {
   "attachments": {},
   "cell_type": "markdown",
   "metadata": {},
   "source": [
    "#### Load and organize data"
   ]
  },
  {
   "attachments": {},
   "cell_type": "markdown",
   "metadata": {},
   "source": [
    "##### Organize the data of predicted interactions"
   ]
  },
  {
   "cell_type": "code",
   "execution_count": 2,
   "metadata": {},
   "outputs": [],
   "source": [
    "#Load the predicted interactions from enrichment analysis\n",
    "df_predicted = pd.read_csv('C:/Users/Elin/Documents/GitHub/predicting-allostery/datafiles/results/predicted_interactions.txt', header=0, index_col=0)\n",
    "\n",
    "#Create a dataframe of the top hundred organisms\n",
    "brenda_top_hundred = pd.read_csv('C:/Users/Elin/Documents/GitHub/predicting-allostery/datafiles/support/top_hundred_organisms.txt', index_col=0, header=0, sep='\\t')\n"
   ]
  },
  {
   "cell_type": "code",
   "execution_count": 3,
   "metadata": {},
   "outputs": [],
   "source": [
    "#Load the dataframe of the interactions that are mapped to the tree\n",
    "df_interactions_in_tree = pd.read_csv('C:/Users/Elin/Documents/GitHub/predicting-allostery/datafiles/phylotree/interactions.csv', index_col=0)\n",
    "\n",
    "#Make a list of the interactions (ChEBI+mode) that are mapped to the tree\n",
    "interactions_in_tree = list(df_interactions_in_tree['Interaction'])"
   ]
  },
  {
   "cell_type": "code",
   "execution_count": 4,
   "metadata": {},
   "outputs": [],
   "source": [
    "#Filter the dataframe of predicted interactions for those that are in the tree\n",
    "df_predicted_tree = df_predicted[df_predicted['interaction'].apply(lambda x: x in interactions_in_tree)]"
   ]
  },
  {
   "attachments": {},
   "cell_type": "markdown",
   "metadata": {},
   "source": [
    "##### Organize the feature data"
   ]
  },
  {
   "cell_type": "code",
   "execution_count": 5,
   "metadata": {},
   "outputs": [],
   "source": [
    "#Load the file of features downloaded for every EC number + organism pair that is in the tree\n",
    "df_features = pd.read_csv('C:/Users/Elin/Documents/GitHub/predicting-allostery/datafiles/features/features_for_ECs_in_tree.txt', index_col=0, header=0)\n",
    "\n",
    "#When downloading features for the EC number + organism pairs, entries for other organisms are also returned.\n",
    "#These entries are removed by only keeping those that are from the top hundred organisms\n",
    "df_features_tree = df_features[df_features['Org'].apply(lambda x: x in set(brenda_top_hundred['Org']))]"
   ]
  },
  {
   "cell_type": "code",
   "execution_count": 6,
   "metadata": {},
   "outputs": [],
   "source": [
    "#One of the top hundred organisms in the data from BRENDA is \"mammal\"\n",
    "#In the phylogenetic tree I created, these are the organisms on the \"Mammal\" branch:\n",
    "#(See the file 'create_phylotree.ipynb' for how these were retrieved)\n",
    "mammals = ['Cavia_porcellus',\n",
    " 'Rattus_norvegicus',\n",
    " 'Rattus_sp.',\n",
    " 'Mus_musculus',\n",
    " 'Cricetulus_griseus',\n",
    " 'Mesocricetus_auratus',\n",
    " 'Oryctolagus_cuniculus',\n",
    " 'Homo_sapiens',\n",
    " 'Ovis_aries',\n",
    " 'Bos_taurus',\n",
    " 'Sus_scrofa',\n",
    " 'Equus_caballus',\n",
    " 'Canis_lupus']\n",
    "\n",
    "\n",
    "#Replace the underscore with space\n",
    "mammals_new = []\n",
    "for mammal in mammals:\n",
    "    mammals_new.append(mammal.replace('_', ' '))\n",
    "\n",
    "#Set every organism listed as \"Mammalia\" to the list of mammals\n",
    "for ind, row in df_features_tree.iterrows():\n",
    "    if row['Org'] == 'Mammalia':\n",
    "        df_features_tree['Org'].at[ind] = mammals_new\n",
    "\n",
    "#Explode dataframe on organism and drop duplicates\n",
    "df_features_tree_exploded_org = df_features_tree.explode('Org').drop_duplicates(['EC numbers', 'Org', 'Interpro_ids'])"
   ]
  },
  {
   "cell_type": "code",
   "execution_count": 7,
   "metadata": {},
   "outputs": [],
   "source": [
    "#Make sure that the InterPro ids are evaluated as strings\n",
    "df_features_tree_exploded_org['Interpro_ids'] = df_features_tree_exploded_org['Interpro_ids'].apply(ast.literal_eval)\n",
    "\n",
    "#Explode dataframe on interpro ids to get one each row\n",
    "df_features_tree_exploded_interpro = df_features_tree_exploded_org.explode('Interpro_ids')\n",
    "\n",
    "#Remove the \"InterPro\" part of the InterPro ids\n",
    "df_features_tree_exploded_interpro['Interpro_ids'] = df_features_tree_exploded_interpro['Interpro_ids'].str.replace('InterPro:', '')"
   ]
  },
  {
   "cell_type": "code",
   "execution_count": 8,
   "metadata": {},
   "outputs": [],
   "source": [
    "#Remove duplicates and reset dataframe index\n",
    "df_features_tree_exploded_interpro.drop_duplicates(inplace=True)\n",
    "df_features_tree_exploded_interpro.reset_index(drop=True, inplace=True)"
   ]
  },
  {
   "attachments": {},
   "cell_type": "markdown",
   "metadata": {},
   "source": [
    "#### Find organisms for which interactions are predicted"
   ]
  },
  {
   "cell_type": "code",
   "execution_count": 9,
   "metadata": {},
   "outputs": [],
   "source": [
    "#Make groups of features that are associated with each interaction in the tree, and merge with interactions dataframe to get respective EC number\n",
    "feature_groups = df_predicted_tree.groupby('interaction').agg({'features':set}).reset_index()\n",
    "feature_groups_ec = pd.merge(feature_groups, df_interactions_in_tree[['EC', 'Interaction']], left_on='interaction', right_on='Interaction').drop('Interaction', axis=1)\n",
    "\n",
    "#Make a dictionary with each interaction in the tree as keys and an empty list as values\n",
    "#This dictionary is to be used for finding the organisms for which these interactions are predicted\n",
    "predicted_organisms = {key: [] for key in list(feature_groups['interaction'])}"
   ]
  },
  {
   "cell_type": "code",
   "execution_count": 10,
   "metadata": {},
   "outputs": [],
   "source": [
    "#This block of code iterates through all the features that were downloaded for the EC number and organism combinations,\n",
    "#and checks whether this feature predicts an interaction. \n",
    "\n",
    "#Iterate through every row of features retrieved for the EC number + organism combo\n",
    "for ind1, row1 in df_features_tree_exploded_interpro.iterrows():\n",
    "    \n",
    "    #Iterate through every row of features associated with interactions\n",
    "    for ind2, row2 in feature_groups_ec.iterrows():\n",
    "        \n",
    "        #Check if the feature retrieved for the EC+org combo is associated with the interaction and not already noted \n",
    "        if (row1['Interpro_ids'] in row2['features']) and (row1['EC numbers'] == row2['EC']) and (row1['Org'] not in predicted_organisms[row2['interaction']]):\n",
    "            \n",
    "            #Add the organism to the list of organisms for which the interaction is predicted\n",
    "            predicted_organisms[row2['interaction']].append(row1['Org'])   "
   ]
  },
  {
   "cell_type": "code",
   "execution_count": 11,
   "metadata": {},
   "outputs": [],
   "source": [
    "#Add a column to the interactions dataframe to hold the organisms for which the interaction is predicted\n",
    "df_interactions_in_tree['Org_predicted'] = ''"
   ]
  },
  {
   "cell_type": "code",
   "execution_count": 12,
   "metadata": {},
   "outputs": [],
   "source": [
    "#This block of code iterates through the dictionary of interactions and organisms for which they are predicted to be present,\n",
    "#and adds those organisms to the column of predicted organisms in the interactions dataframe.\n",
    "\n",
    "for interaction, organisms in predicted_organisms.items():\n",
    "    for ind, row in df_interactions_in_tree.iterrows():\n",
    "        if '{}:{}'.format(row['ChEBI'], row['Mode']) == interaction:\n",
    "            df_interactions_in_tree['Org_predicted'][ind] = organisms"
   ]
  },
  {
   "cell_type": "code",
   "execution_count": 13,
   "metadata": {},
   "outputs": [],
   "source": [
    "#Create a dataframe of the top hundred organisms, minus mammalia\n",
    "#Results in 99 organisms\n",
    "df_itol_binary = brenda_top_hundred\n",
    "df_itol_binary = df_itol_binary[~df_itol_binary['Org'].isin(['Mammalia'])]\n",
    "\n",
    "#Create the dataframe of binary values for plotting documented and predicted interactions\n",
    "\n",
    "#Iterate through every organism in the tree\n",
    "for ind1, row1 in df_itol_binary.iterrows():\n",
    "    #Iterate through every interaction we are interested in plotting \n",
    "    for ind2, row2 in df_interactions_in_tree.iterrows():\n",
    "        #Make the interaction label\n",
    "        interaction = f\"{row2['EC']} {row2['Met']} {row2['Mode']}\"\n",
    "        \n",
    "        #Check if the interaction is documented for the organism in question\n",
    "        if row1['Org'] in row2['Org']:\n",
    "            #Set the binary value to 1 if interaction is documented\n",
    "            df_itol_binary.loc[ind1, interaction] = 1\n",
    "        #Check if the interaction is predicted for the organism in question\n",
    "        elif row1['Org'] in row2['Org_predicted']:\n",
    "            #Set the binary value to 0 if interaction is predicted\n",
    "            df_itol_binary.loc[ind1, interaction] = 0\n",
    "        else:\n",
    "            #Set the binary value to 0 if interaction is not documented or predicted\n",
    "            df_itol_binary.loc[ind1, interaction] = -1\n",
    "            "
   ]
  },
  {
   "cell_type": "code",
   "execution_count": 14,
   "metadata": {},
   "outputs": [],
   "source": [
    "#Replace ' ' in organism name with underscore\n",
    "df_itol_binary['Org'] = df_itol_binary['Org'].replace(' ', '_', regex=True)\n",
    "\n",
    "#Copy the binary dataframe to clipboard for creating the file that is uploaded to iTOL\n",
    "df_itol_binary.to_clipboard(index=False)"
   ]
  },
  {
   "cell_type": "code",
   "execution_count": 15,
   "metadata": {},
   "outputs": [
    {
     "data": {
      "text/plain": [
       "-1.0                      644\n",
       "1.0                       214\n",
       "0.0                       132\n",
       "Homo_sapiens                1\n",
       "Hordeum_vulgare             1\n",
       "                         ... \n",
       "Candida_albicans            1\n",
       "Leishmania_donovani         1\n",
       "Sinorhizobium_meliloti      1\n",
       "Vigna_radiata               1\n",
       "Thermus_thermophilus        1\n",
       "Length: 102, dtype: int64"
      ]
     },
     "execution_count": 15,
     "metadata": {},
     "output_type": "execute_result"
    }
   ],
   "source": [
    "#Check number of documented and predicted interactions\n",
    "#The number of documented interactions is given by the number of 1s --> 214 documented interactions\n",
    "#The number of predicted interactions is given by the number of 0s --> 230 predicted interactions\n",
    "df_itol_binary.stack().value_counts()"
   ]
  },
  {
   "cell_type": "code",
   "execution_count": 65,
   "metadata": {},
   "outputs": [],
   "source": [
    "df_itol_binary.to_clipboard(index=False)"
   ]
  },
  {
   "attachments": {},
   "cell_type": "markdown",
   "metadata": {},
   "source": [
    "### Validate predictions"
   ]
  },
  {
   "attachments": {},
   "cell_type": "markdown",
   "metadata": {},
   "source": [
    "#### Make a file of predicted interactions for validation"
   ]
  },
  {
   "cell_type": "code",
   "execution_count": 16,
   "metadata": {},
   "outputs": [],
   "source": [
    "#Prepare a dataframe\n",
    "df_predicted_validation = pd.DataFrame(columns=['Organism', 'EC number', 'Metabolite (ChEBI)', 'Mode'])"
   ]
  },
  {
   "cell_type": "code",
   "execution_count": 17,
   "metadata": {},
   "outputs": [],
   "source": [
    "#Make sure that the set of organisms in the interactions dataframe is evaluated as a set\n",
    "df_interactions_in_tree['Org'] = df_interactions_in_tree['Org'].apply(ast.literal_eval)"
   ]
  },
  {
   "cell_type": "code",
   "execution_count": 18,
   "metadata": {},
   "outputs": [],
   "source": [
    "#Iterate through the interactions dataframe to find predicted interactions\n",
    "for ind, row in df_interactions_in_tree.iterrows():\n",
    "    #Set EC, ChEBI and mode variables\n",
    "    EC = row['EC']\n",
    "    ChEBI = row['ChEBI']\n",
    "    Mode = row['Mode']\n",
    "\n",
    "    #Find the organisms for which interactions were predicted and not documented\n",
    "    Organisms = set(row['Org_predicted']).difference(row['Org'])\n",
    "    \n",
    "    #Add the predicted interactions to the dataframe\n",
    "    for Organism in Organisms:\n",
    "        df_predicted_validation = pd.concat([pd.DataFrame([[Organism, EC, ChEBI, Mode]], columns=df_predicted_validation.columns), df_predicted_validation], ignore_index=True)\n",
    "            "
   ]
  },
  {
   "cell_type": "code",
   "execution_count": 19,
   "metadata": {},
   "outputs": [],
   "source": [
    "#Load the cleaned up interaction data\n",
    "df = pd.read_csv('C:/Users/Elin/Documents/GitHub/predicting-allostery/datafiles/interactions/BRENDA_interactions_intracellular.txt', header=0, index_col=0)"
   ]
  },
  {
   "cell_type": "code",
   "execution_count": 20,
   "metadata": {},
   "outputs": [],
   "source": [
    "#Make a dictionary of all metabolite name synonyms\n",
    "df_mets_grouped_all_names = df[['Met', 'ChEBI']].drop_duplicates().groupby(['ChEBI'])['Met'].apply(set).reset_index()\n",
    "mets_dict_all_names = pd.Series(df_mets_grouped_all_names.Met.values, index=df_mets_grouped_all_names.ChEBI).to_dict()\n",
    "\n",
    "#Map the ChEBI ids to all metabolite synonyms\n",
    "df_predicted_validation['Metabolite (names)'] = df_predicted_validation['Metabolite (ChEBI)'].map(mets_dict_all_names)"
   ]
  },
  {
   "cell_type": "code",
   "execution_count": 21,
   "metadata": {},
   "outputs": [],
   "source": [
    "#Make a dictionary of enzyme names for each EC number\n",
    "df_enz_grouped = df[['Enz', 'EC']].drop_duplicates().groupby(['EC'])['Enz'].apply(set).reset_index()\n",
    "enz_dict = pd.Series(df_enz_grouped.Enz.values, index=df_enz_grouped.EC).to_dict()\n",
    "\n",
    "#Map EC number to enzyme name and change to string\n",
    "df_predicted_validation['Enzyme (name)'] = df_predicted_validation['EC number'].map(enz_dict)\n",
    "df_predicted_validation['Enzyme (name)'] = df_predicted_validation['Enzyme (name)'].apply(lambda x: ''.join(x))"
   ]
  },
  {
   "cell_type": "code",
   "execution_count": 22,
   "metadata": {},
   "outputs": [],
   "source": [
    "#Make a dictionary of modes as symbols and words \n",
    "modes_dict = {'-': 'Inhibition', '+': 'Activation'}\n",
    "\n",
    "#Map modes to words\n",
    "df_predicted_validation['Mode (act/inh)'] = df_predicted_validation['Mode'].map(modes_dict)"
   ]
  },
  {
   "cell_type": "code",
   "execution_count": 23,
   "metadata": {},
   "outputs": [],
   "source": [
    "#Save file to csv\n",
    "df_predicted_validation.to_csv('C:/Users/Elin/Documents/GitHub/predicting-allostery/datafiles/results/predicted_interactions_to_be_validated.txt', index=False, sep='\\t')"
   ]
  },
  {
   "attachments": {},
   "cell_type": "markdown",
   "metadata": {},
   "source": [
    "#### Look into validated predictions"
   ]
  },
  {
   "cell_type": "code",
   "execution_count": 47,
   "metadata": {},
   "outputs": [],
   "source": [
    "pd.set_option('max_colwidth', 800)\n",
    "\n",
    "#Load file of evidence retrieved for predicted interactions, with journal info\n",
    "df_evidence = pd.read_csv('C:/Users/Elin/Documents/GitHub/predicting-allostery/datafiles/results/evidence_of_predictions.csv', sep='\\t')"
   ]
  },
  {
   "cell_type": "code",
   "execution_count": 48,
   "metadata": {},
   "outputs": [
    {
     "data": {
      "text/html": [
       "<div>\n",
       "<style scoped>\n",
       "    .dataframe tbody tr th:only-of-type {\n",
       "        vertical-align: middle;\n",
       "    }\n",
       "\n",
       "    .dataframe tbody tr th {\n",
       "        vertical-align: top;\n",
       "    }\n",
       "\n",
       "    .dataframe thead th {\n",
       "        text-align: right;\n",
       "    }\n",
       "</style>\n",
       "<table border=\"1\" class=\"dataframe\">\n",
       "  <thead>\n",
       "    <tr style=\"text-align: right;\">\n",
       "      <th></th>\n",
       "      <th>PM_ID</th>\n",
       "      <th>Organism</th>\n",
       "      <th>EC number</th>\n",
       "      <th>Metabolite (ChEBI)</th>\n",
       "      <th>Mode</th>\n",
       "      <th>Metabolite (names)</th>\n",
       "      <th>Enzyme (name)</th>\n",
       "      <th>Mode (act/inh)</th>\n",
       "      <th>search</th>\n",
       "      <th>Title</th>\n",
       "      <th>Abstract</th>\n",
       "      <th>Journal</th>\n",
       "      <th>Year</th>\n",
       "      <th>PMC_ID</th>\n",
       "      <th>DOI</th>\n",
       "    </tr>\n",
       "  </thead>\n",
       "  <tbody>\n",
       "    <tr>\n",
       "      <th>0</th>\n",
       "      <td>20707314</td>\n",
       "      <td>Staphylococcus aureus</td>\n",
       "      <td>2.7.1.40</td>\n",
       "      <td>CHEBI:28013</td>\n",
       "      <td>+</td>\n",
       "      <td>{'fructose diphosphate', 'D-fructose 1,6-diphosphate', 'D-fructose-1,6-diphosphate', 'fructose-1,6-bisphosphate', 'fructose-1,6-diphosphate', 'fructose 1,6-biphosphate', 'D-fructose-1,6-bisphophate', 'D-fructose-1,6-bisphosphate', 'D-fructose 1-6-diphosphate', 'fructose 1,6-bisphosphate', 'D-fructose 1,6 bisphosphate', 'fructose 1,6-diphosphate', 'D-fructose 1,6-bisphosphate'}</td>\n",
       "      <td>pyruvate kinase</td>\n",
       "      <td>Activation</td>\n",
       "      <td>((S. aureus[ALL]) OR (Staphylococcus aureus[ALL])) AND ((D-fructose-1,6-diphosphate*[ALL]) OR (fructose 1,6-biphosphate*[ALL]) OR (D-fructose-1,6-bisphophate*[ALL]) OR (D-fructose 1,6 bisphosphate*[ALL]) OR (D-fructose-1,6-bisphosphate*[ALL]) OR (fructose-1,6-diphosphate*[ALL]) OR (D-fructose 1,6-diphosphate*[ALL]) OR (fructose 1,6-diphosphate*[ALL]) OR (D-fructose 1-6-diphosphate*[ALL]) OR (fructose 1,6-bisphosphate*[ALL]) OR (fructose diphosphate*[ALL]) OR (D-fructose 1,6-bisphosphate*[ALL]) OR (fructose-1,6-bisphosphate*[ALL])) AND ((pyruvate kinase*[ALL])) AND ((Activat*[ALL])) AND ((alloster*[TIAB]) OR (allozyme*[TIAB])) AND ((effector*[TIAB]) OR (modulator*[TIAB]) OR (regulator*[TIAB]) OR (*enzyme*[TIAB]) OR (isozyme*[TIAB]))</td>\n",
       "      <td>Functional analysis, overexpression, and kinetic characterization of pyruvate kinase from methicillin-resistant Staphylococcus aureus.</td>\n",
       "      <td>Novel antimicrobial targets are urgently needed to overcome rising antibiotic resistance of important human pathogens including methicillin-resistant Staphylococcus aureus (MRSA). Here we report the essentiality and kinetic properties of MRSA pyruvate kinase (PK). Targetron-mediated gene disruption demonstrated PK is essential for S. aureus growth and survival, suggesting that this protein may be a potential drug target. The presence of the pfk (6-phosphofructokinase)-pyk operon in MRSA252, and the nonessential nature of PFK shown by targetron, further emphasized the essential role of PK in cell viability. The importance of PK in bacterial growth was confirmed by showing that its enzymatic activity peaked during the logarithmic phase of S. aureus growth. PK from Staphylococcus and seve...</td>\n",
       "      <td>Biochemistry</td>\n",
       "      <td>2010</td>\n",
       "      <td>None</td>\n",
       "      <td>10.1021/bi100780t</td>\n",
       "    </tr>\n",
       "    <tr>\n",
       "      <th>1</th>\n",
       "      <td>30419357</td>\n",
       "      <td>Mycobacterium tuberculosis</td>\n",
       "      <td>2.7.1.40</td>\n",
       "      <td>CHEBI:28013</td>\n",
       "      <td>+</td>\n",
       "      <td>{'fructose diphosphate', 'D-fructose 1,6-diphosphate', 'D-fructose-1,6-diphosphate', 'fructose-1,6-bisphosphate', 'fructose-1,6-diphosphate', 'fructose 1,6-biphosphate', 'D-fructose-1,6-bisphophate', 'D-fructose-1,6-bisphosphate', 'D-fructose 1-6-diphosphate', 'fructose 1,6-bisphosphate', 'D-fructose 1,6 bisphosphate', 'fructose 1,6-diphosphate', 'D-fructose 1,6-bisphosphate'}</td>\n",
       "      <td>pyruvate kinase</td>\n",
       "      <td>Activation</td>\n",
       "      <td>((M. tuberculosis[ALL]) OR (Mycobacterium tuberculosis[ALL])) AND ((D-fructose-1,6-diphosphate*[ALL]) OR (fructose 1,6-biphosphate*[ALL]) OR (D-fructose-1,6-bisphophate*[ALL]) OR (D-fructose 1,6 bisphosphate*[ALL]) OR (D-fructose-1,6-bisphosphate*[ALL]) OR (fructose-1,6-diphosphate*[ALL]) OR (D-fructose 1,6-diphosphate*[ALL]) OR (fructose 1,6-diphosphate*[ALL]) OR (D-fructose 1-6-diphosphate*[ALL]) OR (fructose 1,6-bisphosphate*[ALL]) OR (fructose diphosphate*[ALL]) OR (D-fructose 1,6-bisphosphate*[ALL]) OR (fructose-1,6-bisphosphate*[ALL])) AND ((pyruvate kinase*[ALL])) AND ((Activat*[ALL])) AND ((alloster*[TIAB]) OR (allozyme*[TIAB])) AND ((effector*[TIAB]) OR (modulator*[TIAB]) OR (regulator*[TIAB]) OR (*enzyme*[TIAB]) OR (isozyme*[TIAB]))</td>\n",
       "      <td>Allosteric regulation of pyruvate kinase from Mycobacterium tuberculosis by metabolites.</td>\n",
       "      <td>Mycobacterium tuberculosis (Mtb) causes both acute tuberculosis and latent, symptom-free infection that affects roughly one-third of the world's population. It is a globally important pathogen that poses multiple dangers. Mtb reprograms its metabolism in response to the host niche, and this adaptation contributes to its pathogenicity. Knowledge of the metabolic regulation mechanisms in Mtb is still limited. Pyruvate kinase, involved in the late stage of glycolysis, helps link various metabolic routes together. Here, we demonstrate that Mtb pyruvate kinase (Mtb PYK) predominantly catalyzes the reaction leading to the production of pyruvate, but its activity is influenced by multiple metabolites from closely interlinked pathways that act as allosteric regulators (activators and inhibitor...</td>\n",
       "      <td>Biochimica et biophysica acta. Proteins and proteomics</td>\n",
       "      <td>2019</td>\n",
       "      <td>None</td>\n",
       "      <td>10.1016/j.bbapap.2018.11.002</td>\n",
       "    </tr>\n",
       "    <tr>\n",
       "      <th>2</th>\n",
       "      <td>7549104</td>\n",
       "      <td>Bacillus licheniformis</td>\n",
       "      <td>2.7.1.40</td>\n",
       "      <td>CHEBI:28013</td>\n",
       "      <td>+</td>\n",
       "      <td>{'fructose diphosphate', 'D-fructose 1,6-diphosphate', 'D-fructose-1,6-diphosphate', 'fructose-1,6-bisphosphate', 'fructose-1,6-diphosphate', 'fructose 1,6-biphosphate', 'D-fructose-1,6-bisphophate', 'D-fructose-1,6-bisphosphate', 'D-fructose 1-6-diphosphate', 'fructose 1,6-bisphosphate', 'D-fructose 1,6 bisphosphate', 'fructose 1,6-diphosphate', 'D-fructose 1,6-bisphosphate'}</td>\n",
       "      <td>pyruvate kinase</td>\n",
       "      <td>Activation</td>\n",
       "      <td>((B. licheniformis[ALL]) OR (Bacillus licheniformis[ALL])) AND ((D-fructose-1,6-diphosphate*[ALL]) OR (fructose 1,6-biphosphate*[ALL]) OR (D-fructose-1,6-bisphophate*[ALL]) OR (D-fructose 1,6 bisphosphate*[ALL]) OR (D-fructose-1,6-bisphosphate*[ALL]) OR (fructose-1,6-diphosphate*[ALL]) OR (D-fructose 1,6-diphosphate*[ALL]) OR (fructose 1,6-diphosphate*[ALL]) OR (D-fructose 1-6-diphosphate*[ALL]) OR (fructose 1,6-bisphosphate*[ALL]) OR (fructose diphosphate*[ALL]) OR (D-fructose 1,6-bisphosphate*[ALL]) OR (fructose-1,6-bisphosphate*[ALL])) AND ((pyruvate kinase*[ALL])) AND ((Activat*[ALL])) AND ((alloster*[TIAB]) OR (allozyme*[TIAB])) AND ((effector*[TIAB]) OR (modulator*[TIAB]) OR (regulator*[TIAB]) OR (*enzyme*[TIAB]) OR (isozyme*[TIAB]))</td>\n",
       "      <td>Molecular cloning of the genes for pyruvate kinase of two bacilli, Bacillus psychrophilus and Bacillus licheniformis, and comparison of the properties of the enzymes produced in Escherichia coli.</td>\n",
       "      <td>The genes for the pyruvate kinases of a psychrophile, Bacillus psychrophilus, and a mesophile, Bacillus licheniformis, have been cloned in Escherichia coli, and all their nucleotides were sequenced. The two bacterial enzymes each had an extra C-terminal sequence consisting of about 110 amino acid residues, which has been found in the B. stearothermophilus enzyme. Both enzymes were overexpressed in E. coli and the properties of the purified enzymes were compared to those of the B. stearothermophilus enzyme. Both enzymes were less stable than the B. stearothermophilus one. The B. psychrophilus enzyme was more stable than the B. licheniformis one. Similarly to the B. licheniformis and B. stearothermophilus pyruvate kinases, the B. psychrophilus enzyme was activated by AMP or ribose 5-phos...</td>\n",
       "      <td>Bioscience, biotechnology, and biochemistry</td>\n",
       "      <td>1995</td>\n",
       "      <td>None</td>\n",
       "      <td>10.1271/bbb.59.1536</td>\n",
       "    </tr>\n",
       "    <tr>\n",
       "      <th>3</th>\n",
       "      <td>12881504</td>\n",
       "      <td>Synechocystis sp.</td>\n",
       "      <td>2.7.1.40</td>\n",
       "      <td>CHEBI:28013</td>\n",
       "      <td>+</td>\n",
       "      <td>{'fructose diphosphate', 'D-fructose 1,6-diphosphate', 'D-fructose-1,6-diphosphate', 'fructose-1,6-bisphosphate', 'fructose-1,6-diphosphate', 'fructose 1,6-biphosphate', 'D-fructose-1,6-bisphophate', 'D-fructose-1,6-bisphosphate', 'D-fructose 1-6-diphosphate', 'fructose 1,6-bisphosphate', 'D-fructose 1,6 bisphosphate', 'fructose 1,6-diphosphate', 'D-fructose 1,6-bisphosphate'}</td>\n",
       "      <td>pyruvate kinase</td>\n",
       "      <td>Activation</td>\n",
       "      <td>((S. sp.[ALL]) OR (Synechocystis sp.[ALL])) AND ((D-fructose-1,6-diphosphate*[ALL]) OR (fructose 1,6-biphosphate*[ALL]) OR (D-fructose-1,6-bisphophate*[ALL]) OR (D-fructose 1,6 bisphosphate*[ALL]) OR (D-fructose-1,6-bisphosphate*[ALL]) OR (fructose-1,6-diphosphate*[ALL]) OR (D-fructose 1,6-diphosphate*[ALL]) OR (fructose 1,6-diphosphate*[ALL]) OR (D-fructose 1-6-diphosphate*[ALL]) OR (fructose 1,6-bisphosphate*[ALL]) OR (fructose diphosphate*[ALL]) OR (D-fructose 1,6-bisphosphate*[ALL]) OR (fructose-1,6-bisphosphate*[ALL])) AND ((pyruvate kinase*[ALL])) AND ((Activat*[ALL])) AND ((alloster*[TIAB]) OR (allozyme*[TIAB])) AND ((effector*[TIAB]) OR (modulator*[TIAB]) OR (regulator*[TIAB]) OR (*enzyme*[TIAB]) OR (isozyme*[TIAB]))</td>\n",
       "      <td>From genome to enzyme: analysis of key glycolytic and oxidative pentose-phosphate pathway enzymes in the cyanobacterium Synechocystis sp. PCC 6803.</td>\n",
       "      <td>Activities of glucokinase, glucose-6-phosphate dehydrogenase, 6-phosphogluconate dehydrogenase, phosphoglucose isomerase, phosphofructokinase (PFK), enolase, pyruvate kinase (PK) and phosphoenolpyruvate (PEP) carboxylase were determined in extracts of photoautotrophic, mixotrophic, and heterotrophic cultures of Synechocystis sp. PCC 6803. Annotated genomes of Synechocystis sp. PCC 6803 and Anabaena sp. PCC 7120 were analyzed for the respective predicted physical properties of each enzyme investigated here. Enzymatic activity was largely unaffected by nutritional mode, with the exception of glucokinase and PK whose activities were significantly elevated in heterotrophic cultures of Synechocystis sp. PCC 6803. PFK activity was insensitive to bacterial PFK-A (allosteric) effectors such as...</td>\n",
       "      <td>Plant &amp; cell physiology</td>\n",
       "      <td>2003</td>\n",
       "      <td>None</td>\n",
       "      <td>10.1093/pcp/pcg086</td>\n",
       "    </tr>\n",
       "    <tr>\n",
       "      <th>4</th>\n",
       "      <td>12654928</td>\n",
       "      <td>Thermotoga maritima</td>\n",
       "      <td>2.7.1.40</td>\n",
       "      <td>CHEBI:28013</td>\n",
       "      <td>+</td>\n",
       "      <td>{'fructose diphosphate', 'D-fructose 1,6-diphosphate', 'D-fructose-1,6-diphosphate', 'fructose-1,6-bisphosphate', 'fructose-1,6-diphosphate', 'fructose 1,6-biphosphate', 'D-fructose-1,6-bisphophate', 'D-fructose-1,6-bisphosphate', 'D-fructose 1-6-diphosphate', 'fructose 1,6-bisphosphate', 'D-fructose 1,6 bisphosphate', 'fructose 1,6-diphosphate', 'D-fructose 1,6-bisphosphate'}</td>\n",
       "      <td>pyruvate kinase</td>\n",
       "      <td>Activation</td>\n",
       "      <td>((T. maritima[ALL]) OR (Thermotoga maritima[ALL])) AND ((D-fructose-1,6-diphosphate*[ALL]) OR (fructose 1,6-biphosphate*[ALL]) OR (D-fructose-1,6-bisphophate*[ALL]) OR (D-fructose 1,6 bisphosphate*[ALL]) OR (D-fructose-1,6-bisphosphate*[ALL]) OR (fructose-1,6-diphosphate*[ALL]) OR (D-fructose 1,6-diphosphate*[ALL]) OR (fructose 1,6-diphosphate*[ALL]) OR (D-fructose 1-6-diphosphate*[ALL]) OR (fructose 1,6-bisphosphate*[ALL]) OR (fructose diphosphate*[ALL]) OR (D-fructose 1,6-bisphosphate*[ALL]) OR (fructose-1,6-bisphosphate*[ALL])) AND ((pyruvate kinase*[ALL])) AND ((Activat*[ALL])) AND ((alloster*[TIAB]) OR (allozyme*[TIAB])) AND ((effector*[TIAB]) OR (modulator*[TIAB]) OR (regulator*[TIAB]) OR (*enzyme*[TIAB]) OR (isozyme*[TIAB]))</td>\n",
       "      <td>Comparative analysis of pyruvate kinases from the hyperthermophilic archaea Archaeoglobus fulgidus, Aeropyrum pernix, and Pyrobaculum aerophilum and the hyperthermophilic bacterium Thermotoga maritima: unusual regulatory properties in hyperthermophilic archaea.</td>\n",
       "      <td>Pyruvate kinases (PK, EC 2.7.1.40) from three hyperthermophilic archaea (Archaeoglobus fulgidus strain 7324, Aeropyrum pernix, and Pyrobaculum aerophilum) and from the hyperthermophilic bacterium Thermotoga maritima were compared with respect to their thermophilic, kinetic, and regulatory properties. PKs from the archaea are 200-kDa homotetramers composed of 50-kDa subunits. The enzymes required divalent cations, Mg2+ and Mn2+ being most effective, but were independent of K+. Temperature optima for activity were 85 degrees C (A. fulgidus) and above 98 degrees C (A. pernix and P. aerophilum). The PKs were highly thermostable up to 110 degrees C (A. pernix) and showed melting temperatures for thermal unfolding at 93 degrees C (A. fulgidus) or above 98 degrees C (A. pernix and P. aerophil...</td>\n",
       "      <td>The Journal of biological chemistry</td>\n",
       "      <td>2003</td>\n",
       "      <td>None</td>\n",
       "      <td>10.1074/jbc.M210288200</td>\n",
       "    </tr>\n",
       "    <tr>\n",
       "      <th>5</th>\n",
       "      <td>6132</td>\n",
       "      <td>Neurospora crassa</td>\n",
       "      <td>2.7.1.40</td>\n",
       "      <td>CHEBI:28013</td>\n",
       "      <td>+</td>\n",
       "      <td>{'fructose diphosphate', 'D-fructose 1,6-diphosphate', 'D-fructose-1,6-diphosphate', 'fructose-1,6-bisphosphate', 'fructose-1,6-diphosphate', 'fructose 1,6-biphosphate', 'D-fructose-1,6-bisphophate', 'D-fructose-1,6-bisphosphate', 'D-fructose 1-6-diphosphate', 'fructose 1,6-bisphosphate', 'D-fructose 1,6 bisphosphate', 'fructose 1,6-diphosphate', 'D-fructose 1,6-bisphosphate'}</td>\n",
       "      <td>pyruvate kinase</td>\n",
       "      <td>Activation</td>\n",
       "      <td>((N. crassa[ALL]) OR (Neurospora crassa[ALL])) AND ((D-fructose-1,6-diphosphate*[ALL]) OR (fructose 1,6-biphosphate*[ALL]) OR (D-fructose-1,6-bisphophate*[ALL]) OR (D-fructose 1,6 bisphosphate*[ALL]) OR (D-fructose-1,6-bisphosphate*[ALL]) OR (fructose-1,6-diphosphate*[ALL]) OR (D-fructose 1,6-diphosphate*[ALL]) OR (fructose 1,6-diphosphate*[ALL]) OR (D-fructose 1-6-diphosphate*[ALL]) OR (fructose 1,6-bisphosphate*[ALL]) OR (fructose diphosphate*[ALL]) OR (D-fructose 1,6-bisphosphate*[ALL]) OR (fructose-1,6-bisphosphate*[ALL])) AND ((pyruvate kinase*[ALL])) AND ((Activat*[ALL])) AND ((alloster*[TIAB]) OR (allozyme*[TIAB])) AND ((effector*[TIAB]) OR (modulator*[TIAB]) OR (regulator*[TIAB]) OR (*enzyme*[TIAB]) OR (isozyme*[TIAB]))</td>\n",
       "      <td>Modification of the regulatory properties of pyruvate kinase of Neurospora by growth at elevated temperatures.</td>\n",
       "      <td>Pyruvate kinase (EC 2.7.1.40) was isolated from Neurospora crassa mycelium grown at 28 degrees C (PK-28) and at 42 degrees C (PK-42). The regulatory properties, particularly the response towards the allosteric effector fructose 1,6-diphosphate (FDP), was different in the two enzymes. PK-28 showed an activation by FDP but PK-42, under comparable conditions, appeared to be activated by low concentrations of FDP and inhibited by higher ones. For PK-28, complex formation with FDP results in a lowering of the isoelectric point from 6.40 to 5.50, representing the pI of the unliganded enzyme and that of the complex, respectively. In contrast to this, PK-42 exhibits a weak binding to FDP as suggested by a lack of decrease in the isoelectric point on treatment with comparable concentrations of ...</td>\n",
       "      <td>Canadian journal of biochemistry</td>\n",
       "      <td>1976</td>\n",
       "      <td>None</td>\n",
       "      <td>10.1139/o76-058</td>\n",
       "    </tr>\n",
       "    <tr>\n",
       "      <th>6</th>\n",
       "      <td>123821</td>\n",
       "      <td>Neurospora crassa</td>\n",
       "      <td>2.7.1.40</td>\n",
       "      <td>CHEBI:28013</td>\n",
       "      <td>+</td>\n",
       "      <td>{'fructose diphosphate', 'D-fructose 1,6-diphosphate', 'D-fructose-1,6-diphosphate', 'fructose-1,6-bisphosphate', 'fructose-1,6-diphosphate', 'fructose 1,6-biphosphate', 'D-fructose-1,6-bisphophate', 'D-fructose-1,6-bisphosphate', 'D-fructose 1-6-diphosphate', 'fructose 1,6-bisphosphate', 'D-fructose 1,6 bisphosphate', 'fructose 1,6-diphosphate', 'D-fructose 1,6-bisphosphate'}</td>\n",
       "      <td>pyruvate kinase</td>\n",
       "      <td>Activation</td>\n",
       "      <td>((N. crassa[ALL]) OR (Neurospora crassa[ALL])) AND ((D-fructose-1,6-diphosphate*[ALL]) OR (fructose 1,6-biphosphate*[ALL]) OR (D-fructose-1,6-bisphophate*[ALL]) OR (D-fructose 1,6 bisphosphate*[ALL]) OR (D-fructose-1,6-bisphosphate*[ALL]) OR (fructose-1,6-diphosphate*[ALL]) OR (D-fructose 1,6-diphosphate*[ALL]) OR (fructose 1,6-diphosphate*[ALL]) OR (D-fructose 1-6-diphosphate*[ALL]) OR (fructose 1,6-bisphosphate*[ALL]) OR (fructose diphosphate*[ALL]) OR (D-fructose 1,6-bisphosphate*[ALL]) OR (fructose-1,6-bisphosphate*[ALL])) AND ((pyruvate kinase*[ALL])) AND ((Activat*[ALL])) AND ((alloster*[TIAB]) OR (allozyme*[TIAB])) AND ((effector*[TIAB]) OR (modulator*[TIAB]) OR (regulator*[TIAB]) OR (*enzyme*[TIAB]) OR (isozyme*[TIAB]))</td>\n",
       "      <td>Subunit structure and some properties of pyruvate kinase of Neurospora.</td>\n",
       "      <td>Pyruvate kinase isolated from Neurospora and purified to homogeneity has been shown to be a tetramer of molecular weight around 242 000 by gel filtration studies and 239 000 daltons by sedimentation equilibrium measurements. The monomer produced by treatment with guanidine hydrochloride is found to be 51 000-52 000 daltons by sedimentation equilibrium studies; a molecular weight of 62 000 was determined for the monomer generated by SDS treatment by electrophoresis in SDS-polyacrylamide gels. The enzyme has an isoelectric point of 6.35-6.41; Substrate saturation kinetics of PEP show a variable extent of cooperativity depending upon the buffer ions employed in the assay. ADP is the most effective phosphoryl group acceptor, GDP and IDP being poor substitutes. A divalent cation, Mg-2+, is ...</td>\n",
       "      <td>Canadian journal of biochemistry</td>\n",
       "      <td>1975</td>\n",
       "      <td>None</td>\n",
       "      <td>10.1139/o75-017</td>\n",
       "    </tr>\n",
       "    <tr>\n",
       "      <th>7</th>\n",
       "      <td>6215112</td>\n",
       "      <td>Neurospora crassa</td>\n",
       "      <td>2.7.1.40</td>\n",
       "      <td>CHEBI:28013</td>\n",
       "      <td>+</td>\n",
       "      <td>{'fructose diphosphate', 'D-fructose 1,6-diphosphate', 'D-fructose-1,6-diphosphate', 'fructose-1,6-bisphosphate', 'fructose-1,6-diphosphate', 'fructose 1,6-biphosphate', 'D-fructose-1,6-bisphophate', 'D-fructose-1,6-bisphosphate', 'D-fructose 1-6-diphosphate', 'fructose 1,6-bisphosphate', 'D-fructose 1,6 bisphosphate', 'fructose 1,6-diphosphate', 'D-fructose 1,6-bisphosphate'}</td>\n",
       "      <td>pyruvate kinase</td>\n",
       "      <td>Activation</td>\n",
       "      <td>((N. crassa[ALL]) OR (Neurospora crassa[ALL])) AND ((D-fructose-1,6-diphosphate*[ALL]) OR (fructose 1,6-biphosphate*[ALL]) OR (D-fructose-1,6-bisphophate*[ALL]) OR (D-fructose 1,6 bisphosphate*[ALL]) OR (D-fructose-1,6-bisphosphate*[ALL]) OR (fructose-1,6-diphosphate*[ALL]) OR (D-fructose 1,6-diphosphate*[ALL]) OR (fructose 1,6-diphosphate*[ALL]) OR (D-fructose 1-6-diphosphate*[ALL]) OR (fructose 1,6-bisphosphate*[ALL]) OR (fructose diphosphate*[ALL]) OR (D-fructose 1,6-bisphosphate*[ALL]) OR (fructose-1,6-bisphosphate*[ALL])) AND ((pyruvate kinase*[ALL])) AND ((Activat*[ALL])) AND ((alloster*[TIAB]) OR (allozyme*[TIAB])) AND ((effector*[TIAB]) OR (modulator*[TIAB]) OR (regulator*[TIAB]) OR (*enzyme*[TIAB]) OR (isozyme*[TIAB]))</td>\n",
       "      <td>An immunological study of the interaction of ligands with pyruvate kinase of Neurospora crassa.</td>\n",
       "      <td>Antibodies against pyruvate kinase of Neurospora crassa, induced in rabbits, were used to monitor the interaction of ligands with this enzyme. The technique of microcomplement fixation was employed to probe for conformational alterations elicited by binding of substrates (phosphoenolpyruvate (PEP) and adenosine diphosphate), the allosteric activator (fructose 1,6-diphosphate), and the inhibitor (valine). On binding of PEP and valine to pyruvate kinase a pronounced reduction in the extent of complement fixation was observed. The second substrate, ADP, had no effect while FDP elicited a moderate suppression of complement fixation. These results suggest that as a consequence of conformational changes induced by PEP and valine, some antigenic determinants on the surface of pyruvate kinase ...</td>\n",
       "      <td>Canadian journal of biochemistry</td>\n",
       "      <td>1982</td>\n",
       "      <td>None</td>\n",
       "      <td>10.1139/o82-095</td>\n",
       "    </tr>\n",
       "    <tr>\n",
       "      <th>8</th>\n",
       "      <td>6444599</td>\n",
       "      <td>Neurospora crassa</td>\n",
       "      <td>2.7.1.40</td>\n",
       "      <td>CHEBI:28013</td>\n",
       "      <td>+</td>\n",
       "      <td>{'fructose diphosphate', 'D-fructose 1,6-diphosphate', 'D-fructose-1,6-diphosphate', 'fructose-1,6-bisphosphate', 'fructose-1,6-diphosphate', 'fructose 1,6-biphosphate', 'D-fructose-1,6-bisphophate', 'D-fructose-1,6-bisphosphate', 'D-fructose 1-6-diphosphate', 'fructose 1,6-bisphosphate', 'D-fructose 1,6 bisphosphate', 'fructose 1,6-diphosphate', 'D-fructose 1,6-bisphosphate'}</td>\n",
       "      <td>pyruvate kinase</td>\n",
       "      <td>Activation</td>\n",
       "      <td>((N. crassa[ALL]) OR (Neurospora crassa[ALL])) AND ((D-fructose-1,6-diphosphate*[ALL]) OR (fructose 1,6-biphosphate*[ALL]) OR (D-fructose-1,6-bisphophate*[ALL]) OR (D-fructose 1,6 bisphosphate*[ALL]) OR (D-fructose-1,6-bisphosphate*[ALL]) OR (fructose-1,6-diphosphate*[ALL]) OR (D-fructose 1,6-diphosphate*[ALL]) OR (fructose 1,6-diphosphate*[ALL]) OR (D-fructose 1-6-diphosphate*[ALL]) OR (fructose 1,6-bisphosphate*[ALL]) OR (fructose diphosphate*[ALL]) OR (D-fructose 1,6-bisphosphate*[ALL]) OR (fructose-1,6-bisphosphate*[ALL])) AND ((pyruvate kinase*[ALL])) AND ((Activat*[ALL])) AND ((alloster*[TIAB]) OR (allozyme*[TIAB])) AND ((effector*[TIAB]) OR (modulator*[TIAB]) OR (regulator*[TIAB]) OR (*enzyme*[TIAB]) OR (isozyme*[TIAB]))</td>\n",
       "      <td>Studies of the structure-function relationships of Neurospora pyruvate kinase: denaturation by urea and the effect of ligands on the refolding and renaturation process.</td>\n",
       "      <td>1. The renaturation of Neurospora pyruvate kinase following denaturation with urea was investigated. 2. The substrates, phosphoenol pyruvate and adenosine diphosphate, were observed to stabilize the enzyme against urea-induced structural disorganization. 3. It was demonstrated that for refolding/reactivation of the denatured protein the allosteric activator, fructose-1,6-diphosphate and a sulphydryl protectant are required. 4. The enzyme recovered following renaturation showed complete immunological identity with the native enzyme in Ouchterlony double diffusion tests.</td>\n",
       "      <td>The International journal of biochemistry</td>\n",
       "      <td>1980</td>\n",
       "      <td>None</td>\n",
       "      <td>10.1016/0020-711x(80)90242-6</td>\n",
       "    </tr>\n",
       "    <tr>\n",
       "      <th>9</th>\n",
       "      <td>12076625</td>\n",
       "      <td>Plasmodium falciparum</td>\n",
       "      <td>2.7.1.1</td>\n",
       "      <td>CHEBI:4170</td>\n",
       "      <td>-</td>\n",
       "      <td>{'D-Glucose-6-phosphate', 'D-glucose 6-phosphate', 'glucose-6-phosphate', 'glucose 6-phosphate', 'D-glucosamine-6-phosphate'}</td>\n",
       "      <td>hexokinase</td>\n",
       "      <td>Inhibition</td>\n",
       "      <td>((P. falciparum[ALL]) OR (Plasmodium falciparum[ALL])) AND ((D-glucose 6-phosphate*[ALL]) OR (D-glucosamine-6-phosphate*[ALL]) OR (glucose 6-phosphate*[ALL]) OR (D-Glucose-6-phosphate*[ALL]) OR (glucose-6-phosphate*[ALL])) AND ((hexokinase*[ALL])) AND ((Inhibit*[ALL])) AND ((alloster*[TIAB]) OR (allozyme*[TIAB])) AND ((effector*[TIAB]) OR (modulator*[TIAB]) OR (regulator*[TIAB]) OR (*enzyme*[TIAB]) OR (isozyme*[TIAB]))</td>\n",
       "      <td>Characterisation of hexokinase in Toxoplasma gondii tachyzoites.</td>\n",
       "      <td>We have cloned the hexokinase [E.C. 2.7.1.1] gene of Toxoplasma gondii tachyzoite and obtained an active recombinant enzyme with a calculated molecular mass of 51,465Da and an isoelectric point of 5.82. Southern blot analysis indicated that the hexokinase gene existed as a single copy in the tachyzoites of T. gondii. The sequence of T. gondii hexokinase exhibited the highest identity (44%) to that of Plasmodium falciparum hexokinase and lower identity of less than 35% to those of hexokinases from other organisms. The specific activity of the homogeneously purified recombinant enzyme was 4.04 micromol/mg protein/min at 37 degrees C under optimal conditions. The enzyme could use glucose, fructose, and mannose as substrates, though it preferred glucose. Adenosine triphosphate was exclusiv...</td>\n",
       "      <td>International journal for parasitology</td>\n",
       "      <td>2002</td>\n",
       "      <td>None</td>\n",
       "      <td>10.1016/s0020-7519(02)00059-0</td>\n",
       "    </tr>\n",
       "  </tbody>\n",
       "</table>\n",
       "</div>"
      ],
      "text/plain": [
       "      PM_ID                    Organism EC number Metabolite (ChEBI) Mode  \\\n",
       "0  20707314       Staphylococcus aureus  2.7.1.40        CHEBI:28013    +   \n",
       "1  30419357  Mycobacterium tuberculosis  2.7.1.40        CHEBI:28013    +   \n",
       "2   7549104      Bacillus licheniformis  2.7.1.40        CHEBI:28013    +   \n",
       "3  12881504           Synechocystis sp.  2.7.1.40        CHEBI:28013    +   \n",
       "4  12654928         Thermotoga maritima  2.7.1.40        CHEBI:28013    +   \n",
       "5      6132           Neurospora crassa  2.7.1.40        CHEBI:28013    +   \n",
       "6    123821           Neurospora crassa  2.7.1.40        CHEBI:28013    +   \n",
       "7   6215112           Neurospora crassa  2.7.1.40        CHEBI:28013    +   \n",
       "8   6444599           Neurospora crassa  2.7.1.40        CHEBI:28013    +   \n",
       "9  12076625       Plasmodium falciparum   2.7.1.1         CHEBI:4170    -   \n",
       "\n",
       "                                                                                                                                                                                                                                                                                                                                                                            Metabolite (names)  \\\n",
       "0  {'fructose diphosphate', 'D-fructose 1,6-diphosphate', 'D-fructose-1,6-diphosphate', 'fructose-1,6-bisphosphate', 'fructose-1,6-diphosphate', 'fructose 1,6-biphosphate', 'D-fructose-1,6-bisphophate', 'D-fructose-1,6-bisphosphate', 'D-fructose 1-6-diphosphate', 'fructose 1,6-bisphosphate', 'D-fructose 1,6 bisphosphate', 'fructose 1,6-diphosphate', 'D-fructose 1,6-bisphosphate'}   \n",
       "1  {'fructose diphosphate', 'D-fructose 1,6-diphosphate', 'D-fructose-1,6-diphosphate', 'fructose-1,6-bisphosphate', 'fructose-1,6-diphosphate', 'fructose 1,6-biphosphate', 'D-fructose-1,6-bisphophate', 'D-fructose-1,6-bisphosphate', 'D-fructose 1-6-diphosphate', 'fructose 1,6-bisphosphate', 'D-fructose 1,6 bisphosphate', 'fructose 1,6-diphosphate', 'D-fructose 1,6-bisphosphate'}   \n",
       "2  {'fructose diphosphate', 'D-fructose 1,6-diphosphate', 'D-fructose-1,6-diphosphate', 'fructose-1,6-bisphosphate', 'fructose-1,6-diphosphate', 'fructose 1,6-biphosphate', 'D-fructose-1,6-bisphophate', 'D-fructose-1,6-bisphosphate', 'D-fructose 1-6-diphosphate', 'fructose 1,6-bisphosphate', 'D-fructose 1,6 bisphosphate', 'fructose 1,6-diphosphate', 'D-fructose 1,6-bisphosphate'}   \n",
       "3  {'fructose diphosphate', 'D-fructose 1,6-diphosphate', 'D-fructose-1,6-diphosphate', 'fructose-1,6-bisphosphate', 'fructose-1,6-diphosphate', 'fructose 1,6-biphosphate', 'D-fructose-1,6-bisphophate', 'D-fructose-1,6-bisphosphate', 'D-fructose 1-6-diphosphate', 'fructose 1,6-bisphosphate', 'D-fructose 1,6 bisphosphate', 'fructose 1,6-diphosphate', 'D-fructose 1,6-bisphosphate'}   \n",
       "4  {'fructose diphosphate', 'D-fructose 1,6-diphosphate', 'D-fructose-1,6-diphosphate', 'fructose-1,6-bisphosphate', 'fructose-1,6-diphosphate', 'fructose 1,6-biphosphate', 'D-fructose-1,6-bisphophate', 'D-fructose-1,6-bisphosphate', 'D-fructose 1-6-diphosphate', 'fructose 1,6-bisphosphate', 'D-fructose 1,6 bisphosphate', 'fructose 1,6-diphosphate', 'D-fructose 1,6-bisphosphate'}   \n",
       "5  {'fructose diphosphate', 'D-fructose 1,6-diphosphate', 'D-fructose-1,6-diphosphate', 'fructose-1,6-bisphosphate', 'fructose-1,6-diphosphate', 'fructose 1,6-biphosphate', 'D-fructose-1,6-bisphophate', 'D-fructose-1,6-bisphosphate', 'D-fructose 1-6-diphosphate', 'fructose 1,6-bisphosphate', 'D-fructose 1,6 bisphosphate', 'fructose 1,6-diphosphate', 'D-fructose 1,6-bisphosphate'}   \n",
       "6  {'fructose diphosphate', 'D-fructose 1,6-diphosphate', 'D-fructose-1,6-diphosphate', 'fructose-1,6-bisphosphate', 'fructose-1,6-diphosphate', 'fructose 1,6-biphosphate', 'D-fructose-1,6-bisphophate', 'D-fructose-1,6-bisphosphate', 'D-fructose 1-6-diphosphate', 'fructose 1,6-bisphosphate', 'D-fructose 1,6 bisphosphate', 'fructose 1,6-diphosphate', 'D-fructose 1,6-bisphosphate'}   \n",
       "7  {'fructose diphosphate', 'D-fructose 1,6-diphosphate', 'D-fructose-1,6-diphosphate', 'fructose-1,6-bisphosphate', 'fructose-1,6-diphosphate', 'fructose 1,6-biphosphate', 'D-fructose-1,6-bisphophate', 'D-fructose-1,6-bisphosphate', 'D-fructose 1-6-diphosphate', 'fructose 1,6-bisphosphate', 'D-fructose 1,6 bisphosphate', 'fructose 1,6-diphosphate', 'D-fructose 1,6-bisphosphate'}   \n",
       "8  {'fructose diphosphate', 'D-fructose 1,6-diphosphate', 'D-fructose-1,6-diphosphate', 'fructose-1,6-bisphosphate', 'fructose-1,6-diphosphate', 'fructose 1,6-biphosphate', 'D-fructose-1,6-bisphophate', 'D-fructose-1,6-bisphosphate', 'D-fructose 1-6-diphosphate', 'fructose 1,6-bisphosphate', 'D-fructose 1,6 bisphosphate', 'fructose 1,6-diphosphate', 'D-fructose 1,6-bisphosphate'}   \n",
       "9                                                                                                                                                                                                                                                                {'D-Glucose-6-phosphate', 'D-glucose 6-phosphate', 'glucose-6-phosphate', 'glucose 6-phosphate', 'D-glucosamine-6-phosphate'}   \n",
       "\n",
       "     Enzyme (name) Mode (act/inh)  \\\n",
       "0  pyruvate kinase     Activation   \n",
       "1  pyruvate kinase     Activation   \n",
       "2  pyruvate kinase     Activation   \n",
       "3  pyruvate kinase     Activation   \n",
       "4  pyruvate kinase     Activation   \n",
       "5  pyruvate kinase     Activation   \n",
       "6  pyruvate kinase     Activation   \n",
       "7  pyruvate kinase     Activation   \n",
       "8  pyruvate kinase     Activation   \n",
       "9       hexokinase     Inhibition   \n",
       "\n",
       "                                                                                                                                                                                                                                                                                                                                                                                                                                                                                                                                                                                                                                                                                                                                                                             search  \\\n",
       "0             ((S. aureus[ALL]) OR (Staphylococcus aureus[ALL])) AND ((D-fructose-1,6-diphosphate*[ALL]) OR (fructose 1,6-biphosphate*[ALL]) OR (D-fructose-1,6-bisphophate*[ALL]) OR (D-fructose 1,6 bisphosphate*[ALL]) OR (D-fructose-1,6-bisphosphate*[ALL]) OR (fructose-1,6-diphosphate*[ALL]) OR (D-fructose 1,6-diphosphate*[ALL]) OR (fructose 1,6-diphosphate*[ALL]) OR (D-fructose 1-6-diphosphate*[ALL]) OR (fructose 1,6-bisphosphate*[ALL]) OR (fructose diphosphate*[ALL]) OR (D-fructose 1,6-bisphosphate*[ALL]) OR (fructose-1,6-bisphosphate*[ALL])) AND ((pyruvate kinase*[ALL])) AND ((Activat*[ALL])) AND ((alloster*[TIAB]) OR (allozyme*[TIAB])) AND ((effector*[TIAB]) OR (modulator*[TIAB]) OR (regulator*[TIAB]) OR (*enzyme*[TIAB]) OR (isozyme*[TIAB]))   \n",
       "1  ((M. tuberculosis[ALL]) OR (Mycobacterium tuberculosis[ALL])) AND ((D-fructose-1,6-diphosphate*[ALL]) OR (fructose 1,6-biphosphate*[ALL]) OR (D-fructose-1,6-bisphophate*[ALL]) OR (D-fructose 1,6 bisphosphate*[ALL]) OR (D-fructose-1,6-bisphosphate*[ALL]) OR (fructose-1,6-diphosphate*[ALL]) OR (D-fructose 1,6-diphosphate*[ALL]) OR (fructose 1,6-diphosphate*[ALL]) OR (D-fructose 1-6-diphosphate*[ALL]) OR (fructose 1,6-bisphosphate*[ALL]) OR (fructose diphosphate*[ALL]) OR (D-fructose 1,6-bisphosphate*[ALL]) OR (fructose-1,6-bisphosphate*[ALL])) AND ((pyruvate kinase*[ALL])) AND ((Activat*[ALL])) AND ((alloster*[TIAB]) OR (allozyme*[TIAB])) AND ((effector*[TIAB]) OR (modulator*[TIAB]) OR (regulator*[TIAB]) OR (*enzyme*[TIAB]) OR (isozyme*[TIAB]))   \n",
       "2     ((B. licheniformis[ALL]) OR (Bacillus licheniformis[ALL])) AND ((D-fructose-1,6-diphosphate*[ALL]) OR (fructose 1,6-biphosphate*[ALL]) OR (D-fructose-1,6-bisphophate*[ALL]) OR (D-fructose 1,6 bisphosphate*[ALL]) OR (D-fructose-1,6-bisphosphate*[ALL]) OR (fructose-1,6-diphosphate*[ALL]) OR (D-fructose 1,6-diphosphate*[ALL]) OR (fructose 1,6-diphosphate*[ALL]) OR (D-fructose 1-6-diphosphate*[ALL]) OR (fructose 1,6-bisphosphate*[ALL]) OR (fructose diphosphate*[ALL]) OR (D-fructose 1,6-bisphosphate*[ALL]) OR (fructose-1,6-bisphosphate*[ALL])) AND ((pyruvate kinase*[ALL])) AND ((Activat*[ALL])) AND ((alloster*[TIAB]) OR (allozyme*[TIAB])) AND ((effector*[TIAB]) OR (modulator*[TIAB]) OR (regulator*[TIAB]) OR (*enzyme*[TIAB]) OR (isozyme*[TIAB]))   \n",
       "3                    ((S. sp.[ALL]) OR (Synechocystis sp.[ALL])) AND ((D-fructose-1,6-diphosphate*[ALL]) OR (fructose 1,6-biphosphate*[ALL]) OR (D-fructose-1,6-bisphophate*[ALL]) OR (D-fructose 1,6 bisphosphate*[ALL]) OR (D-fructose-1,6-bisphosphate*[ALL]) OR (fructose-1,6-diphosphate*[ALL]) OR (D-fructose 1,6-diphosphate*[ALL]) OR (fructose 1,6-diphosphate*[ALL]) OR (D-fructose 1-6-diphosphate*[ALL]) OR (fructose 1,6-bisphosphate*[ALL]) OR (fructose diphosphate*[ALL]) OR (D-fructose 1,6-bisphosphate*[ALL]) OR (fructose-1,6-bisphosphate*[ALL])) AND ((pyruvate kinase*[ALL])) AND ((Activat*[ALL])) AND ((alloster*[TIAB]) OR (allozyme*[TIAB])) AND ((effector*[TIAB]) OR (modulator*[TIAB]) OR (regulator*[TIAB]) OR (*enzyme*[TIAB]) OR (isozyme*[TIAB]))   \n",
       "4             ((T. maritima[ALL]) OR (Thermotoga maritima[ALL])) AND ((D-fructose-1,6-diphosphate*[ALL]) OR (fructose 1,6-biphosphate*[ALL]) OR (D-fructose-1,6-bisphophate*[ALL]) OR (D-fructose 1,6 bisphosphate*[ALL]) OR (D-fructose-1,6-bisphosphate*[ALL]) OR (fructose-1,6-diphosphate*[ALL]) OR (D-fructose 1,6-diphosphate*[ALL]) OR (fructose 1,6-diphosphate*[ALL]) OR (D-fructose 1-6-diphosphate*[ALL]) OR (fructose 1,6-bisphosphate*[ALL]) OR (fructose diphosphate*[ALL]) OR (D-fructose 1,6-bisphosphate*[ALL]) OR (fructose-1,6-bisphosphate*[ALL])) AND ((pyruvate kinase*[ALL])) AND ((Activat*[ALL])) AND ((alloster*[TIAB]) OR (allozyme*[TIAB])) AND ((effector*[TIAB]) OR (modulator*[TIAB]) OR (regulator*[TIAB]) OR (*enzyme*[TIAB]) OR (isozyme*[TIAB]))   \n",
       "5                 ((N. crassa[ALL]) OR (Neurospora crassa[ALL])) AND ((D-fructose-1,6-diphosphate*[ALL]) OR (fructose 1,6-biphosphate*[ALL]) OR (D-fructose-1,6-bisphophate*[ALL]) OR (D-fructose 1,6 bisphosphate*[ALL]) OR (D-fructose-1,6-bisphosphate*[ALL]) OR (fructose-1,6-diphosphate*[ALL]) OR (D-fructose 1,6-diphosphate*[ALL]) OR (fructose 1,6-diphosphate*[ALL]) OR (D-fructose 1-6-diphosphate*[ALL]) OR (fructose 1,6-bisphosphate*[ALL]) OR (fructose diphosphate*[ALL]) OR (D-fructose 1,6-bisphosphate*[ALL]) OR (fructose-1,6-bisphosphate*[ALL])) AND ((pyruvate kinase*[ALL])) AND ((Activat*[ALL])) AND ((alloster*[TIAB]) OR (allozyme*[TIAB])) AND ((effector*[TIAB]) OR (modulator*[TIAB]) OR (regulator*[TIAB]) OR (*enzyme*[TIAB]) OR (isozyme*[TIAB]))   \n",
       "6                 ((N. crassa[ALL]) OR (Neurospora crassa[ALL])) AND ((D-fructose-1,6-diphosphate*[ALL]) OR (fructose 1,6-biphosphate*[ALL]) OR (D-fructose-1,6-bisphophate*[ALL]) OR (D-fructose 1,6 bisphosphate*[ALL]) OR (D-fructose-1,6-bisphosphate*[ALL]) OR (fructose-1,6-diphosphate*[ALL]) OR (D-fructose 1,6-diphosphate*[ALL]) OR (fructose 1,6-diphosphate*[ALL]) OR (D-fructose 1-6-diphosphate*[ALL]) OR (fructose 1,6-bisphosphate*[ALL]) OR (fructose diphosphate*[ALL]) OR (D-fructose 1,6-bisphosphate*[ALL]) OR (fructose-1,6-bisphosphate*[ALL])) AND ((pyruvate kinase*[ALL])) AND ((Activat*[ALL])) AND ((alloster*[TIAB]) OR (allozyme*[TIAB])) AND ((effector*[TIAB]) OR (modulator*[TIAB]) OR (regulator*[TIAB]) OR (*enzyme*[TIAB]) OR (isozyme*[TIAB]))   \n",
       "7                 ((N. crassa[ALL]) OR (Neurospora crassa[ALL])) AND ((D-fructose-1,6-diphosphate*[ALL]) OR (fructose 1,6-biphosphate*[ALL]) OR (D-fructose-1,6-bisphophate*[ALL]) OR (D-fructose 1,6 bisphosphate*[ALL]) OR (D-fructose-1,6-bisphosphate*[ALL]) OR (fructose-1,6-diphosphate*[ALL]) OR (D-fructose 1,6-diphosphate*[ALL]) OR (fructose 1,6-diphosphate*[ALL]) OR (D-fructose 1-6-diphosphate*[ALL]) OR (fructose 1,6-bisphosphate*[ALL]) OR (fructose diphosphate*[ALL]) OR (D-fructose 1,6-bisphosphate*[ALL]) OR (fructose-1,6-bisphosphate*[ALL])) AND ((pyruvate kinase*[ALL])) AND ((Activat*[ALL])) AND ((alloster*[TIAB]) OR (allozyme*[TIAB])) AND ((effector*[TIAB]) OR (modulator*[TIAB]) OR (regulator*[TIAB]) OR (*enzyme*[TIAB]) OR (isozyme*[TIAB]))   \n",
       "8                 ((N. crassa[ALL]) OR (Neurospora crassa[ALL])) AND ((D-fructose-1,6-diphosphate*[ALL]) OR (fructose 1,6-biphosphate*[ALL]) OR (D-fructose-1,6-bisphophate*[ALL]) OR (D-fructose 1,6 bisphosphate*[ALL]) OR (D-fructose-1,6-bisphosphate*[ALL]) OR (fructose-1,6-diphosphate*[ALL]) OR (D-fructose 1,6-diphosphate*[ALL]) OR (fructose 1,6-diphosphate*[ALL]) OR (D-fructose 1-6-diphosphate*[ALL]) OR (fructose 1,6-bisphosphate*[ALL]) OR (fructose diphosphate*[ALL]) OR (D-fructose 1,6-bisphosphate*[ALL]) OR (fructose-1,6-bisphosphate*[ALL])) AND ((pyruvate kinase*[ALL])) AND ((Activat*[ALL])) AND ((alloster*[TIAB]) OR (allozyme*[TIAB])) AND ((effector*[TIAB]) OR (modulator*[TIAB]) OR (regulator*[TIAB]) OR (*enzyme*[TIAB]) OR (isozyme*[TIAB]))   \n",
       "9                                                                                                                                                                                                                                                                                                                                            ((P. falciparum[ALL]) OR (Plasmodium falciparum[ALL])) AND ((D-glucose 6-phosphate*[ALL]) OR (D-glucosamine-6-phosphate*[ALL]) OR (glucose 6-phosphate*[ALL]) OR (D-Glucose-6-phosphate*[ALL]) OR (glucose-6-phosphate*[ALL])) AND ((hexokinase*[ALL])) AND ((Inhibit*[ALL])) AND ((alloster*[TIAB]) OR (allozyme*[TIAB])) AND ((effector*[TIAB]) OR (modulator*[TIAB]) OR (regulator*[TIAB]) OR (*enzyme*[TIAB]) OR (isozyme*[TIAB]))   \n",
       "\n",
       "                                                                                                                                                                                                                                                                   Title  \\\n",
       "0                                                                                                                                 Functional analysis, overexpression, and kinetic characterization of pyruvate kinase from methicillin-resistant Staphylococcus aureus.   \n",
       "1                                                                                                                                                                               Allosteric regulation of pyruvate kinase from Mycobacterium tuberculosis by metabolites.   \n",
       "2                                                                    Molecular cloning of the genes for pyruvate kinase of two bacilli, Bacillus psychrophilus and Bacillus licheniformis, and comparison of the properties of the enzymes produced in Escherichia coli.   \n",
       "3                                                                                                                    From genome to enzyme: analysis of key glycolytic and oxidative pentose-phosphate pathway enzymes in the cyanobacterium Synechocystis sp. PCC 6803.   \n",
       "4  Comparative analysis of pyruvate kinases from the hyperthermophilic archaea Archaeoglobus fulgidus, Aeropyrum pernix, and Pyrobaculum aerophilum and the hyperthermophilic bacterium Thermotoga maritima: unusual regulatory properties in hyperthermophilic archaea.   \n",
       "5                                                                                                                                                         Modification of the regulatory properties of pyruvate kinase of Neurospora by growth at elevated temperatures.   \n",
       "6                                                                                                                                                                                                Subunit structure and some properties of pyruvate kinase of Neurospora.   \n",
       "7                                                                                                                                                                        An immunological study of the interaction of ligands with pyruvate kinase of Neurospora crassa.   \n",
       "8                                                                                               Studies of the structure-function relationships of Neurospora pyruvate kinase: denaturation by urea and the effect of ligands on the refolding and renaturation process.   \n",
       "9                                                                                                                                                                                                       Characterisation of hexokinase in Toxoplasma gondii tachyzoites.   \n",
       "\n",
       "                                                                                                                                                                                                                                                                                                                                                                                                                                                                                                                                                                                                                                                                                                                                                                                                                          Abstract  \\\n",
       "0  Novel antimicrobial targets are urgently needed to overcome rising antibiotic resistance of important human pathogens including methicillin-resistant Staphylococcus aureus (MRSA). Here we report the essentiality and kinetic properties of MRSA pyruvate kinase (PK). Targetron-mediated gene disruption demonstrated PK is essential for S. aureus growth and survival, suggesting that this protein may be a potential drug target. The presence of the pfk (6-phosphofructokinase)-pyk operon in MRSA252, and the nonessential nature of PFK shown by targetron, further emphasized the essential role of PK in cell viability. The importance of PK in bacterial growth was confirmed by showing that its enzymatic activity peaked during the logarithmic phase of S. aureus growth. PK from Staphylococcus and seve...   \n",
       "1  Mycobacterium tuberculosis (Mtb) causes both acute tuberculosis and latent, symptom-free infection that affects roughly one-third of the world's population. It is a globally important pathogen that poses multiple dangers. Mtb reprograms its metabolism in response to the host niche, and this adaptation contributes to its pathogenicity. Knowledge of the metabolic regulation mechanisms in Mtb is still limited. Pyruvate kinase, involved in the late stage of glycolysis, helps link various metabolic routes together. Here, we demonstrate that Mtb pyruvate kinase (Mtb PYK) predominantly catalyzes the reaction leading to the production of pyruvate, but its activity is influenced by multiple metabolites from closely interlinked pathways that act as allosteric regulators (activators and inhibitor...   \n",
       "2  The genes for the pyruvate kinases of a psychrophile, Bacillus psychrophilus, and a mesophile, Bacillus licheniformis, have been cloned in Escherichia coli, and all their nucleotides were sequenced. The two bacterial enzymes each had an extra C-terminal sequence consisting of about 110 amino acid residues, which has been found in the B. stearothermophilus enzyme. Both enzymes were overexpressed in E. coli and the properties of the purified enzymes were compared to those of the B. stearothermophilus enzyme. Both enzymes were less stable than the B. stearothermophilus one. The B. psychrophilus enzyme was more stable than the B. licheniformis one. Similarly to the B. licheniformis and B. stearothermophilus pyruvate kinases, the B. psychrophilus enzyme was activated by AMP or ribose 5-phos...   \n",
       "3  Activities of glucokinase, glucose-6-phosphate dehydrogenase, 6-phosphogluconate dehydrogenase, phosphoglucose isomerase, phosphofructokinase (PFK), enolase, pyruvate kinase (PK) and phosphoenolpyruvate (PEP) carboxylase were determined in extracts of photoautotrophic, mixotrophic, and heterotrophic cultures of Synechocystis sp. PCC 6803. Annotated genomes of Synechocystis sp. PCC 6803 and Anabaena sp. PCC 7120 were analyzed for the respective predicted physical properties of each enzyme investigated here. Enzymatic activity was largely unaffected by nutritional mode, with the exception of glucokinase and PK whose activities were significantly elevated in heterotrophic cultures of Synechocystis sp. PCC 6803. PFK activity was insensitive to bacterial PFK-A (allosteric) effectors such as...   \n",
       "4  Pyruvate kinases (PK, EC 2.7.1.40) from three hyperthermophilic archaea (Archaeoglobus fulgidus strain 7324, Aeropyrum pernix, and Pyrobaculum aerophilum) and from the hyperthermophilic bacterium Thermotoga maritima were compared with respect to their thermophilic, kinetic, and regulatory properties. PKs from the archaea are 200-kDa homotetramers composed of 50-kDa subunits. The enzymes required divalent cations, Mg2+ and Mn2+ being most effective, but were independent of K+. Temperature optima for activity were 85 degrees C (A. fulgidus) and above 98 degrees C (A. pernix and P. aerophilum). The PKs were highly thermostable up to 110 degrees C (A. pernix) and showed melting temperatures for thermal unfolding at 93 degrees C (A. fulgidus) or above 98 degrees C (A. pernix and P. aerophil...   \n",
       "5  Pyruvate kinase (EC 2.7.1.40) was isolated from Neurospora crassa mycelium grown at 28 degrees C (PK-28) and at 42 degrees C (PK-42). The regulatory properties, particularly the response towards the allosteric effector fructose 1,6-diphosphate (FDP), was different in the two enzymes. PK-28 showed an activation by FDP but PK-42, under comparable conditions, appeared to be activated by low concentrations of FDP and inhibited by higher ones. For PK-28, complex formation with FDP results in a lowering of the isoelectric point from 6.40 to 5.50, representing the pI of the unliganded enzyme and that of the complex, respectively. In contrast to this, PK-42 exhibits a weak binding to FDP as suggested by a lack of decrease in the isoelectric point on treatment with comparable concentrations of ...   \n",
       "6  Pyruvate kinase isolated from Neurospora and purified to homogeneity has been shown to be a tetramer of molecular weight around 242 000 by gel filtration studies and 239 000 daltons by sedimentation equilibrium measurements. The monomer produced by treatment with guanidine hydrochloride is found to be 51 000-52 000 daltons by sedimentation equilibrium studies; a molecular weight of 62 000 was determined for the monomer generated by SDS treatment by electrophoresis in SDS-polyacrylamide gels. The enzyme has an isoelectric point of 6.35-6.41; Substrate saturation kinetics of PEP show a variable extent of cooperativity depending upon the buffer ions employed in the assay. ADP is the most effective phosphoryl group acceptor, GDP and IDP being poor substitutes. A divalent cation, Mg-2+, is ...   \n",
       "7  Antibodies against pyruvate kinase of Neurospora crassa, induced in rabbits, were used to monitor the interaction of ligands with this enzyme. The technique of microcomplement fixation was employed to probe for conformational alterations elicited by binding of substrates (phosphoenolpyruvate (PEP) and adenosine diphosphate), the allosteric activator (fructose 1,6-diphosphate), and the inhibitor (valine). On binding of PEP and valine to pyruvate kinase a pronounced reduction in the extent of complement fixation was observed. The second substrate, ADP, had no effect while FDP elicited a moderate suppression of complement fixation. These results suggest that as a consequence of conformational changes induced by PEP and valine, some antigenic determinants on the surface of pyruvate kinase ...   \n",
       "8                                                                                                                                                                                                                                  1. The renaturation of Neurospora pyruvate kinase following denaturation with urea was investigated. 2. The substrates, phosphoenol pyruvate and adenosine diphosphate, were observed to stabilize the enzyme against urea-induced structural disorganization. 3. It was demonstrated that for refolding/reactivation of the denatured protein the allosteric activator, fructose-1,6-diphosphate and a sulphydryl protectant are required. 4. The enzyme recovered following renaturation showed complete immunological identity with the native enzyme in Ouchterlony double diffusion tests.   \n",
       "9  We have cloned the hexokinase [E.C. 2.7.1.1] gene of Toxoplasma gondii tachyzoite and obtained an active recombinant enzyme with a calculated molecular mass of 51,465Da and an isoelectric point of 5.82. Southern blot analysis indicated that the hexokinase gene existed as a single copy in the tachyzoites of T. gondii. The sequence of T. gondii hexokinase exhibited the highest identity (44%) to that of Plasmodium falciparum hexokinase and lower identity of less than 35% to those of hexokinases from other organisms. The specific activity of the homogeneously purified recombinant enzyme was 4.04 micromol/mg protein/min at 37 degrees C under optimal conditions. The enzyme could use glucose, fructose, and mannose as substrates, though it preferred glucose. Adenosine triphosphate was exclusiv...   \n",
       "\n",
       "                                                  Journal  Year PMC_ID  \\\n",
       "0                                            Biochemistry  2010   None   \n",
       "1  Biochimica et biophysica acta. Proteins and proteomics  2019   None   \n",
       "2             Bioscience, biotechnology, and biochemistry  1995   None   \n",
       "3                                 Plant & cell physiology  2003   None   \n",
       "4                     The Journal of biological chemistry  2003   None   \n",
       "5                        Canadian journal of biochemistry  1976   None   \n",
       "6                        Canadian journal of biochemistry  1975   None   \n",
       "7                        Canadian journal of biochemistry  1982   None   \n",
       "8               The International journal of biochemistry  1980   None   \n",
       "9                  International journal for parasitology  2002   None   \n",
       "\n",
       "                             DOI  \n",
       "0              10.1021/bi100780t  \n",
       "1   10.1016/j.bbapap.2018.11.002  \n",
       "2            10.1271/bbb.59.1536  \n",
       "3             10.1093/pcp/pcg086  \n",
       "4         10.1074/jbc.M210288200  \n",
       "5                10.1139/o76-058  \n",
       "6                10.1139/o75-017  \n",
       "7                10.1139/o82-095  \n",
       "8   10.1016/0020-711x(80)90242-6  \n",
       "9  10.1016/s0020-7519(02)00059-0  "
      ]
     },
     "execution_count": 48,
     "metadata": {},
     "output_type": "execute_result"
    }
   ],
   "source": [
    "#Look at evidence file\n",
    "df_evidence"
   ]
  },
  {
   "cell_type": "code",
   "execution_count": null,
   "metadata": {},
   "outputs": [],
   "source": []
  }
 ],
 "metadata": {
  "kernelspec": {
   "display_name": "Python 3",
   "language": "python",
   "name": "python3"
  },
  "language_info": {
   "codemirror_mode": {
    "name": "ipython",
    "version": 3
   },
   "file_extension": ".py",
   "mimetype": "text/x-python",
   "name": "python",
   "nbconvert_exporter": "python",
   "pygments_lexer": "ipython3",
   "version": "3.8.6"
  },
  "orig_nbformat": 4
 },
 "nbformat": 4,
 "nbformat_minor": 2
}
