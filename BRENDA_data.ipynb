{
 "cells": [
  {
   "cell_type": "code",
   "execution_count": 1,
   "metadata": {},
   "outputs": [],
   "source": [
    "import pandas as pd\n",
    "import re\n",
    "import html\n",
    "import numpy as np"
   ]
  },
  {
   "attachments": {},
   "cell_type": "markdown",
   "metadata": {},
   "source": [
    "### Load and clean original data"
   ]
  },
  {
   "cell_type": "code",
   "execution_count": 2,
   "metadata": {},
   "outputs": [],
   "source": [
    "df_act = pd.read_excel('Allosteric_interactions_BRENDA.xlsx', sheet_name='Activators', names=['EC', 'Enz', 'Met', 'Org', 'Mode'], usecols='A,B,C,E,I')\n",
    "df_inh = pd.read_excel('Allosteric_interactions_BRENDA.xlsx', sheet_name='Inhibitors', names=['EC', 'Enz', 'Met', 'Org', 'Mode'], usecols='A,B,C,E,I')\n",
    "\n",
    "#Remove metabolites named \"additional information\" and data from viruses, and limit species name to two names\n",
    "df_act = df_act[~df_act['Org'].str.contains('virus')]\n",
    "df_act = df_act[~df_act['Met'].str.contains('additional information')]\n",
    "df_act['Org'] = df_act['Org'].apply(lambda x: ' '.join(x.split()[:2]))\n",
    "\n",
    "df_inh.Org = df_inh.Org.fillna('')\n",
    "df_inh = df_inh[~df_inh['Org'].str.contains('virus')]\n",
    "df_inh = df_inh[~df_inh['Met'].str.contains('additional information')]\n",
    "df_inh['Org'] = df_inh['Org'].apply(lambda x: ' '.join(x.split()[:2]))\n",
    "\n",
    "#Save the cleaned dataframes to csv\n",
    "df_act.to_csv('activators_clean.csv')\n",
    "df_inh.to_csv('inhibitors_clean.csv')"
   ]
  },
  {
   "cell_type": "code",
   "execution_count": null,
   "metadata": {},
   "outputs": [],
   "source": []
  }
 ],
 "metadata": {
  "kernelspec": {
   "display_name": "Python 3",
   "language": "python",
   "name": "python3"
  },
  "language_info": {
   "codemirror_mode": {
    "name": "ipython",
    "version": 3
   },
   "file_extension": ".py",
   "mimetype": "text/x-python",
   "name": "python",
   "nbconvert_exporter": "python",
   "pygments_lexer": "ipython3",
   "version": "3.8.6"
  },
  "orig_nbformat": 4,
  "vscode": {
   "interpreter": {
    "hash": "436b2daae35b1d81a27495251f54690ee226a662a175ea582d303ed01ff4427f"
   }
  }
 },
 "nbformat": 4,
 "nbformat_minor": 2
}
